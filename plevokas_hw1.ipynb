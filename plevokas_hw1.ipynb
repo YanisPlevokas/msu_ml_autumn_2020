{
 "cells": [
  {
   "cell_type": "markdown",
   "metadata": {},
   "source": [
    "**Общая информация**\n",
    "\n",
    "**Срок сдачи:** 21 октября 2020, 08:30 \n",
    "\n",
    "**Штраф за опоздание:** по 1 баллу за 24 часа задержки. Через 5 дней домашнее задание сгорает.\n",
    "\n",
    "При отправлении ДЗ указывайте фамилию в названии файла\n",
    "Присылать ДЗ необходимо в виде ссылки на свой github репозиторий на почту ml1.sphere@mail.ru с указанием темы в следующем формате:\n",
    "\n",
    "[ML0220, Задание 1] Фамилия Имя.\n",
    "\n",
    "Используйте данный Ipython Notebook при оформлении домашнего задания."
   ]
  },
  {
   "cell_type": "markdown",
   "metadata": {},
   "source": [
    "\n",
    "**Штрафные баллы:**\n",
    "\n",
    "1. Отсутствие фамилии в имени скрипта (скрипт должен называться по аналогии со stroykova_hw1.ipynb) -0.5 баллов\n",
    "2. Все строчки должны быть выполнены. Нужно, чтобы output команды можно было увидеть уже в git'е. В противном случае -0.5 баллов\n"
   ]
  },
  {
   "cell_type": "code",
   "execution_count": 2,
   "metadata": {},
   "outputs": [],
   "source": [
    "import numpy as np\n",
    "import matplotlib.pyplot as plt\n",
    "import re\n",
    "\n",
    "import seaborn as sns\n",
    "from sklearn import datasets\n",
    "from sklearn.base import BaseEstimator\n",
    "from sklearn.datasets import fetch_openml, fetch_20newsgroups\n",
    "from sklearn.neighbors import KDTree\n",
    "from sklearn.model_selection import RepeatedKFold\n",
    "from sklearn.feature_extraction.text import CountVectorizer\n",
    "\n",
    "from sklearn.model_selection import KFold\n",
    "from sklearn.model_selection import train_test_split\n",
    "from sklearn.neighbors import KNeighborsClassifier\n",
    "from sklearn.metrics import accuracy_score\n",
    "from sklearn.metrics import pairwise_distances\n",
    "from sklearn.model_selection import cross_val_score\n",
    "from sklearn.feature_extraction.text import TfidfVectorizer\n",
    "\n",
    "\n",
    "from scipy import spatial"
   ]
  },
  {
   "cell_type": "markdown",
   "metadata": {},
   "source": [
    "##### Задание 1 (1 балл)\n",
    "Реализовать KNN в классе MyKNeighborsClassifier (обязательное условие: точность не ниже sklearn реализации)\n",
    "Разберитесь самостоятельно, какая мера расстояния используется в KNeighborsClassifier дефолтно и реализуйте свой алгоритм именно с этой мерой. \n",
    "Для подсчета расстояний можно использовать функции [отсюда](https://docs.scipy.org/doc/scipy/reference/spatial.distance.html)"
   ]
  },
  {
   "cell_type": "code",
   "execution_count": 3,
   "metadata": {},
   "outputs": [],
   "source": [
    "class MyKNeighborsClassifier(BaseEstimator):\n",
    "    \n",
    "    def __init__(self, n_neighbors, algorithm='brute', metric='euclidean'):\n",
    "        self.n_neighbors = n_neighbors\n",
    "        self.algorithm = algorithm\n",
    "        self.metric = metric\n",
    "        \n",
    "    def fit(self, X, y):\n",
    "        if self.algorithm == 'brute':\n",
    "            if (type(X) != np.ndarray):\n",
    "                self.x_train = X.toarray()\n",
    "            else:\n",
    "                self.x_train = X\n",
    "            self.x_train = (self.x_train - np.mean(self.x_train, axis = 0)) / np.std(self.x_train, axis = 0)\n",
    "            \n",
    "        elif self.algorithm == 'kd_tree':\n",
    "            if (type(X) != np.ndarray):\n",
    "                self.x_train_tree = X.toarray()\n",
    "            else:\n",
    "                self.x_train_tree = X\n",
    "            self.x_train_tree = KDTree((X - np.mean(X, axis = 0)) / np.std(X, axis = 0))\n",
    "        self.y_train = y\n",
    "        \n",
    "    def predict(self, X):\n",
    "        if (type(X) != np.ndarray):\n",
    "            self.x_test = X.toarray()\n",
    "        else:\n",
    "            self.x_test = X\n",
    "        self.x_test = (self.x_test - np.mean(self.x_test, axis = 0)) / np.std(self.x_test, axis = 0)\n",
    "        \n",
    "        if self.algorithm == 'brute':\n",
    "            distant = pairwise_distances(self.x_test, self.x_train, metric = self.metric)\n",
    "            \n",
    "            distant =  np.argpartition(distant, self.n_neighbors, axis=1)\n",
    "            \n",
    "            priznaki = self.y_train[distant][:, 0:self.n_neighbors]\n",
    "            \n",
    "        elif self.algorithm == 'kd_tree':\n",
    "            \n",
    "            distant, indices = self.x_train_tree.query(self.x_test, self.n_neighbors)\n",
    "            \n",
    "            priznaki = self.y_train[indices]\n",
    "        \n",
    "        indices = np.unique(priznaki, return_inverse=True)\n",
    "        \n",
    "        return indices[0][np.argmax(np.apply_along_axis(np.bincount, 1, priznaki, None, np.max(indices[1]) + 1), axis=1)]\n",
    "            "
   ]
  },
  {
   "cell_type": "markdown",
   "metadata": {},
   "source": [
    "**IRIS**\n",
    "\n",
    "В библиотеке scikit-learn есть несколько датасетов из коробки. Один из них [Ирисы Фишера](https://ru.wikipedia.org/wiki/%D0%98%D1%80%D0%B8%D1%81%D1%8B_%D0%A4%D0%B8%D1%88%D0%B5%D1%80%D0%B0)"
   ]
  },
  {
   "cell_type": "code",
   "execution_count": 4,
   "metadata": {},
   "outputs": [],
   "source": [
    "iris = datasets.load_iris()"
   ]
  },
  {
   "cell_type": "code",
   "execution_count": 5,
   "metadata": {},
   "outputs": [],
   "source": [
    "X_train, X_test, y_train, y_test = train_test_split(iris.data, iris.target, test_size=0.1, stratify=iris.target)"
   ]
  },
  {
   "cell_type": "code",
   "execution_count": 6,
   "metadata": {},
   "outputs": [],
   "source": [
    "clf = KNeighborsClassifier(n_neighbors=2, algorithm='brute')\n",
    "my_clf = MyKNeighborsClassifier(n_neighbors=2, algorithm='brute')"
   ]
  },
  {
   "cell_type": "code",
   "execution_count": 7,
   "metadata": {},
   "outputs": [],
   "source": [
    "clf.fit(X_train, y_train)\n",
    "my_clf.fit(X_train, y_train)"
   ]
  },
  {
   "cell_type": "code",
   "execution_count": 8,
   "metadata": {},
   "outputs": [],
   "source": [
    "sklearn_pred = clf.predict(X_test)\n",
    "my_clf_pred = my_clf.predict(X_test)\n",
    "assert abs( accuracy_score(y_test, my_clf_pred) -  accuracy_score(y_test, sklearn_pred ) )<0.005, 'Score must be equal'"
   ]
  },
  {
   "cell_type": "code",
   "execution_count": 9,
   "metadata": {},
   "outputs": [
    {
     "name": "stdout",
     "output_type": "stream",
     "text": [
      "201 better 588 equal\n"
     ]
    }
   ],
   "source": [
    "counter_better = 0\n",
    "counter_equal = 0\n",
    "for i in range(1000):\n",
    "    X_train, X_test, y_train, y_test = train_test_split(iris.data, iris.target, test_size=0.1, stratify=iris.target)\n",
    "    clf = KNeighborsClassifier(n_neighbors=2, algorithm='brute')\n",
    "    my_clf = MyKNeighborsClassifier(n_neighbors=2, algorithm='brute')\n",
    "    clf.fit(X_train, y_train)\n",
    "    my_clf.fit(X_train, y_train)\n",
    "    sklearn_pred = clf.predict(X_test)\n",
    "    my_clf_pred = my_clf.predict(X_test)\n",
    "    \n",
    "    if accuracy_score(y_test, my_clf_pred) >  accuracy_score(y_test, sklearn_pred ):\n",
    "        counter_better += 1\n",
    "    elif accuracy_score(y_test, my_clf_pred) == accuracy_score(y_test, sklearn_pred ):\n",
    "        counter_equal += 1\n",
    "print(counter_better, 'better', counter_equal, 'equal')"
   ]
  },
  {
   "cell_type": "markdown",
   "metadata": {},
   "source": [
    "**Задание 2 (0.5 балла)**\n",
    "\n",
    "Давайте попробуем добиться скорости работы на fit, predict сравнимой со sklearn для iris. Допускается замедление не более чем в 2 раза. \n",
    "Для этого используем numpy. "
   ]
  },
  {
   "cell_type": "code",
   "execution_count": 10,
   "metadata": {},
   "outputs": [
    {
     "name": "stdout",
     "output_type": "stream",
     "text": [
      "CPU times: user 562 µs, sys: 125 µs, total: 687 µs\n",
      "Wall time: 607 µs\n"
     ]
    },
    {
     "data": {
      "text/plain": [
       "KNeighborsClassifier(algorithm='brute', n_neighbors=2)"
      ]
     },
     "execution_count": 10,
     "metadata": {},
     "output_type": "execute_result"
    }
   ],
   "source": [
    "%time clf.fit(X_train, y_train)"
   ]
  },
  {
   "cell_type": "code",
   "execution_count": 11,
   "metadata": {},
   "outputs": [
    {
     "name": "stdout",
     "output_type": "stream",
     "text": [
      "CPU times: user 458 µs, sys: 536 µs, total: 994 µs\n",
      "Wall time: 815 µs\n"
     ]
    }
   ],
   "source": [
    "%time my_clf.fit(X_train, y_train)"
   ]
  },
  {
   "cell_type": "code",
   "execution_count": 12,
   "metadata": {},
   "outputs": [
    {
     "name": "stdout",
     "output_type": "stream",
     "text": [
      "CPU times: user 1.98 ms, sys: 646 µs, total: 2.63 ms\n",
      "Wall time: 2.33 ms\n"
     ]
    },
    {
     "data": {
      "text/plain": [
       "array([1, 1, 1, 2, 0, 2, 1, 0, 0, 1, 1, 0, 2, 0, 1])"
      ]
     },
     "execution_count": 12,
     "metadata": {},
     "output_type": "execute_result"
    }
   ],
   "source": [
    "%time clf.predict(X_test)"
   ]
  },
  {
   "cell_type": "code",
   "execution_count": 13,
   "metadata": {},
   "outputs": [
    {
     "name": "stdout",
     "output_type": "stream",
     "text": [
      "CPU times: user 1.21 ms, sys: 376 µs, total: 1.59 ms\n",
      "Wall time: 1.38 ms\n"
     ]
    },
    {
     "data": {
      "text/plain": [
       "array([2, 1, 1, 2, 0, 2, 1, 0, 0, 1, 1, 0, 2, 0, 2])"
      ]
     },
     "execution_count": 13,
     "metadata": {},
     "output_type": "execute_result"
    }
   ],
   "source": [
    "%time my_clf.predict(X_test)"
   ]
  },
  {
   "cell_type": "markdown",
   "metadata": {},
   "source": [
    "###### Задание 3 (1 балл)\n",
    "Добавьте algorithm='kd_tree' в реализацию KNN (использовать KDTree из sklearn.neighbors). Необходимо добиться скорости работы на fit,  predict сравнимой со sklearn для iris. Допускается замедление не более чем в 2 раза. \n",
    "Для этого используем numpy. Точность не должна уступать значению KNN из sklearn. "
   ]
  },
  {
   "cell_type": "code",
   "execution_count": 14,
   "metadata": {},
   "outputs": [],
   "source": [
    "clf = KNeighborsClassifier(n_neighbors=2, algorithm='kd_tree')\n",
    "my_clf = MyKNeighborsClassifier(n_neighbors=2, algorithm='kd_tree')"
   ]
  },
  {
   "cell_type": "code",
   "execution_count": 15,
   "metadata": {},
   "outputs": [],
   "source": [
    "X_train, X_test, y_train, y_test = train_test_split(iris.data, iris.target, test_size=0.1, stratify=iris.target)"
   ]
  },
  {
   "cell_type": "code",
   "execution_count": 16,
   "metadata": {},
   "outputs": [
    {
     "name": "stdout",
     "output_type": "stream",
     "text": [
      "CPU times: user 908 µs, sys: 556 µs, total: 1.46 ms\n",
      "Wall time: 1.47 ms\n"
     ]
    },
    {
     "data": {
      "text/plain": [
       "KNeighborsClassifier(algorithm='kd_tree', n_neighbors=2)"
      ]
     },
     "execution_count": 16,
     "metadata": {},
     "output_type": "execute_result"
    }
   ],
   "source": [
    "%time clf.fit(X_train, y_train)"
   ]
  },
  {
   "cell_type": "code",
   "execution_count": 17,
   "metadata": {},
   "outputs": [
    {
     "name": "stdout",
     "output_type": "stream",
     "text": [
      "CPU times: user 549 µs, sys: 208 µs, total: 757 µs\n",
      "Wall time: 608 µs\n"
     ]
    }
   ],
   "source": [
    "%time my_clf.fit(X_train, y_train)"
   ]
  },
  {
   "cell_type": "code",
   "execution_count": 18,
   "metadata": {},
   "outputs": [
    {
     "name": "stdout",
     "output_type": "stream",
     "text": [
      "CPU times: user 1.95 ms, sys: 73 µs, total: 2.02 ms\n",
      "Wall time: 2.37 ms\n"
     ]
    },
    {
     "data": {
      "text/plain": [
       "array([2, 1, 1, 1, 2, 1, 2, 0, 0, 0, 2, 2, 0, 0, 1])"
      ]
     },
     "execution_count": 18,
     "metadata": {},
     "output_type": "execute_result"
    }
   ],
   "source": [
    "%time clf.predict(X_test)"
   ]
  },
  {
   "cell_type": "code",
   "execution_count": 19,
   "metadata": {},
   "outputs": [
    {
     "name": "stdout",
     "output_type": "stream",
     "text": [
      "CPU times: user 765 µs, sys: 263 µs, total: 1.03 ms\n",
      "Wall time: 829 µs\n"
     ]
    },
    {
     "data": {
      "text/plain": [
       "array([2, 1, 1, 1, 2, 1, 2, 0, 0, 0, 2, 2, 0, 0, 1])"
      ]
     },
     "execution_count": 19,
     "metadata": {},
     "output_type": "execute_result"
    }
   ],
   "source": [
    "%time my_clf.predict(X_test)"
   ]
  },
  {
   "cell_type": "code",
   "execution_count": 20,
   "metadata": {},
   "outputs": [],
   "source": [
    "sklearn_pred = clf.predict(X_test)\n",
    "my_clf_pred = my_clf.predict(X_test)\n",
    "assert abs( accuracy_score(y_test, my_clf_pred) -  accuracy_score(y_test, sklearn_pred ) )<0.005, \"Score must be simillar\""
   ]
  },
  {
   "cell_type": "code",
   "execution_count": 21,
   "metadata": {},
   "outputs": [
    {
     "name": "stdout",
     "output_type": "stream",
     "text": [
      "225 better 577 equal\n"
     ]
    }
   ],
   "source": [
    "counter_better = 0\n",
    "counter_equal = 0\n",
    "for i in range(1000):\n",
    "    X_train, X_test, y_train, y_test = train_test_split(iris.data, iris.target, test_size=0.1, stratify=iris.target)\n",
    "    clf = KNeighborsClassifier(n_neighbors=2, algorithm='kd_tree')\n",
    "    my_clf = MyKNeighborsClassifier(n_neighbors=2, algorithm='kd_tree')\n",
    "    clf.fit(X_train, y_train)\n",
    "    my_clf.fit(X_train, y_train)\n",
    "    sklearn_pred = clf.predict(X_test)\n",
    "    my_clf_pred = my_clf.predict(X_test)\n",
    "    if accuracy_score(y_test, my_clf_pred) >  accuracy_score(y_test, sklearn_pred ):\n",
    "        counter_better += 1\n",
    "    elif accuracy_score(y_test, my_clf_pred) == accuracy_score(y_test, sklearn_pred ):\n",
    "        counter_equal += 1\n",
    "print(counter_better, 'better', counter_equal, 'equal')"
   ]
  },
  {
   "cell_type": "markdown",
   "metadata": {},
   "source": [
    "**Задание 4 (2.5 балла)**\n",
    "\n",
    "Рассмотрим новый датасет 20 newsgroups"
   ]
  },
  {
   "cell_type": "code",
   "execution_count": 22,
   "metadata": {},
   "outputs": [],
   "source": [
    "newsgroups = fetch_20newsgroups(subset='train',remove=['headers','footers', 'quotes'])"
   ]
  },
  {
   "cell_type": "code",
   "execution_count": 23,
   "metadata": {},
   "outputs": [],
   "source": [
    "data = newsgroups['data']\n",
    "target = newsgroups['target']"
   ]
  },
  {
   "cell_type": "markdown",
   "metadata": {},
   "source": [
    "Преобразуйте текстовые данные из data с помощью [CountVectorizer](https://scikit-learn.org/stable/modules/generated/sklearn.feature_extraction.text.CountVectorizer.html). Словарь можно ограничить по частотности."
   ]
  },
  {
   "cell_type": "code",
   "execution_count": 24,
   "metadata": {},
   "outputs": [
    {
     "name": "stderr",
     "output_type": "stream",
     "text": [
      "IOPub data rate exceeded.\n",
      "The notebook server will temporarily stop sending output\n",
      "to the client in order to avoid crashing it.\n",
      "To change this limit, set the config variable\n",
      "`--NotebookApp.iopub_data_rate_limit`.\n",
      "\n",
      "Current values:\n",
      "NotebookApp.iopub_data_rate_limit=1000000.0 (bytes/sec)\n",
      "NotebookApp.rate_limit_window=3.0 (secs)\n",
      "\n"
     ]
    }
   ],
   "source": [
    "#data = [re.sub(r'[^0-9a-zA-Z@]+', ' ', text) for text in data]\n",
    "vectorize = CountVectorizer(data, min_df = 0.005)\n",
    "vectorizer = TfidfVectorizer(data, min_df = 0.005)"
   ]
  },
  {
   "cell_type": "code",
   "execution_count": 25,
   "metadata": {},
   "outputs": [],
   "source": [
    "matrix_tfidf = vectorizer.fit_transform(data)\n",
    "matrix = vectorize.fit_transform(data)"
   ]
  },
  {
   "cell_type": "markdown",
   "metadata": {},
   "source": [
    "*Так мы получили векторное представление наших текстов. Значит можно приступать к задаче обучения модели*"
   ]
  },
  {
   "cell_type": "markdown",
   "metadata": {},
   "source": [
    "Реализуйте разбиение выборки для кросс-валидации на 3 фолдах. Разрешено использовать sklearn.cross_validation"
   ]
  },
  {
   "cell_type": "code",
   "execution_count": 26,
   "metadata": {},
   "outputs": [],
   "source": [
    "rkf = KFold(n_splits=3)\n",
    "test = rkf.split(matrix)"
   ]
  },
  {
   "cell_type": "markdown",
   "metadata": {},
   "source": [
    "Напишите метод, позволяющий найти оптимальное количество ближайших соседей(дающее максимальную точность в среднем на валидации на 3 фолдах).\n",
    "Постройте график зависимости средней точности от количества соседей. Можно рассмотреть число соседей от 1 до 10."
   ]
  },
  {
   "cell_type": "code",
   "execution_count": 27,
   "metadata": {},
   "outputs": [],
   "source": [
    "def calculate_optimal(X, y, alg='brute', metr='euclidean'):\n",
    "    scores = np.array(range(19), dtype=float)\n",
    "    for n in range(1, 20):\n",
    "        print(n, 'iteration')\n",
    "        rkf = KFold(n_splits=3, shuffle = True)\n",
    "        test = rkf.split(X)\n",
    "        my_clf = MyKNeighborsClassifier(n_neighbors=n+1, algorithm=alg, metric=metr)\n",
    "        curr_result = []\n",
    "        for training, testing in test:\n",
    "            training_X, training_Y = X[training], y[training]\n",
    "            testing_X, testing_Y = X[testing], y[testing]\n",
    "            my_clf.fit(training_X, training_Y)\n",
    "            my_clf_pred = my_clf.predict(testing_X)\n",
    "            curr_result.append(accuracy_score(testing_Y, my_clf_pred))\n",
    "            print(accuracy_score(testing_Y, my_clf_pred), ' number of neighbours -', n+1)\n",
    "        scores[n-1] = np.mean(curr_result)\n",
    "    return scores"
   ]
  },
  {
   "cell_type": "code",
   "execution_count": 28,
   "metadata": {},
   "outputs": [
    {
     "name": "stdout",
     "output_type": "stream",
     "text": [
      "1 iteration\n",
      "0.3430540827147402  number of neighbours - 2\n",
      "0.34394059931052773  number of neighbours - 2\n",
      "0.33598514982763195  number of neighbours - 2\n",
      "2 iteration\n",
      "0.36002120890774125  number of neighbours - 3\n",
      "0.3577300450808804  number of neighbours - 3\n",
      "0.36011667992574914  number of neighbours - 3\n",
      "3 iteration\n",
      "0.3860021208907741  number of neighbours - 4\n",
      "0.38663484486873506  number of neighbours - 4\n",
      "0.38292230177671704  number of neighbours - 4\n",
      "4 iteration\n",
      "0.3883881230116649  number of neighbours - 5\n",
      "0.39856801909307876  number of neighbours - 5\n",
      "0.4126226465128613  number of neighbours - 5\n",
      "5 iteration\n",
      "0.418610816542948  number of neighbours - 6\n",
      "0.4173959162025988  number of neighbours - 6\n",
      "0.4147440997083002  number of neighbours - 6\n",
      "6 iteration\n",
      "0.43080593849416754  number of neighbours - 7\n",
      "0.4277380005303633  number of neighbours - 7\n",
      "0.41766109785202865  number of neighbours - 7\n",
      "7 iteration\n",
      "0.4361081654294804  number of neighbours - 8\n",
      "0.43463272341553966  number of neighbours - 8\n",
      "0.42720763723150357  number of neighbours - 8\n",
      "8 iteration\n",
      "0.4496288441145281  number of neighbours - 9\n",
      "0.4335719968178202  number of neighbours - 9\n",
      "0.4380800848581278  number of neighbours - 9\n",
      "9 iteration\n",
      "0.4634146341463415  number of neighbours - 10\n",
      "0.4526650755767701  number of neighbours - 10\n",
      "0.4447096260938743  number of neighbours - 10\n",
      "10 iteration\n",
      "0.4493637327677625  number of neighbours - 11\n",
      "0.4611508883585256  number of neighbours - 11\n",
      "0.45796870856536726  number of neighbours - 11\n",
      "11 iteration\n",
      "0.45890774125132555  number of neighbours - 12\n",
      "0.4643330681516839  number of neighbours - 12\n",
      "0.45743834526650756  number of neighbours - 12\n",
      "12 iteration\n",
      "0.4711028632025451  number of neighbours - 13\n",
      "0.4592946168125166  number of neighbours - 13\n",
      "0.4680456112437019  number of neighbours - 13\n",
      "13 iteration\n",
      "0.47057264050901376  number of neighbours - 14\n",
      "0.46592415804826304  number of neighbours - 14\n",
      "0.46592415804826304  number of neighbours - 14\n",
      "14 iteration\n",
      "0.47057264050901376  number of neighbours - 15\n",
      "0.4677804295942721  number of neighbours - 15\n",
      "0.46990188278971096  number of neighbours - 15\n",
      "15 iteration\n",
      "0.4708377518557794  number of neighbours - 16\n",
      "0.4680456112437019  number of neighbours - 16\n",
      "0.48316096526120395  number of neighbours - 16\n",
      "16 iteration\n",
      "0.4817073170731707  number of neighbours - 17\n",
      "0.4789180588703262  number of neighbours - 17\n",
      "0.5030495889684434  number of neighbours - 17\n",
      "17 iteration\n",
      "0.4817073170731707  number of neighbours - 18\n",
      "0.4897905064969504  number of neighbours - 18\n",
      "0.4799787854680456  number of neighbours - 18\n",
      "18 iteration\n",
      "0.48382820784729585  number of neighbours - 19\n",
      "0.494298594537258  number of neighbours - 19\n",
      "0.4911164147440997  number of neighbours - 19\n",
      "19 iteration\n",
      "0.4923117709437964  number of neighbours - 20\n",
      "0.4858127817555025  number of neighbours - 20\n",
      "0.4958896844338372  number of neighbours - 20\n"
     ]
    },
    {
     "data": {
      "text/plain": [
       "array([0.34099328, 0.35928931, 0.38518642, 0.3998596 , 0.41691694,\n",
       "       0.42540168, 0.43264951, 0.44042698, 0.45359645, 0.45616111,\n",
       "       0.46022638, 0.4661477 , 0.46747365, 0.46941832, 0.47401478,\n",
       "       0.48789165, 0.48382554, 0.48974774, 0.49133808])"
      ]
     },
     "execution_count": 28,
     "metadata": {},
     "output_type": "execute_result"
    }
   ],
   "source": [
    "new_brute_cosine_tfidf = calculate_optimal(matrix_tfidf, target, alg = 'brute', metr = 'cosine')\n",
    "new_brute_cosine_tfidf"
   ]
  },
  {
   "cell_type": "code",
   "execution_count": 29,
   "metadata": {},
   "outputs": [
    {
     "name": "stdout",
     "output_type": "stream",
     "text": [
      "18 0.4913380790443787\n"
     ]
    }
   ],
   "source": [
    "print(new_brute_cosine_tfidf.argmax() ,new_brute_cosine_tfidf[new_brute_cosine_tfidf.argmax()])"
   ]
  },
  {
   "cell_type": "code",
   "execution_count": 30,
   "metadata": {},
   "outputs": [
    {
     "data": {
      "text/plain": [
       "[<matplotlib.lines.Line2D at 0x7f88fc535490>]"
      ]
     },
     "execution_count": 30,
     "metadata": {},
     "output_type": "execute_result"
    },
    {
     "data": {
      "image/png": "[encoded data removed]",
      "text/plain": [
       "<Figure size 432x288 with 1 Axes>"
      ]
     },
     "metadata": {
      "needs_background": "light"
     },
     "output_type": "display_data"
    }
   ],
   "source": [
    "x = np.arange(2, 21, 1)\n",
    "plt.plot(x, new_brute_cosine_tfidf)"
   ]
  },
  {
   "cell_type": "code",
   "execution_count": 31,
   "metadata": {},
   "outputs": [
    {
     "name": "stdout",
     "output_type": "stream",
     "text": [
      "30 iteration\n",
      "0.5214740190880169  number of neighbours - 30\n",
      "0.5165738530893662  number of neighbours - 30\n",
      "0.5064969504110316  number of neighbours - 30\n",
      "40 iteration\n",
      "0.5196182396606575  number of neighbours - 40\n",
      "0.5269159374171307  number of neighbours - 40\n",
      "0.5308936621585786  number of neighbours - 40\n",
      "50 iteration\n",
      "0.5490455991516436  number of neighbours - 50\n",
      "0.5330151153540175  number of neighbours - 50\n",
      "0.5348713869000266  number of neighbours - 50\n",
      "60 iteration\n",
      "0.5397667020148462  number of neighbours - 60\n",
      "0.5558207372049854  number of neighbours - 60\n",
      "0.5510474675152479  number of neighbours - 60\n",
      "70 iteration\n",
      "0.5546129374337222  number of neighbours - 70\n",
      "0.5518430124635375  number of neighbours - 70\n",
      "0.5523733757623972  number of neighbours - 70\n",
      "80 iteration\n",
      "0.5612407211028632  number of neighbours - 80\n",
      "0.5523733757623972  number of neighbours - 80\n",
      "0.5576770087509945  number of neighbours - 80\n",
      "90 iteration\n",
      "0.5567338282078473  number of neighbours - 90\n",
      "0.5672235481304694  number of neighbours - 90\n",
      "0.5693450013259083  number of neighbours - 90\n",
      "100 iteration\n",
      "0.5805938494167551  number of neighbours - 100\n",
      "0.5481304693715194  number of neighbours - 100\n",
      "0.5727923627684964  number of neighbours - 100\n",
      "110 iteration\n",
      "0.5654825026511134  number of neighbours - 110\n",
      "0.5661628215327499  number of neighbours - 110\n",
      "0.5656324582338902  number of neighbours - 110\n",
      "120 iteration\n",
      "0.5596500530222693  number of neighbours - 120\n",
      "0.5629806417395916  number of neighbours - 120\n",
      "0.5717316361707769  number of neighbours - 120\n",
      "130 iteration\n",
      "0.5644220572640509  number of neighbours - 130\n",
      "0.5786263590559533  number of neighbours - 130\n",
      "0.569875364624768  number of neighbours - 130\n",
      "140 iteration\n",
      "0.5660127253446448  number of neighbours - 140\n",
      "0.5799522673031027  number of neighbours - 140\n",
      "0.5730575444179263  number of neighbours - 140\n",
      "150 iteration\n",
      "0.5811240721102863  number of neighbours - 150\n",
      "0.5804826306019624  number of neighbours - 150\n",
      "0.575444179262795  number of neighbours - 150\n",
      "160 iteration\n",
      "0.5577942735949099  number of neighbours - 160\n",
      "0.5873773534871387  number of neighbours - 160\n",
      "0.5783611774065235  number of neighbours - 160\n",
      "170 iteration\n",
      "0.5890774125132555  number of neighbours - 170\n",
      "0.5658976398833201  number of neighbours - 170\n",
      "0.5857862635905595  number of neighbours - 170\n",
      "180 iteration\n",
      "0.5893425238600212  number of neighbours - 180\n",
      "0.5794219040042429  number of neighbours - 180\n",
      "0.5576770087509945  number of neighbours - 180\n",
      "190 iteration\n",
      "0.5829798515376459  number of neighbours - 190\n",
      "0.5666931848316097  number of neighbours - 190\n",
      "0.5802174489525325  number of neighbours - 190\n"
     ]
    }
   ],
   "source": [
    "i = np.arange(30,200,10)\n",
    "scores = np.array(range(len(i)), dtype=float)\n",
    "k = 0\n",
    "for n in i:\n",
    "    print(n, 'iteration')\n",
    "    rkf = KFold(n_splits=3, shuffle = True)\n",
    "    test = rkf.split(matrix_tfidf)\n",
    "    test_clf = MyKNeighborsClassifier(n_neighbors=n, algorithm='brute', metric='cosine')\n",
    "    curr_result = []\n",
    "    for training, testing in test:\n",
    "        training_X, training_Y = matrix_tfidf[training], target[training]\n",
    "        testing_X, testing_Y = matrix_tfidf[testing], target[testing]\n",
    "        test_clf.fit(training_X, training_Y)\n",
    "        test_clf_pred = test_clf.predict(testing_X)\n",
    "        curr_result.append(accuracy_score(testing_Y, test_clf_pred))\n",
    "        print(accuracy_score(testing_Y, test_clf_pred), ' number of neighbours -', n)\n",
    "    scores[k] = np.mean(curr_result)\n",
    "    k += 1"
   ]
  },
  {
   "cell_type": "code",
   "execution_count": 32,
   "metadata": {},
   "outputs": [
    {
     "data": {
      "text/plain": [
       "[<matplotlib.lines.Line2D at 0x7f88e8671f70>]"
      ]
     },
     "execution_count": 32,
     "metadata": {},
     "output_type": "execute_result"
    },
    {
     "data": {
      "image/png": "[encoded data removed]",
      "text/plain": [
       "<Figure size 432x288 with 1 Axes>"
      ]
     },
     "metadata": {
      "needs_background": "light"
     },
     "output_type": "display_data"
    }
   ],
   "source": [
    "plt.plot(i, scores)"
   ]
  },
  {
   "cell_type": "markdown",
   "metadata": {},
   "source": [
    "Чем больше соседей - тем значение лучше, возьмем 170."
   ]
  },
  {
   "cell_type": "markdown",
   "metadata": {},
   "source": [
    "Как изменится качество на валидации, если:\n",
    "\n",
    "1. Используется косинусная метрика вместо евклидовой.\n",
    "2. К текстам применяется TfIdf векторизацию( sklearn.feature_extraction.text.TfidfVectorizer)\n",
    "\n",
    "Сравните модели, выберите лучшую."
   ]
  },
  {
   "cell_type": "markdown",
   "metadata": {},
   "source": [
    "Загрузим  теперь test  часть нашей выборки и преобразуем её аналогично с train частью. Не забудьте, что наборы слов в train и test части могут отличаться."
   ]
  },
  {
   "cell_type": "code",
   "execution_count": 33,
   "metadata": {},
   "outputs": [],
   "source": [
    "newsgroups_test = fetch_20newsgroups(subset='test',remove=['headers','footers', 'quotes'])"
   ]
  },
  {
   "cell_type": "markdown",
   "metadata": {},
   "source": [
    "Оценим точность вашей лучшей модели на test части датасета. Отличается ли оно от кросс-валидации? Попробуйте сделать выводы, почему отличается качество."
   ]
  },
  {
   "cell_type": "code",
   "execution_count": 34,
   "metadata": {},
   "outputs": [],
   "source": [
    "new_data = newsgroups_test['data']\n",
    "new_target = newsgroups_test['target']"
   ]
  },
  {
   "cell_type": "code",
   "execution_count": 35,
   "metadata": {},
   "outputs": [
    {
     "name": "stderr",
     "output_type": "stream",
     "text": [
      "IOPub data rate exceeded.\n",
      "The notebook server will temporarily stop sending output\n",
      "to the client in order to avoid crashing it.\n",
      "To change this limit, set the config variable\n",
      "`--NotebookApp.iopub_data_rate_limit`.\n",
      "\n",
      "Current values:\n",
      "NotebookApp.iopub_data_rate_limit=1000000.0 (bytes/sec)\n",
      "NotebookApp.rate_limit_window=3.0 (secs)\n",
      "\n"
     ]
    }
   ],
   "source": [
    "vectorizer_test = TfidfVectorizer(new_data, min_df = 0.005)"
   ]
  },
  {
   "cell_type": "code",
   "execution_count": 36,
   "metadata": {},
   "outputs": [],
   "source": [
    "matrix_test_tfidf = vectorizer_test.fit_transform(new_data)"
   ]
  },
  {
   "cell_type": "code",
   "execution_count": 37,
   "metadata": {},
   "outputs": [
    {
     "name": "stdout",
     "output_type": "stream",
     "text": [
      "0.5507765830346476  number of neighbours - 110\n",
      "0.5623257666268419  number of neighbours - 110\n",
      "0.5462151394422311  number of neighbours - 110\n"
     ]
    }
   ],
   "source": [
    "rkf = KFold(n_splits=3, shuffle = True)\n",
    "test = rkf.split(matrix_test_tfidf)\n",
    "my_clf = MyKNeighborsClassifier(n_neighbors=170, algorithm='brute', metric='cosine')\n",
    "curr_result = []\n",
    "for training, testing in test:\n",
    "    training_X, training_Y = matrix_test_tfidf[training], new_target[training]\n",
    "    testing_X, testing_Y = matrix_test_tfidf[testing], new_target[testing]\n",
    "    my_clf.fit(training_X, training_Y)\n",
    "    my_clf_pred = my_clf.predict(testing_X)\n",
    "    curr_result.append(accuracy_score(testing_Y, my_clf_pred))\n",
    "    print(accuracy_score(testing_Y, my_clf_pred), ' number of neighbours -', 110)"
   ]
  },
  {
   "cell_type": "markdown",
   "metadata": {},
   "source": [
    "Ненамного отличается."
   ]
  }
 ],
 "metadata": {
  "kernelspec": {
   "display_name": "Python 3",
   "language": "python",
   "name": "python3"
  },
  "language_info": {
   "codemirror_mode": {
    "name": "ipython",
    "version": 3
   },
   "file_extension": ".py",
   "mimetype": "text/x-python",
   "name": "python",
   "nbconvert_exporter": "python",
   "pygments_lexer": "ipython3",
   "version": "3.8.3"
  }
 },
 "nbformat": 4,
 "nbformat_minor": 4
}
