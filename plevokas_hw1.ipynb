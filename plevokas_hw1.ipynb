{
 "cells": [
  {
   "cell_type": "markdown",
   "metadata": {},
   "source": [
    "**Общая информация**\n",
    "\n",
    "**Срок сдачи:** 21 октября 2020, 08:30 \n",
    "\n",
    "**Штраф за опоздание:** по 1 баллу за 24 часа задержки. Через 5 дней домашнее задание сгорает.\n",
    "\n",
    "При отправлении ДЗ указывайте фамилию в названии файла\n",
    "Присылать ДЗ необходимо в виде ссылки на свой github репозиторий на почту ml1.sphere@mail.ru с указанием темы в следующем формате:\n",
    "\n",
    "[ML0220, Задание 1] Фамилия Имя.\n",
    "\n",
    "Используйте данный Ipython Notebook при оформлении домашнего задания."
   ]
  },
  {
   "cell_type": "markdown",
   "metadata": {},
   "source": [
    "\n",
    "**Штрафные баллы:**\n",
    "\n",
    "1. Отсутствие фамилии в имени скрипта (скрипт должен называться по аналогии со stroykova_hw1.ipynb) -0.5 баллов\n",
    "2. Все строчки должны быть выполнены. Нужно, чтобы output команды можно было увидеть уже в git'е. В противном случае -0.5 баллов\n"
   ]
  },
  {
   "cell_type": "code",
   "execution_count": 1,
   "metadata": {},
   "outputs": [],
   "source": [
    "import numpy as np\n",
    "import matplotlib.pyplot as plt\n",
    "import re\n",
    "\n",
    "import seaborn as sns\n",
    "from sklearn import datasets\n",
    "from sklearn.base import BaseEstimator\n",
    "from sklearn.datasets import fetch_openml, fetch_20newsgroups\n",
    "from sklearn.neighbors import KDTree\n",
    "from sklearn.model_selection import RepeatedKFold\n",
    "from sklearn.feature_extraction.text import CountVectorizer\n",
    "\n",
    "from sklearn.model_selection import KFold\n",
    "from sklearn.model_selection import train_test_split\n",
    "from sklearn.neighbors import KNeighborsClassifier\n",
    "from sklearn.metrics import accuracy_score\n",
    "from sklearn.metrics import pairwise_distances\n",
    "from sklearn.model_selection import cross_val_score\n",
    "from sklearn.feature_extraction.text import TfidfVectorizer\n",
    "\n",
    "\n",
    "from scipy import spatial"
   ]
  },
  {
   "cell_type": "markdown",
   "metadata": {},
   "source": [
    "##### Задание 1 (1 балл)\n",
    "Реализовать KNN в классе MyKNeighborsClassifier (обязательное условие: точность не ниже sklearn реализации)\n",
    "Разберитесь самостоятельно, какая мера расстояния используется в KNeighborsClassifier дефолтно и реализуйте свой алгоритм именно с этой мерой. \n",
    "Для подсчета расстояний можно использовать функции [отсюда](https://docs.scipy.org/doc/scipy/reference/spatial.distance.html)"
   ]
  },
  {
   "cell_type": "code",
   "execution_count": 2,
   "metadata": {},
   "outputs": [],
   "source": [
    "class MyKNeighborsClassifier(BaseEstimator):\n",
    "    \n",
    "    def __init__(self, n_neighbors, algorithm='brute', metric='euclidean'):\n",
    "        self.n_neighbors = n_neighbors\n",
    "        self.algorithm = algorithm\n",
    "        self.metric = metric\n",
    "        \n",
    "    def fit(self, X, y):\n",
    "        if self.algorithm == 'brute':\n",
    "            if (type(X) != np.ndarray):\n",
    "                self.x_train = X.toarray()\n",
    "            else:\n",
    "                self.x_train = X\n",
    "            self.x_train = (self.x_train - np.mean(self.x_train, axis = 0)) / np.std(self.x_train, axis = 0)\n",
    "            \n",
    "        elif self.algorithm == 'kd_tree':\n",
    "            if (type(X) != np.ndarray):\n",
    "                self.x_train_tree = X.toarray()\n",
    "            else:\n",
    "                self.x_train_tree = X\n",
    "            self.x_train_tree = KDTree((X - np.mean(X, axis = 0)) / np.std(X, axis = 0))\n",
    "        self.y_train = y\n",
    "        \n",
    "    def predict(self, X):\n",
    "        if (type(X) != np.ndarray):\n",
    "            self.x_test = X.toarray()\n",
    "        else:\n",
    "            self.x_test = X\n",
    "        self.x_test = (self.x_test - np.mean(self.x_test, axis = 0)) / np.std(self.x_test, axis = 0)\n",
    "        \n",
    "        if self.algorithm == 'brute':\n",
    "            distant = pairwise_distances(self.x_test, self.x_train, metric = self.metric)\n",
    "            \n",
    "            distant =  np.argpartition(distant, self.n_neighbors, axis=1)\n",
    "            \n",
    "            priznaki = self.y_train[distant][:, 0:self.n_neighbors]\n",
    "            \n",
    "        elif self.algorithm == 'kd_tree':\n",
    "            \n",
    "            distant, indices = self.x_train_tree.query(self.x_test, self.n_neighbors)\n",
    "            \n",
    "            priznaki = self.y_train[indices]\n",
    "        \n",
    "        indices = np.unique(priznaki, return_inverse=True)\n",
    "        \n",
    "        return indices[0][np.argmax(np.apply_along_axis(np.bincount, 1, priznaki, None, np.max(indices[1]) + 1), axis=1)]\n",
    "            "
   ]
  },
  {
   "cell_type": "markdown",
   "metadata": {},
   "source": [
    "**IRIS**\n",
    "\n",
    "В библиотеке scikit-learn есть несколько датасетов из коробки. Один из них [Ирисы Фишера](https://ru.wikipedia.org/wiki/%D0%98%D1%80%D0%B8%D1%81%D1%8B_%D0%A4%D0%B8%D1%88%D0%B5%D1%80%D0%B0)"
   ]
  },
  {
   "cell_type": "code",
   "execution_count": 3,
   "metadata": {},
   "outputs": [],
   "source": [
    "iris = datasets.load_iris()"
   ]
  },
  {
   "cell_type": "code",
   "execution_count": 4,
   "metadata": {},
   "outputs": [],
   "source": [
    "X_train, X_test, y_train, y_test = train_test_split(iris.data, iris.target, test_size=0.1, stratify=iris.target)"
   ]
  },
  {
   "cell_type": "code",
   "execution_count": 5,
   "metadata": {},
   "outputs": [],
   "source": [
    "clf = KNeighborsClassifier(n_neighbors=2, algorithm='brute')\n",
    "my_clf = MyKNeighborsClassifier(n_neighbors=2, algorithm='brute')"
   ]
  },
  {
   "cell_type": "code",
   "execution_count": 6,
   "metadata": {},
   "outputs": [],
   "source": [
    "clf.fit(X_train, y_train)\n",
    "my_clf.fit(X_train, y_train)"
   ]
  },
  {
   "cell_type": "code",
   "execution_count": 7,
   "metadata": {},
   "outputs": [],
   "source": [
    "sklearn_pred = clf.predict(X_test)\n",
    "my_clf_pred = my_clf.predict(X_test)\n",
    "assert abs( accuracy_score(y_test, my_clf_pred) -  accuracy_score(y_test, sklearn_pred ) )<0.005, 'Score must be equal'"
   ]
  },
  {
   "cell_type": "code",
   "execution_count": 8,
   "metadata": {},
   "outputs": [
    {
     "name": "stdout",
     "output_type": "stream",
     "text": [
      "190 better 585 equal 1000 all\n"
     ]
    }
   ],
   "source": [
    "counter_better = 0\n",
    "counter_equal = 0\n",
    "for i in range(1000):\n",
    "    X_train, X_test, y_train, y_test = train_test_split(iris.data, iris.target, test_size=0.1, stratify=iris.target)\n",
    "    clf = KNeighborsClassifier(n_neighbors=2, algorithm='brute')\n",
    "    my_clf = MyKNeighborsClassifier(n_neighbors=2, algorithm='brute')\n",
    "    clf.fit(X_train, y_train)\n",
    "    my_clf.fit(X_train, y_train)\n",
    "    sklearn_pred = clf.predict(X_test)\n",
    "    my_clf_pred = my_clf.predict(X_test)\n",
    "    \n",
    "    if accuracy_score(y_test, my_clf_pred) >  accuracy_score(y_test, sklearn_pred ):\n",
    "        counter_better += 1\n",
    "    elif accuracy_score(y_test, my_clf_pred) == accuracy_score(y_test, sklearn_pred ):\n",
    "        counter_equal += 1\n",
    "print(counter_better, 'better', counter_equal, 'equal', 1000, 'all')"
   ]
  },
  {
   "cell_type": "markdown",
   "metadata": {},
   "source": [
    "**Задание 2 (0.5 балла)**\n",
    "\n",
    "Давайте попробуем добиться скорости работы на fit, predict сравнимой со sklearn для iris. Допускается замедление не более чем в 2 раза. \n",
    "Для этого используем numpy. "
   ]
  },
  {
   "cell_type": "code",
   "execution_count": 9,
   "metadata": {},
   "outputs": [
    {
     "name": "stdout",
     "output_type": "stream",
     "text": [
      "CPU times: user 655 µs, sys: 133 µs, total: 788 µs\n",
      "Wall time: 698 µs\n"
     ]
    },
    {
     "data": {
      "text/plain": [
       "KNeighborsClassifier(algorithm='brute', n_neighbors=2)"
      ]
     },
     "execution_count": 9,
     "metadata": {},
     "output_type": "execute_result"
    }
   ],
   "source": [
    "%time clf.fit(X_train, y_train)"
   ]
  },
  {
   "cell_type": "code",
   "execution_count": 10,
   "metadata": {},
   "outputs": [
    {
     "name": "stdout",
     "output_type": "stream",
     "text": [
      "CPU times: user 472 µs, sys: 262 µs, total: 734 µs\n",
      "Wall time: 545 µs\n"
     ]
    }
   ],
   "source": [
    "%time my_clf.fit(X_train, y_train)"
   ]
  },
  {
   "cell_type": "code",
   "execution_count": 11,
   "metadata": {},
   "outputs": [
    {
     "name": "stdout",
     "output_type": "stream",
     "text": [
      "CPU times: user 2.25 ms, sys: 646 µs, total: 2.9 ms\n",
      "Wall time: 2.37 ms\n"
     ]
    },
    {
     "data": {
      "text/plain": [
       "array([1, 1, 1, 2, 2, 0, 1, 2, 1, 0, 0, 2, 0, 2, 0])"
      ]
     },
     "execution_count": 11,
     "metadata": {},
     "output_type": "execute_result"
    }
   ],
   "source": [
    "%time clf.predict(X_test)"
   ]
  },
  {
   "cell_type": "code",
   "execution_count": 12,
   "metadata": {},
   "outputs": [
    {
     "name": "stdout",
     "output_type": "stream",
     "text": [
      "CPU times: user 1.09 ms, sys: 293 µs, total: 1.38 ms\n",
      "Wall time: 1.19 ms\n"
     ]
    },
    {
     "data": {
      "text/plain": [
       "array([1, 1, 1, 2, 2, 0, 1, 2, 1, 0, 0, 2, 0, 2, 0])"
      ]
     },
     "execution_count": 12,
     "metadata": {},
     "output_type": "execute_result"
    }
   ],
   "source": [
    "%time my_clf.predict(X_test)"
   ]
  },
  {
   "cell_type": "markdown",
   "metadata": {},
   "source": [
    "###### Задание 3 (1 балл)\n",
    "Добавьте algorithm='kd_tree' в реализацию KNN (использовать KDTree из sklearn.neighbors). Необходимо добиться скорости работы на fit,  predict сравнимой со sklearn для iris. Допускается замедление не более чем в 2 раза. \n",
    "Для этого используем numpy. Точность не должна уступать значению KNN из sklearn. "
   ]
  },
  {
   "cell_type": "code",
   "execution_count": 13,
   "metadata": {},
   "outputs": [],
   "source": [
    "clf = KNeighborsClassifier(n_neighbors=2, algorithm='kd_tree')\n",
    "my_clf = MyKNeighborsClassifier(n_neighbors=2, algorithm='kd_tree')"
   ]
  },
  {
   "cell_type": "code",
   "execution_count": 14,
   "metadata": {},
   "outputs": [],
   "source": [
    "X_train, X_test, y_train, y_test = train_test_split(iris.data, iris.target, test_size=0.1, stratify=iris.target)"
   ]
  },
  {
   "cell_type": "code",
   "execution_count": 15,
   "metadata": {},
   "outputs": [
    {
     "name": "stdout",
     "output_type": "stream",
     "text": [
      "CPU times: user 860 µs, sys: 184 µs, total: 1.04 ms\n",
      "Wall time: 932 µs\n"
     ]
    },
    {
     "data": {
      "text/plain": [
       "KNeighborsClassifier(algorithm='kd_tree', n_neighbors=2)"
      ]
     },
     "execution_count": 15,
     "metadata": {},
     "output_type": "execute_result"
    }
   ],
   "source": [
    "%time clf.fit(X_train, y_train)"
   ]
  },
  {
   "cell_type": "code",
   "execution_count": 16,
   "metadata": {},
   "outputs": [
    {
     "name": "stdout",
     "output_type": "stream",
     "text": [
      "CPU times: user 925 µs, sys: 991 µs, total: 1.92 ms\n",
      "Wall time: 1.79 ms\n"
     ]
    }
   ],
   "source": [
    "%time my_clf.fit(X_train, y_train)"
   ]
  },
  {
   "cell_type": "code",
   "execution_count": 17,
   "metadata": {},
   "outputs": [
    {
     "name": "stdout",
     "output_type": "stream",
     "text": [
      "CPU times: user 2.7 ms, sys: 1.2 ms, total: 3.9 ms\n",
      "Wall time: 3.1 ms\n"
     ]
    },
    {
     "data": {
      "text/plain": [
       "array([2, 0, 2, 2, 2, 1, 1, 1, 1, 1, 0, 2, 0, 0, 0])"
      ]
     },
     "execution_count": 17,
     "metadata": {},
     "output_type": "execute_result"
    }
   ],
   "source": [
    "%time clf.predict(X_test)"
   ]
  },
  {
   "cell_type": "code",
   "execution_count": 18,
   "metadata": {},
   "outputs": [
    {
     "name": "stdout",
     "output_type": "stream",
     "text": [
      "CPU times: user 1.06 ms, sys: 535 µs, total: 1.6 ms\n",
      "Wall time: 1.21 ms\n"
     ]
    },
    {
     "data": {
      "text/plain": [
       "array([2, 0, 2, 2, 2, 1, 1, 1, 1, 1, 0, 2, 0, 0, 0])"
      ]
     },
     "execution_count": 18,
     "metadata": {},
     "output_type": "execute_result"
    }
   ],
   "source": [
    "%time my_clf.predict(X_test)"
   ]
  },
  {
   "cell_type": "code",
   "execution_count": 19,
   "metadata": {},
   "outputs": [],
   "source": [
    "sklearn_pred = clf.predict(X_test)\n",
    "my_clf_pred = my_clf.predict(X_test)\n",
    "assert abs( accuracy_score(y_test, my_clf_pred) -  accuracy_score(y_test, sklearn_pred ) )<0.005, \"Score must be simillar\""
   ]
  },
  {
   "cell_type": "code",
   "execution_count": 20,
   "metadata": {},
   "outputs": [
    {
     "name": "stdout",
     "output_type": "stream",
     "text": [
      "202 better 584 equal\n"
     ]
    }
   ],
   "source": [
    "counter_better = 0\n",
    "counter_equal = 0\n",
    "for i in range(1000):\n",
    "    X_train, X_test, y_train, y_test = train_test_split(iris.data, iris.target, test_size=0.1, stratify=iris.target)\n",
    "    clf = KNeighborsClassifier(n_neighbors=2, algorithm='kd_tree')\n",
    "    my_clf = MyKNeighborsClassifier(n_neighbors=2, algorithm='kd_tree')\n",
    "    clf.fit(X_train, y_train)\n",
    "    my_clf.fit(X_train, y_train)\n",
    "    sklearn_pred = clf.predict(X_test)\n",
    "    my_clf_pred = my_clf.predict(X_test)\n",
    "    if accuracy_score(y_test, my_clf_pred) >  accuracy_score(y_test, sklearn_pred ):\n",
    "        counter_better += 1\n",
    "    elif accuracy_score(y_test, my_clf_pred) == accuracy_score(y_test, sklearn_pred ):\n",
    "        counter_equal += 1\n",
    "print(counter_better, 'better', counter_equal, 'equal')"
   ]
  },
  {
   "cell_type": "markdown",
   "metadata": {},
   "source": [
    "**Задание 4 (2.5 балла)**\n",
    "\n",
    "Рассмотрим новый датасет 20 newsgroups"
   ]
  },
  {
   "cell_type": "code",
   "execution_count": 21,
   "metadata": {},
   "outputs": [],
   "source": [
    "newsgroups = fetch_20newsgroups(subset='train',remove=['headers','footers', 'quotes'])"
   ]
  },
  {
   "cell_type": "code",
   "execution_count": 22,
   "metadata": {},
   "outputs": [],
   "source": [
    "data = newsgroups['data']\n",
    "target = newsgroups['target']"
   ]
  },
  {
   "cell_type": "markdown",
   "metadata": {},
   "source": [
    "Преобразуйте текстовые данные из data с помощью [CountVectorizer](https://scikit-learn.org/stable/modules/generated/sklearn.feature_extraction.text.CountVectorizer.html). Словарь можно ограничить по частотности."
   ]
  },
  {
   "cell_type": "code",
   "execution_count": 23,
   "metadata": {},
   "outputs": [
    {
     "name": "stderr",
     "output_type": "stream",
     "text": [
      "IOPub data rate exceeded.\n",
      "The notebook server will temporarily stop sending output\n",
      "to the client in order to avoid crashing it.\n",
      "To change this limit, set the config variable\n",
      "`--NotebookApp.iopub_data_rate_limit`.\n",
      "\n",
      "Current values:\n",
      "NotebookApp.iopub_data_rate_limit=1000000.0 (bytes/sec)\n",
      "NotebookApp.rate_limit_window=3.0 (secs)\n",
      "\n"
     ]
    }
   ],
   "source": [
    "vectorize = CountVectorizer(data, min_df = 0.005)\n",
    "vectorizer = TfidfVectorizer(data, min_df = 0.005)"
   ]
  },
  {
   "cell_type": "code",
   "execution_count": 24,
   "metadata": {},
   "outputs": [],
   "source": [
    "matrix_tfidf = vectorizer.fit_transform(data)\n",
    "matrix = vectorize.fit_transform(data)"
   ]
  },
  {
   "cell_type": "markdown",
   "metadata": {},
   "source": [
    "*Так мы получили векторное представление наших текстов. Значит можно приступать к задаче обучения модели*"
   ]
  },
  {
   "cell_type": "markdown",
   "metadata": {},
   "source": [
    "Реализуйте разбиение выборки для кросс-валидации на 3 фолдах. Разрешено использовать sklearn.cross_validation"
   ]
  },
  {
   "cell_type": "code",
   "execution_count": 25,
   "metadata": {},
   "outputs": [],
   "source": [
    "rkf = KFold(n_splits=3)\n",
    "test = rkf.split(matrix)"
   ]
  },
  {
   "cell_type": "markdown",
   "metadata": {},
   "source": [
    "Напишите метод, позволяющий найти оптимальное количество ближайших соседей(дающее максимальную точность в среднем на валидации на 3 фолдах).\n",
    "Постройте график зависимости средней точности от количества соседей. Можно рассмотреть число соседей от 1 до 10."
   ]
  },
  {
   "cell_type": "code",
   "execution_count": 26,
   "metadata": {},
   "outputs": [],
   "source": [
    "def calculate_optimal(X, y, alg='brute', metr='euclidean'):\n",
    "    scores = np.array(range(19), dtype=float)\n",
    "    for n in range(1, 20):\n",
    "        rkf = KFold(n_splits=3, shuffle = True)\n",
    "        test = rkf.split(X)\n",
    "        my_clf = MyKNeighborsClassifier(n_neighbors=n+1, algorithm=alg, metric=metr)\n",
    "        curr_result = []\n",
    "        for training, testing in test:\n",
    "            training_X, training_Y = X[training], y[training]\n",
    "            testing_X, testing_Y = X[testing], y[testing]\n",
    "            my_clf.fit(training_X, training_Y)\n",
    "            my_clf_pred = my_clf.predict(testing_X)\n",
    "            curr_result.append(accuracy_score(testing_Y, my_clf_pred))\n",
    "        scores[n-1] = np.mean(curr_result)\n",
    "    return scores"
   ]
  },
  {
   "cell_type": "code",
   "execution_count": 27,
   "metadata": {},
   "outputs": [
    {
     "data": {
      "text/plain": [
       "array([0.1993987 , 0.19957663, 0.20152015, 0.20346587, 0.21194964,\n",
       "       0.21009452, 0.21796036, 0.21654444, 0.21415977, 0.20496782,\n",
       "       0.20470123, 0.20425909, 0.20797349, 0.19462491, 0.19939879,\n",
       "       0.19630477, 0.19126904, 0.19453912, 0.19153108])"
      ]
     },
     "execution_count": 27,
     "metadata": {},
     "output_type": "execute_result"
    }
   ],
   "source": [
    "brute_eucl_count = calculate_optimal(matrix, target, alg = 'brute', metr = 'euclidean')\n",
    "brute_eucl_count"
   ]
  },
  {
   "cell_type": "code",
   "execution_count": 28,
   "metadata": {},
   "outputs": [
    {
     "data": {
      "text/plain": [
       "array([0.29626949, 0.30678784, 0.32349314, 0.33957933, 0.34426348,\n",
       "       0.3515102 , 0.35486976, 0.36185323, 0.36070387, 0.36202938,\n",
       "       0.3645932 , 0.37343086, 0.37334185, 0.37387315, 0.38333013,\n",
       "       0.38120807, 0.38518701, 0.38916417, 0.38147428])"
      ]
     },
     "execution_count": 28,
     "metadata": {},
     "output_type": "execute_result"
    }
   ],
   "source": [
    "brute_cosine_count = calculate_optimal(matrix, target, alg = 'brute', metr = 'cosine')\n",
    "brute_cosine_count"
   ]
  },
  {
   "cell_type": "code",
   "execution_count": 29,
   "metadata": {},
   "outputs": [
    {
     "data": {
      "text/plain": [
       "array([0.09828509, 0.10562108, 0.10677016, 0.10173285, 0.09192148,\n",
       "       0.08971213, 0.08538095, 0.09121424, 0.08953464, 0.08608758,\n",
       "       0.08538083, 0.08051912, 0.08113853, 0.0773375 , 0.07919307,\n",
       "       0.07716078, 0.07397898, 0.07901764, 0.07530463])"
      ]
     },
     "execution_count": 29,
     "metadata": {},
     "output_type": "execute_result"
    }
   ],
   "source": [
    "brute_eucl_tfidf = calculate_optimal(matrix_tfidf, target, alg = 'brute', metr = 'euclidean')\n",
    "brute_eucl_tfidf"
   ]
  },
  {
   "cell_type": "code",
   "execution_count": 30,
   "metadata": {},
   "outputs": [
    {
     "data": {
      "text/plain": [
       "array([0.34620891, 0.36388483, 0.38695385, 0.40162633, 0.41841901,\n",
       "       0.42328062, 0.43335764, 0.43795265, 0.44634864, 0.45324395,\n",
       "       0.46438017, 0.46535288, 0.4733068 , 0.47613539, 0.47595932,\n",
       "       0.47940678, 0.48064343, 0.48506202, 0.49337086])"
      ]
     },
     "execution_count": 30,
     "metadata": {},
     "output_type": "execute_result"
    }
   ],
   "source": [
    "new_brute_cosine_tfidf = calculate_optimal(matrix_tfidf, target, alg = 'brute', metr = 'cosine')\n",
    "new_brute_cosine_tfidf"
   ]
  },
  {
   "cell_type": "code",
   "execution_count": 31,
   "metadata": {},
   "outputs": [
    {
     "data": {
      "text/plain": [
       "Text(0.5, 0, 'number of neighbors')"
      ]
     },
     "execution_count": 31,
     "metadata": {},
     "output_type": "execute_result"
    },
    {
     "data": {
      "image/png": "[encoded data removed]",
      "text/plain": [
       "<Figure size 432x288 with 1 Axes>"
      ]
     },
     "metadata": {
      "needs_background": "light"
     },
     "output_type": "display_data"
    }
   ],
   "source": [
    "plt.plot(np.arange(2, 21, 1), brute_eucl_count)\n",
    "plt.title('brute_eucl_count')\n",
    "plt.ylabel('score')\n",
    "plt.xlabel('number of neighbors')"
   ]
  },
  {
   "cell_type": "code",
   "execution_count": 33,
   "metadata": {},
   "outputs": [
    {
     "data": {
      "text/plain": [
       "Text(0.5, 0, 'number of neighbors')"
      ]
     },
     "execution_count": 33,
     "metadata": {},
     "output_type": "execute_result"
    },
    {
     "data": {
      "image/png": "[encoded data removed]",
      "text/plain": [
       "<Figure size 432x288 with 1 Axes>"
      ]
     },
     "metadata": {
      "needs_background": "light"
     },
     "output_type": "display_data"
    }
   ],
   "source": [
    "plt.plot(np.arange(2, 21, 1), brute_cosine_count)\n",
    "plt.title('brute_cosine_count')\n",
    "plt.ylabel('score')\n",
    "plt.xlabel('number of neighbors')"
   ]
  },
  {
   "cell_type": "code",
   "execution_count": 34,
   "metadata": {},
   "outputs": [
    {
     "data": {
      "text/plain": [
       "Text(0.5, 0, 'number of neighbors')"
      ]
     },
     "execution_count": 34,
     "metadata": {},
     "output_type": "execute_result"
    },
    {
     "data": {
      "image/png": "[encoded data removed]",
      "text/plain": [
       "<Figure size 432x288 with 1 Axes>"
      ]
     },
     "metadata": {
      "needs_background": "light"
     },
     "output_type": "display_data"
    }
   ],
   "source": [
    "plt.plot(np.arange(2,21,1), brute_eucl_tfidf)\n",
    "plt.title('brute_eucl_tfidf')\n",
    "plt.ylabel('score')\n",
    "plt.xlabel('number of neighbors')"
   ]
  },
  {
   "cell_type": "code",
   "execution_count": 35,
   "metadata": {},
   "outputs": [
    {
     "data": {
      "text/plain": [
       "Text(0.5, 0, 'number of neighbors')"
      ]
     },
     "execution_count": 35,
     "metadata": {},
     "output_type": "execute_result"
    },
    {
     "data": {
      "image/png": "[encoded data removed]",
      "text/plain": [
       "<Figure size 432x288 with 1 Axes>"
      ]
     },
     "metadata": {
      "needs_background": "light"
     },
     "output_type": "display_data"
    }
   ],
   "source": [
    "x = np.arange(2, 21, 1)\n",
    "plt.plot(x, new_brute_cosine_tfidf)\n",
    "plt.title('new_brute_cosine_tfidf')\n",
    "plt.ylabel('score')\n",
    "plt.xlabel('number of neighbors')"
   ]
  },
  {
   "cell_type": "code",
   "execution_count": 36,
   "metadata": {},
   "outputs": [
    {
     "name": "stdout",
     "output_type": "stream",
     "text": [
      "130 iteration\n",
      "0.5861611876988335  number of neighbours - 130\n",
      "0.5762397242110846  number of neighbours - 130\n",
      "0.5632458233890215  number of neighbours - 130\n",
      "150 iteration\n",
      "0.5914634146341463  number of neighbours - 150\n",
      "0.5693450013259083  number of neighbours - 150\n",
      "0.5682842747281888  number of neighbours - 150\n",
      "170 iteration\n",
      "0.5763520678685048  number of neighbours - 170\n",
      "0.5855210819411297  number of neighbours - 170\n",
      "0.5823389021479713  number of neighbours - 170\n"
     ]
    }
   ],
   "source": [
    "i = [130,150,170]\n",
    "scores = np.array(range(len(i)), dtype=float)\n",
    "k = 0\n",
    "for n in i:\n",
    "    print(n, 'iteration')\n",
    "    rkf = KFold(n_splits=3, shuffle = True)\n",
    "    test = rkf.split(matrix_tfidf)\n",
    "    test_clf = MyKNeighborsClassifier(n_neighbors=n, algorithm='brute', metric='cosine')\n",
    "    curr_result = []\n",
    "    for training, testing in test:\n",
    "        training_X, training_Y = matrix_tfidf[training], target[training]\n",
    "        testing_X, testing_Y = matrix_tfidf[testing], target[testing]\n",
    "        test_clf.fit(training_X, training_Y)\n",
    "        test_clf_pred = test_clf.predict(testing_X)\n",
    "        curr_result.append(accuracy_score(testing_Y, test_clf_pred))\n",
    "        print(accuracy_score(testing_Y, test_clf_pred), ' number of neighbours -', n)\n",
    "    scores[k] = np.mean(curr_result)\n",
    "    k += 1"
   ]
  },
  {
   "cell_type": "code",
   "execution_count": 37,
   "metadata": {},
   "outputs": [
    {
     "data": {
      "text/plain": [
       "Text(0.5, 0, 'number of neighbors')"
      ]
     },
     "execution_count": 37,
     "metadata": {},
     "output_type": "execute_result"
    },
    {
     "data": {
      "image/png": "[encoded data removed]",
      "text/plain": [
       "<Figure size 432x288 with 1 Axes>"
      ]
     },
     "metadata": {
      "needs_background": "light"
     },
     "output_type": "display_data"
    }
   ],
   "source": [
    "plt.plot(i, scores)\n",
    "plt.title('new_brute_cosine_tfidf')\n",
    "plt.ylabel('score')\n",
    "plt.xlabel('number of neighbors')"
   ]
  },
  {
   "cell_type": "markdown",
   "metadata": {},
   "source": [
    "Чем больше соседей - тем значение лучше, возьмем 170."
   ]
  },
  {
   "cell_type": "markdown",
   "metadata": {},
   "source": [
    "Как изменится качество на валидации, если:\n",
    "\n",
    "1. Используется косинусная метрика вместо евклидовой.\n",
    "2. К текстам применяется TfIdf векторизацию( sklearn.feature_extraction.text.TfidfVectorizer)\n",
    "\n",
    "Сравните модели, выберите лучшую."
   ]
  },
  {
   "cell_type": "markdown",
   "metadata": {},
   "source": [
    "Загрузим  теперь test  часть нашей выборки и преобразуем её аналогично с train частью. Не забудьте, что наборы слов в train и test части могут отличаться."
   ]
  },
  {
   "cell_type": "code",
   "execution_count": 38,
   "metadata": {},
   "outputs": [],
   "source": [
    "newsgroups_test = fetch_20newsgroups(subset='test',remove=['headers','footers', 'quotes'])"
   ]
  },
  {
   "cell_type": "markdown",
   "metadata": {},
   "source": [
    "Оценим точность вашей лучшей модели на test части датасета. Отличается ли оно от кросс-валидации? Попробуйте сделать выводы, почему отличается качество."
   ]
  },
  {
   "cell_type": "code",
   "execution_count": 39,
   "metadata": {},
   "outputs": [],
   "source": [
    "new_data = newsgroups_test['data']\n",
    "new_target = newsgroups_test['target']"
   ]
  },
  {
   "cell_type": "code",
   "execution_count": 40,
   "metadata": {},
   "outputs": [
    {
     "name": "stderr",
     "output_type": "stream",
     "text": [
      "IOPub data rate exceeded.\n",
      "The notebook server will temporarily stop sending output\n",
      "to the client in order to avoid crashing it.\n",
      "To change this limit, set the config variable\n",
      "`--NotebookApp.iopub_data_rate_limit`.\n",
      "\n",
      "Current values:\n",
      "NotebookApp.iopub_data_rate_limit=1000000.0 (bytes/sec)\n",
      "NotebookApp.rate_limit_window=3.0 (secs)\n",
      "\n"
     ]
    }
   ],
   "source": [
    "vectorizer_test = TfidfVectorizer(new_data, min_df = 0.005)"
   ]
  },
  {
   "cell_type": "code",
   "execution_count": 41,
   "metadata": {},
   "outputs": [],
   "source": [
    "matrix_test_tfidf = vectorizer_test.fit_transform(new_data)"
   ]
  },
  {
   "cell_type": "code",
   "execution_count": 44,
   "metadata": {},
   "outputs": [
    {
     "name": "stdout",
     "output_type": "stream",
     "text": [
      "0.577857427319793  number of neighbours - 170\n",
      "0.5483870967741935  number of neighbours - 170\n",
      "0.5621513944223108  number of neighbours - 170\n"
     ]
    }
   ],
   "source": [
    "rkf = KFold(n_splits=3, shuffle = True)\n",
    "test = rkf.split(matrix_test_tfidf)\n",
    "my_clf = MyKNeighborsClassifier(n_neighbors=170, algorithm='brute', metric='cosine')\n",
    "curr_result = []\n",
    "for training, testing in test:\n",
    "    training_X, training_Y = matrix_test_tfidf[training], new_target[training]\n",
    "    testing_X, testing_Y = matrix_test_tfidf[testing], new_target[testing]\n",
    "    my_clf.fit(training_X, training_Y)\n",
    "    my_clf_pred = my_clf.predict(testing_X)\n",
    "    curr_result.append(accuracy_score(testing_Y, my_clf_pred))\n",
    "    print(accuracy_score(testing_Y, my_clf_pred), ' number of neighbours -', 170)"
   ]
  },
  {
   "cell_type": "markdown",
   "metadata": {},
   "source": [
    "Ненамного отличается. Может быть различным, так как разные слова в разных словарях, разная частотность вхождения."
   ]
  },
  {
   "cell_type": "code",
   "execution_count": null,
   "metadata": {},
   "outputs": [],
   "source": []
  }
 ],
 "metadata": {
  "kernelspec": {
   "display_name": "Python 3",
   "language": "python",
   "name": "python3"
  },
  "language_info": {
   "codemirror_mode": {
    "name": "ipython",
    "version": 3
   },
   "file_extension": ".py",
   "mimetype": "text/x-python",
   "name": "python",
   "nbconvert_exporter": "python",
   "pygments_lexer": "ipython3",
   "version": "3.8.3"
  }
 },
 "nbformat": 4,
 "nbformat_minor": 4
}
