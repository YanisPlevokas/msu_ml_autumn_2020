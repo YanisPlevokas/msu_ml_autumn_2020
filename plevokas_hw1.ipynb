{
 "cells": [
  {
   "cell_type": "markdown",
   "metadata": {},
   "source": [
    "**Общая информация**\n",
    "\n",
    "**Срок сдачи:** 21 октября 2020, 08:30 \n",
    "\n",
    "**Штраф за опоздание:** по 1 баллу за 24 часа задержки. Через 5 дней домашнее задание сгорает.\n",
    "\n",
    "При отправлении ДЗ указывайте фамилию в названии файла\n",
    "Присылать ДЗ необходимо в виде ссылки на свой github репозиторий на почту ml1.sphere@mail.ru с указанием темы в следующем формате:\n",
    "\n",
    "[ML0220, Задание 1] Фамилия Имя.\n",
    "\n",
    "Используйте данный Ipython Notebook при оформлении домашнего задания."
   ]
  },
  {
   "cell_type": "markdown",
   "metadata": {},
   "source": [
    "\n",
    "**Штрафные баллы:**\n",
    "\n",
    "1. Отсутствие фамилии в имени скрипта (скрипт должен называться по аналогии со stroykova_hw1.ipynb) -0.5 баллов\n",
    "2. Все строчки должны быть выполнены. Нужно, чтобы output команды можно было увидеть уже в git'е. В противном случае -0.5 баллов\n"
   ]
  },
  {
   "cell_type": "code",
   "execution_count": 1,
   "metadata": {},
   "outputs": [],
   "source": [
    "import numpy as np\n",
    "import matplotlib.pyplot as plt\n",
    "import re\n",
    "\n",
    "import seaborn as sns\n",
    "from sklearn import datasets\n",
    "from sklearn.base import BaseEstimator\n",
    "from sklearn.datasets import fetch_openml, fetch_20newsgroups\n",
    "from sklearn.neighbors import KDTree\n",
    "from sklearn.model_selection import RepeatedKFold\n",
    "from sklearn.feature_extraction.text import CountVectorizer\n",
    "\n",
    "from sklearn.model_selection import KFold\n",
    "from sklearn.model_selection import train_test_split\n",
    "from sklearn.neighbors import KNeighborsClassifier\n",
    "from sklearn.metrics import accuracy_score\n",
    "from sklearn.metrics import pairwise_distances\n",
    "from sklearn.model_selection import cross_val_score\n",
    "from sklearn.feature_extraction.text import TfidfVectorizer\n",
    "\n",
    "\n",
    "from scipy import spatial"
   ]
  },
  {
   "cell_type": "markdown",
   "metadata": {},
   "source": [
    "##### Задание 1 (1 балл)\n",
    "Реализовать KNN в классе MyKNeighborsClassifier (обязательное условие: точность не ниже sklearn реализации)\n",
    "Разберитесь самостоятельно, какая мера расстояния используется в KNeighborsClassifier дефолтно и реализуйте свой алгоритм именно с этой мерой. \n",
    "Для подсчета расстояний можно использовать функции [отсюда](https://docs.scipy.org/doc/scipy/reference/spatial.distance.html)"
   ]
  },
  {
   "cell_type": "code",
   "execution_count": 2,
   "metadata": {},
   "outputs": [],
   "source": [
    "class MyKNeighborsClassifier(BaseEstimator):\n",
    "    \n",
    "    def __init__(self, n_neighbors, algorithm='brute', metric='euclidean'):\n",
    "        self.n_neighbors = n_neighbors\n",
    "        self.algorithm = algorithm\n",
    "        self.metric = metric\n",
    "        \n",
    "    def fit(self, X, y):\n",
    "        if self.algorithm == 'brute':\n",
    "            if (type(X) != np.ndarray):\n",
    "                self.x_train = X.toarray()\n",
    "            else:\n",
    "                self.x_train = X\n",
    "            self.x_train = (self.x_train - np.mean(self.x_train, axis = 0)) / np.std(self.x_train, axis = 0)\n",
    "            \n",
    "        elif self.algorithm == 'kd_tree':\n",
    "            if (type(X) != np.ndarray):\n",
    "                self.x_train_tree = X.toarray()\n",
    "            else:\n",
    "                self.x_train_tree = X\n",
    "            self.x_train_tree = KDTree((X - np.mean(X, axis = 0)) / np.std(X, axis = 0))\n",
    "        self.y_train = y\n",
    "        \n",
    "    def predict(self, X):\n",
    "        if (type(X) != np.ndarray):\n",
    "            self.x_test = X.toarray()\n",
    "        else:\n",
    "            self.x_test = X\n",
    "        self.x_test = (self.x_test - np.mean(self.x_test, axis = 0)) / np.std(self.x_test, axis = 0)\n",
    "        \n",
    "        if self.algorithm == 'brute':\n",
    "            distant = pairwise_distances(self.x_test, self.x_train, metric = self.metric)\n",
    "            \n",
    "            distant =  np.argpartition(distant, self.n_neighbors, axis=1)\n",
    "            \n",
    "            priznaki = self.y_train[distant][:, 0:self.n_neighbors]\n",
    "            \n",
    "        elif self.algorithm == 'kd_tree':\n",
    "            \n",
    "            distant, indices = self.x_train_tree.query(self.x_test, self.n_neighbors)\n",
    "            \n",
    "            priznaki = self.y_train[indices]\n",
    "        \n",
    "        indices = np.unique(priznaki, return_inverse=True)\n",
    "        \n",
    "        return indices[0][np.argmax(np.apply_along_axis(np.bincount, 1, priznaki, None, np.max(indices[1]) + 1), axis=1)]\n",
    "            "
   ]
  },
  {
   "cell_type": "markdown",
   "metadata": {},
   "source": [
    "**IRIS**\n",
    "\n",
    "В библиотеке scikit-learn есть несколько датасетов из коробки. Один из них [Ирисы Фишера](https://ru.wikipedia.org/wiki/%D0%98%D1%80%D0%B8%D1%81%D1%8B_%D0%A4%D0%B8%D1%88%D0%B5%D1%80%D0%B0)"
   ]
  },
  {
   "cell_type": "code",
   "execution_count": 3,
   "metadata": {},
   "outputs": [],
   "source": [
    "iris = datasets.load_iris()"
   ]
  },
  {
   "cell_type": "code",
   "execution_count": 4,
   "metadata": {},
   "outputs": [],
   "source": [
    "X_train, X_test, y_train, y_test = train_test_split(iris.data, iris.target, test_size=0.1, stratify=iris.target)"
   ]
  },
  {
   "cell_type": "code",
   "execution_count": 5,
   "metadata": {},
   "outputs": [],
   "source": [
    "clf = KNeighborsClassifier(n_neighbors=2, algorithm='brute')\n",
    "my_clf = MyKNeighborsClassifier(n_neighbors=2, algorithm='brute')"
   ]
  },
  {
   "cell_type": "code",
   "execution_count": 6,
   "metadata": {},
   "outputs": [],
   "source": [
    "clf.fit(X_train, y_train)\n",
    "my_clf.fit(X_train, y_train)"
   ]
  },
  {
   "cell_type": "code",
   "execution_count": 7,
   "metadata": {},
   "outputs": [],
   "source": [
    "sklearn_pred = clf.predict(X_test)\n",
    "my_clf_pred = my_clf.predict(X_test)\n",
    "assert abs( accuracy_score(y_test, my_clf_pred) -  accuracy_score(y_test, sklearn_pred ) )<0.005, 'Score must be equal'"
   ]
  },
  {
   "cell_type": "code",
   "execution_count": 8,
   "metadata": {},
   "outputs": [
    {
     "name": "stdout",
     "output_type": "stream",
     "text": [
      "200 better 581 equal\n"
     ]
    }
   ],
   "source": [
    "counter_better = 0\n",
    "counter_equal = 0\n",
    "for i in range(1000):\n",
    "    X_train, X_test, y_train, y_test = train_test_split(iris.data, iris.target, test_size=0.1, stratify=iris.target)\n",
    "    clf = KNeighborsClassifier(n_neighbors=2, algorithm='brute')\n",
    "    my_clf = MyKNeighborsClassifier(n_neighbors=2, algorithm='brute')\n",
    "    clf.fit(X_train, y_train)\n",
    "    my_clf.fit(X_train, y_train)\n",
    "    sklearn_pred = clf.predict(X_test)\n",
    "    my_clf_pred = my_clf.predict(X_test)\n",
    "    \n",
    "    if accuracy_score(y_test, my_clf_pred) >  accuracy_score(y_test, sklearn_pred ):\n",
    "        counter_better += 1\n",
    "    elif accuracy_score(y_test, my_clf_pred) == accuracy_score(y_test, sklearn_pred ):\n",
    "        counter_equal += 1\n",
    "print(counter_better, 'better', counter_equal, 'equal')"
   ]
  },
  {
   "cell_type": "markdown",
   "metadata": {},
   "source": [
    "**Задание 2 (0.5 балла)**\n",
    "\n",
    "Давайте попробуем добиться скорости работы на fit, predict сравнимой со sklearn для iris. Допускается замедление не более чем в 2 раза. \n",
    "Для этого используем numpy. "
   ]
  },
  {
   "cell_type": "code",
   "execution_count": 9,
   "metadata": {},
   "outputs": [
    {
     "name": "stdout",
     "output_type": "stream",
     "text": [
      "CPU times: user 508 µs, sys: 126 µs, total: 634 µs\n",
      "Wall time: 564 µs\n"
     ]
    },
    {
     "data": {
      "text/plain": [
       "KNeighborsClassifier(algorithm='brute', n_neighbors=2)"
      ]
     },
     "execution_count": 9,
     "metadata": {},
     "output_type": "execute_result"
    }
   ],
   "source": [
    "%time clf.fit(X_train, y_train)"
   ]
  },
  {
   "cell_type": "code",
   "execution_count": 10,
   "metadata": {},
   "outputs": [
    {
     "name": "stdout",
     "output_type": "stream",
     "text": [
      "CPU times: user 369 µs, sys: 183 µs, total: 552 µs\n",
      "Wall time: 471 µs\n"
     ]
    }
   ],
   "source": [
    "%time my_clf.fit(X_train, y_train)"
   ]
  },
  {
   "cell_type": "code",
   "execution_count": 11,
   "metadata": {},
   "outputs": [
    {
     "name": "stdout",
     "output_type": "stream",
     "text": [
      "CPU times: user 1.96 ms, sys: 336 µs, total: 2.3 ms\n",
      "Wall time: 2.2 ms\n"
     ]
    },
    {
     "data": {
      "text/plain": [
       "array([1, 2, 0, 0, 0, 0, 1, 1, 1, 2, 1, 2, 1, 0, 2])"
      ]
     },
     "execution_count": 11,
     "metadata": {},
     "output_type": "execute_result"
    }
   ],
   "source": [
    "%time clf.predict(X_test)"
   ]
  },
  {
   "cell_type": "code",
   "execution_count": 12,
   "metadata": {},
   "outputs": [
    {
     "name": "stdout",
     "output_type": "stream",
     "text": [
      "CPU times: user 1.02 ms, sys: 330 µs, total: 1.35 ms\n",
      "Wall time: 1.09 ms\n"
     ]
    },
    {
     "data": {
      "text/plain": [
       "array([1, 2, 0, 0, 0, 0, 1, 1, 1, 2, 1, 2, 1, 0, 2])"
      ]
     },
     "execution_count": 12,
     "metadata": {},
     "output_type": "execute_result"
    }
   ],
   "source": [
    "%time my_clf.predict(X_test)"
   ]
  },
  {
   "cell_type": "markdown",
   "metadata": {},
   "source": [
    "###### Задание 3 (1 балл)\n",
    "Добавьте algorithm='kd_tree' в реализацию KNN (использовать KDTree из sklearn.neighbors). Необходимо добиться скорости работы на fit,  predict сравнимой со sklearn для iris. Допускается замедление не более чем в 2 раза. \n",
    "Для этого используем numpy. Точность не должна уступать значению KNN из sklearn. "
   ]
  },
  {
   "cell_type": "code",
   "execution_count": 13,
   "metadata": {},
   "outputs": [],
   "source": [
    "clf = KNeighborsClassifier(n_neighbors=2, algorithm='kd_tree')\n",
    "my_clf = MyKNeighborsClassifier(n_neighbors=2, algorithm='kd_tree')"
   ]
  },
  {
   "cell_type": "code",
   "execution_count": 14,
   "metadata": {},
   "outputs": [],
   "source": [
    "X_train, X_test, y_train, y_test = train_test_split(iris.data, iris.target, test_size=0.1, stratify=iris.target)"
   ]
  },
  {
   "cell_type": "code",
   "execution_count": 15,
   "metadata": {},
   "outputs": [
    {
     "name": "stdout",
     "output_type": "stream",
     "text": [
      "CPU times: user 966 µs, sys: 685 µs, total: 1.65 ms\n",
      "Wall time: 1.09 ms\n"
     ]
    },
    {
     "data": {
      "text/plain": [
       "KNeighborsClassifier(algorithm='kd_tree', n_neighbors=2)"
      ]
     },
     "execution_count": 15,
     "metadata": {},
     "output_type": "execute_result"
    }
   ],
   "source": [
    "%time clf.fit(X_train, y_train)"
   ]
  },
  {
   "cell_type": "code",
   "execution_count": 16,
   "metadata": {},
   "outputs": [
    {
     "name": "stdout",
     "output_type": "stream",
     "text": [
      "CPU times: user 516 µs, sys: 206 µs, total: 722 µs\n",
      "Wall time: 605 µs\n"
     ]
    }
   ],
   "source": [
    "%time my_clf.fit(X_train, y_train)"
   ]
  },
  {
   "cell_type": "code",
   "execution_count": 17,
   "metadata": {},
   "outputs": [
    {
     "name": "stdout",
     "output_type": "stream",
     "text": [
      "CPU times: user 2.07 ms, sys: 318 µs, total: 2.39 ms\n",
      "Wall time: 2.25 ms\n"
     ]
    },
    {
     "data": {
      "text/plain": [
       "array([0, 2, 0, 2, 1, 2, 0, 1, 2, 0, 2, 2, 0, 1, 1])"
      ]
     },
     "execution_count": 17,
     "metadata": {},
     "output_type": "execute_result"
    }
   ],
   "source": [
    "%time clf.predict(X_test)"
   ]
  },
  {
   "cell_type": "code",
   "execution_count": 18,
   "metadata": {},
   "outputs": [
    {
     "name": "stdout",
     "output_type": "stream",
     "text": [
      "CPU times: user 848 µs, sys: 298 µs, total: 1.15 ms\n",
      "Wall time: 894 µs\n"
     ]
    },
    {
     "data": {
      "text/plain": [
       "array([0, 2, 0, 2, 1, 2, 0, 1, 2, 0, 2, 2, 0, 1, 1])"
      ]
     },
     "execution_count": 18,
     "metadata": {},
     "output_type": "execute_result"
    }
   ],
   "source": [
    "%time my_clf.predict(X_test)"
   ]
  },
  {
   "cell_type": "code",
   "execution_count": 19,
   "metadata": {},
   "outputs": [],
   "source": [
    "sklearn_pred = clf.predict(X_test)\n",
    "my_clf_pred = my_clf.predict(X_test)\n",
    "assert abs( accuracy_score(y_test, my_clf_pred) -  accuracy_score(y_test, sklearn_pred ) )<0.005, \"Score must be simillar\""
   ]
  },
  {
   "cell_type": "code",
   "execution_count": 20,
   "metadata": {},
   "outputs": [
    {
     "name": "stdout",
     "output_type": "stream",
     "text": [
      "206 better 577 equal\n"
     ]
    }
   ],
   "source": [
    "counter_better = 0\n",
    "counter_equal = 0\n",
    "for i in range(1000):\n",
    "    X_train, X_test, y_train, y_test = train_test_split(iris.data, iris.target, test_size=0.1, stratify=iris.target)\n",
    "    clf = KNeighborsClassifier(n_neighbors=2, algorithm='kd_tree')\n",
    "    my_clf = MyKNeighborsClassifier(n_neighbors=2, algorithm='kd_tree')\n",
    "    clf.fit(X_train, y_train)\n",
    "    my_clf.fit(X_train, y_train)\n",
    "    sklearn_pred = clf.predict(X_test)\n",
    "    my_clf_pred = my_clf.predict(X_test)\n",
    "    if accuracy_score(y_test, my_clf_pred) >  accuracy_score(y_test, sklearn_pred ):\n",
    "        counter_better += 1\n",
    "    elif accuracy_score(y_test, my_clf_pred) == accuracy_score(y_test, sklearn_pred ):\n",
    "        counter_equal += 1\n",
    "print(counter_better, 'better', counter_equal, 'equal')"
   ]
  },
  {
   "cell_type": "markdown",
   "metadata": {},
   "source": [
    "**Задание 4 (2.5 балла)**\n",
    "\n",
    "Рассмотрим новый датасет 20 newsgroups"
   ]
  },
  {
   "cell_type": "code",
   "execution_count": 21,
   "metadata": {},
   "outputs": [],
   "source": [
    "newsgroups = fetch_20newsgroups(subset='train',remove=['headers','footers', 'quotes'])"
   ]
  },
  {
   "cell_type": "code",
   "execution_count": 22,
   "metadata": {},
   "outputs": [],
   "source": [
    "data = newsgroups['data']\n",
    "target = newsgroups['target']"
   ]
  },
  {
   "cell_type": "markdown",
   "metadata": {},
   "source": [
    "Преобразуйте текстовые данные из data с помощью [CountVectorizer](https://scikit-learn.org/stable/modules/generated/sklearn.feature_extraction.text.CountVectorizer.html). Словарь можно ограничить по частотности."
   ]
  },
  {
   "cell_type": "code",
   "execution_count": 23,
   "metadata": {},
   "outputs": [
    {
     "name": "stderr",
     "output_type": "stream",
     "text": [
      "IOPub data rate exceeded.\n",
      "The notebook server will temporarily stop sending output\n",
      "to the client in order to avoid crashing it.\n",
      "To change this limit, set the config variable\n",
      "`--NotebookApp.iopub_data_rate_limit`.\n",
      "\n",
      "Current values:\n",
      "NotebookApp.iopub_data_rate_limit=1000000.0 (bytes/sec)\n",
      "NotebookApp.rate_limit_window=3.0 (secs)\n",
      "\n"
     ]
    }
   ],
   "source": [
    "#data = [re.sub(r'[^0-9a-zA-Z@]+', ' ', text) for text in data]\n",
    "vectorize = CountVectorizer(data, min_df = 0.005)\n",
    "vectorizer = TfidfVectorizer(data, min_df = 0.005)"
   ]
  },
  {
   "cell_type": "code",
   "execution_count": 24,
   "metadata": {},
   "outputs": [],
   "source": [
    "matrix_tfidf = vectorizer.fit_transform(data)\n",
    "matrix = vectorize.fit_transform(data)"
   ]
  },
  {
   "cell_type": "markdown",
   "metadata": {},
   "source": [
    "*Так мы получили векторное представление наших текстов. Значит можно приступать к задаче обучения модели*"
   ]
  },
  {
   "cell_type": "markdown",
   "metadata": {},
   "source": [
    "Реализуйте разбиение выборки для кросс-валидации на 3 фолдах. Разрешено использовать sklearn.cross_validation"
   ]
  },
  {
   "cell_type": "code",
   "execution_count": 25,
   "metadata": {},
   "outputs": [],
   "source": [
    "rkf = KFold(n_splits=3)\n",
    "test = rkf.split(matrix)"
   ]
  },
  {
   "cell_type": "markdown",
   "metadata": {},
   "source": [
    "Напишите метод, позволяющий найти оптимальное количество ближайших соседей(дающее максимальную точность в среднем на валидации на 3 фолдах).\n",
    "Постройте график зависимости средней точности от количества соседей. Можно рассмотреть число соседей от 1 до 10."
   ]
  },
  {
   "cell_type": "code",
   "execution_count": 26,
   "metadata": {},
   "outputs": [],
   "source": [
    "def calculate_optimal(X, y, alg='brute', metr='euclidean'):\n",
    "    scores = np.array(range(19), dtype=float)\n",
    "    for n in range(1, 20):\n",
    "        print(n, 'iteration')\n",
    "        rkf = KFold(n_splits=3, shuffle = True)\n",
    "        test = rkf.split(X)\n",
    "        my_clf = MyKNeighborsClassifier(n_neighbors=n+1, algorithm=alg, metric=metr)\n",
    "        curr_result = []\n",
    "        for training, testing in test:\n",
    "            training_X, training_Y = X[training], y[training]\n",
    "            testing_X, testing_Y = X[testing], y[testing]\n",
    "            my_clf.fit(training_X, training_Y)\n",
    "            my_clf_pred = my_clf.predict(testing_X)\n",
    "            curr_result.append(accuracy_score(testing_Y, my_clf_pred))\n",
    "            print(accuracy_score(testing_Y, my_clf_pred), ' number of neighbours -', n+1)\n",
    "        scores[n-1] = np.mean(curr_result)\n",
    "    return scores"
   ]
  },
  {
   "cell_type": "code",
   "execution_count": 32,
   "metadata": {},
   "outputs": [
    {
     "name": "stdout",
     "output_type": "stream",
     "text": [
      "1 iteration\n",
      "0.2014846235418876  number of neighbours - 2\n",
      "0.20047732696897375  number of neighbours - 2\n",
      "0.18721824449748078  number of neighbours - 2\n",
      "2 iteration\n",
      "0.19750795334040297  number of neighbours - 3\n",
      "0.18536197295147175  number of neighbours - 3\n",
      "0.2012728719172633  number of neighbours - 3\n",
      "3 iteration\n",
      "0.2150053022269353  number of neighbours - 4\n",
      "0.21108459294616813  number of neighbours - 4\n",
      "0.20074250861840362  number of neighbours - 4\n",
      "4 iteration\n",
      "0.2046659597030753  number of neighbours - 5\n",
      "0.20551577830814108  number of neighbours - 5\n",
      "0.21241050119331742  number of neighbours - 5\n",
      "5 iteration\n",
      "0.20784729586426298  number of neighbours - 6\n",
      "0.20710686820472024  number of neighbours - 6\n",
      "0.2047202333598515  number of neighbours - 6\n",
      "6 iteration\n",
      "0.2150053022269353  number of neighbours - 7\n",
      "0.21028904799787854  number of neighbours - 7\n",
      "0.21161495624502785  number of neighbours - 7\n",
      "7 iteration\n",
      "0.21367974549310711  number of neighbours - 8\n",
      "0.2100238663484487  number of neighbours - 8\n",
      "0.21506231768761602  number of neighbours - 8\n",
      "8 iteration\n",
      "0.22693531283138918  number of neighbours - 9\n",
      "0.20392468841156192  number of neighbours - 9\n",
      "0.18536197295147175  number of neighbours - 9\n",
      "9 iteration\n",
      "0.21580063626723223  number of neighbours - 10\n",
      "0.21665340758419518  number of neighbours - 10\n",
      "0.19225669583664812  number of neighbours - 10\n",
      "10 iteration\n",
      "0.21394485683987274  number of neighbours - 11\n",
      "0.20684168655529037  number of neighbours - 11\n",
      "0.20631132325643065  number of neighbours - 11\n",
      "11 iteration\n",
      "0.22295864262990456  number of neighbours - 12\n",
      "0.19888623707239458  number of neighbours - 12\n",
      "0.19305224078493768  number of neighbours - 12\n",
      "12 iteration\n",
      "0.20201484623541888  number of neighbours - 13\n",
      "0.19146115088835852  number of neighbours - 13\n",
      "0.2060461416070008  number of neighbours - 13\n",
      "13 iteration\n",
      "0.2059915164369035  number of neighbours - 14\n",
      "0.20074250861840362  number of neighbours - 14\n",
      "0.2047202333598515  number of neighbours - 14\n",
      "14 iteration\n",
      "0.21288441145281017  number of neighbours - 15\n",
      "0.2020684168655529  number of neighbours - 15\n",
      "0.19013524264120923  number of neighbours - 15\n",
      "15 iteration\n",
      "0.18266171792152705  number of neighbours - 16\n",
      "0.2163882259347653  number of neighbours - 16\n",
      "0.2092283214001591  number of neighbours - 16\n",
      "16 iteration\n",
      "0.18822905620360553  number of neighbours - 17\n",
      "0.18748342614691063  number of neighbours - 17\n",
      "0.19862105542296474  number of neighbours - 17\n",
      "17 iteration\n",
      "0.19432661717921526  number of neighbours - 18\n",
      "0.1752850702731371  number of neighbours - 18\n",
      "0.19225669583664812  number of neighbours - 18\n",
      "18 iteration\n",
      "0.16463414634146342  number of neighbours - 19\n",
      "0.20578095995757092  number of neighbours - 19\n",
      "0.2073720498541501  number of neighbours - 19\n",
      "19 iteration\n",
      "0.18849416755037116  number of neighbours - 20\n",
      "0.19702996552638558  number of neighbours - 20\n",
      "0.1779368867674357  number of neighbours - 20\n"
     ]
    },
    {
     "data": {
      "text/plain": [
       "array([0.1963934 , 0.19471427, 0.20894413, 0.20753075, 0.20655813,\n",
       "       0.2123031 , 0.21292198, 0.20540732, 0.20823691, 0.20903262,\n",
       "       0.20496571, 0.19984071, 0.20381809, 0.20169602, 0.20275942,\n",
       "       0.19144451, 0.18728946, 0.19259572, 0.18782034])"
      ]
     },
     "execution_count": 32,
     "metadata": {},
     "output_type": "execute_result"
    }
   ],
   "source": [
    "brute_eucl_count = calculate_optimal(matrix, target, alg = 'brute', metr = 'euclidean')\n",
    "brute_eucl_count"
   ]
  },
  {
   "cell_type": "code",
   "execution_count": 33,
   "metadata": {},
   "outputs": [
    {
     "name": "stdout",
     "output_type": "stream",
     "text": [
      "1 iteration\n",
      "0.29427359490986216  number of neighbours - 2\n",
      "0.29249535932113496  number of neighbours - 2\n",
      "0.29461681251657384  number of neighbours - 2\n",
      "2 iteration\n",
      "0.3123011664899258  number of neighbours - 3\n",
      "0.3068151683903474  number of neighbours - 3\n",
      "0.30628480509148764  number of neighbours - 3\n",
      "3 iteration\n",
      "0.32926829268292684  number of neighbours - 4\n",
      "0.3163617077698223  number of neighbours - 4\n",
      "0.3166268894192522  number of neighbours - 4\n",
      "4 iteration\n",
      "0.34994697773064687  number of neighbours - 5\n",
      "0.32564306549986743  number of neighbours - 5\n",
      "0.3391673296207902  number of neighbours - 5\n",
      "5 iteration\n",
      "0.33748674443266174  number of neighbours - 6\n",
      "0.345266507557677  number of neighbours - 6\n",
      "0.3362503314770618  number of neighbours - 6\n",
      "6 iteration\n",
      "0.35498409331919406  number of neighbours - 7\n",
      "0.35666931848316097  number of neighbours - 7\n",
      "0.34765314240254575  number of neighbours - 7\n",
      "7 iteration\n",
      "0.35339342523860023  number of neighbours - 8\n",
      "0.35269159374171305  number of neighbours - 8\n",
      "0.35295677539114295  number of neighbours - 8\n",
      "8 iteration\n",
      "0.36903499469777307  number of neighbours - 9\n",
      "0.35295677539114295  number of neighbours - 9\n",
      "0.35481304693715193  number of neighbours - 9\n",
      "9 iteration\n",
      "0.3552492046659597  number of neighbours - 10\n",
      "0.35799522673031026  number of neighbours - 10\n",
      "0.364094404667197  number of neighbours - 10\n",
      "10 iteration\n",
      "0.3669141039236479  number of neighbours - 11\n",
      "0.3614425881728984  number of neighbours - 11\n",
      "0.3611774065234686  number of neighbours - 11\n",
      "11 iteration\n",
      "0.36187698833510074  number of neighbours - 12\n",
      "0.37258021744895253  number of neighbours - 12\n",
      "0.3648899496154866  number of neighbours - 12\n",
      "12 iteration\n",
      "0.37089077412513255  number of neighbours - 13\n",
      "0.3781490320869796  number of neighbours - 13\n",
      "0.3672765844603553  number of neighbours - 13\n",
      "13 iteration\n",
      "0.3870625662778367  number of neighbours - 14\n",
      "0.36515513126491644  number of neighbours - 14\n",
      "0.37576239724211086  number of neighbours - 14\n",
      "14 iteration\n",
      "0.38573700954400847  number of neighbours - 15\n",
      "0.3643595863166269  number of neighbours - 15\n",
      "0.3789445770352692  number of neighbours - 15\n",
      "15 iteration\n",
      "0.3722163308589608  number of neighbours - 16\n",
      "0.381066030230708  number of neighbours - 16\n",
      "0.36833731105807477  number of neighbours - 16\n",
      "16 iteration\n",
      "0.3743372216330859  number of neighbours - 17\n",
      "0.3818615751789976  number of neighbours - 17\n",
      "0.37045876425351365  number of neighbours - 17\n",
      "17 iteration\n",
      "0.37592788971367974  number of neighbours - 18\n",
      "0.38610448156987537  number of neighbours - 18\n",
      "0.381066030230708  number of neighbours - 18\n",
      "18 iteration\n",
      "0.38759278897136795  number of neighbours - 19\n",
      "0.38292230177671704  number of neighbours - 19\n",
      "0.3929992044550517  number of neighbours - 19\n",
      "19 iteration\n",
      "0.38494167550371156  number of neighbours - 20\n",
      "0.3892866613630337  number of neighbours - 20\n",
      "0.36674622116149563  number of neighbours - 20\n"
     ]
    },
    {
     "data": {
      "text/plain": [
       "array([0.29379526, 0.30846705, 0.3207523 , 0.33825246, 0.33966786,\n",
       "       0.35310218, 0.35301393, 0.35893494, 0.35911295, 0.36317803,\n",
       "       0.36644905, 0.37210546, 0.37599336, 0.37634706, 0.37387322,\n",
       "       0.37555252, 0.3810328 , 0.3878381 , 0.38032485])"
      ]
     },
     "execution_count": 33,
     "metadata": {},
     "output_type": "execute_result"
    }
   ],
   "source": [
    "brute_cosine_count = calculate_optimal(matrix, target, alg = 'brute', metr = 'cosine')\n",
    "brute_cosine_count"
   ]
  },
  {
   "cell_type": "code",
   "execution_count": 29,
   "metadata": {},
   "outputs": [
    {
     "name": "stdout",
     "output_type": "stream",
     "text": [
      "1 iteration\n",
      "0.10286320254506894  number of neighbours - 2\n",
      "0.09917793688676743  number of neighbours - 2\n",
      "0.09970830018562715  number of neighbours - 2\n",
      "2 iteration\n",
      "0.10233297985153765  number of neighbours - 3\n",
      "0.10872447626624238  number of neighbours - 3\n",
      "0.11164147440997083  number of neighbours - 3\n",
      "3 iteration\n",
      "0.10418875927889713  number of neighbours - 4\n",
      "0.1105807478122514  number of neighbours - 4\n",
      "0.09387430389817025  number of neighbours - 4\n",
      "4 iteration\n",
      "0.10153764581124072  number of neighbours - 5\n",
      "0.10368602492707504  number of neighbours - 5\n",
      "0.09387430389817025  number of neighbours - 5\n",
      "5 iteration\n",
      "0.09968186638388123  number of neighbours - 6\n",
      "0.09201803235216123  number of neighbours - 6\n",
      "0.09838239193847785  number of neighbours - 6\n",
      "6 iteration\n",
      "0.08854718981972429  number of neighbours - 7\n",
      "0.09228321400159109  number of neighbours - 7\n",
      "0.09360912224874039  number of neighbours - 7\n",
      "7 iteration\n",
      "0.09544008483563096  number of neighbours - 8\n",
      "0.09254839565102095  number of neighbours - 8\n",
      "0.08857067090957306  number of neighbours - 8\n",
      "8 iteration\n",
      "0.08430540827147402  number of neighbours - 9\n",
      "0.1020949350304959  number of neighbours - 9\n",
      "0.09254839565102095  number of neighbours - 9\n",
      "9 iteration\n",
      "0.0835100742311771  number of neighbours - 10\n",
      "0.09016176080615221  number of neighbours - 10\n",
      "0.08724476266242376  number of neighbours - 10\n",
      "10 iteration\n",
      "0.0784729586426299  number of neighbours - 11\n",
      "0.08591885441527446  number of neighbours - 11\n",
      "0.0784937682312384  number of neighbours - 11\n",
      "11 iteration\n",
      "0.08377518557794274  number of neighbours - 12\n",
      "0.09042694245558207  number of neighbours - 12\n",
      "0.08326703792097587  number of neighbours - 12\n",
      "12 iteration\n",
      "0.07476139978791092  number of neighbours - 13\n",
      "0.083001856271546  number of neighbours - 13\n",
      "0.08538849111641475  number of neighbours - 13\n",
      "13 iteration\n",
      "0.08430540827147402  number of neighbours - 14\n",
      "0.081145584725537  number of neighbours - 14\n",
      "0.08671439936356404  number of neighbours - 14\n",
      "14 iteration\n",
      "0.07873806998939555  number of neighbours - 15\n",
      "0.08857067090957306  number of neighbours - 15\n",
      "0.0784937682312384  number of neighbours - 15\n",
      "15 iteration\n",
      "0.08059384941675504  number of neighbours - 16\n",
      "0.07716785998408911  number of neighbours - 16\n",
      "0.07902413153009812  number of neighbours - 16\n",
      "16 iteration\n",
      "0.07290562036055143  number of neighbours - 17\n",
      "0.0816759480243967  number of neighbours - 17\n",
      "0.08273667462211615  number of neighbours - 17\n",
      "17 iteration\n",
      "0.07502651113467657  number of neighbours - 18\n",
      "0.07080350039777247  number of neighbours - 18\n",
      "0.07955449482895784  number of neighbours - 18\n",
      "18 iteration\n",
      "0.08085896076352068  number of neighbours - 19\n",
      "0.07053831874834261  number of neighbours - 19\n",
      "0.07372049854150092  number of neighbours - 19\n",
      "19 iteration\n",
      "0.07635206786850478  number of neighbours - 20\n",
      "0.06815168390347388  number of neighbours - 20\n",
      "0.07504640678865022  number of neighbours - 20\n"
     ]
    },
    {
     "data": {
      "text/plain": [
       "array([0.10058315, 0.10756631, 0.10288127, 0.09969932, 0.0966941 ,\n",
       "       0.09147984, 0.09218638, 0.09298291, 0.0869722 , 0.08096186,\n",
       "       0.08582306, 0.08105058, 0.08405513, 0.08193417, 0.07892861,\n",
       "       0.07910608, 0.07512817, 0.07503926, 0.07318339])"
      ]
     },
     "execution_count": 29,
     "metadata": {},
     "output_type": "execute_result"
    }
   ],
   "source": [
    "brute_eucl_tfidf = calculate_optimal(matrix_tfidf, target, alg = 'brute', metr = 'euclidean')\n",
    "brute_eucl_tfidf"
   ]
  },
  {
   "cell_type": "code",
   "execution_count": 30,
   "metadata": {},
   "outputs": [
    {
     "name": "stdout",
     "output_type": "stream",
     "text": [
      "1 iteration\n",
      "0.3411983032873807  number of neighbours - 2\n",
      "0.3556085918854415  number of neighbours - 2\n",
      "0.3460620525059666  number of neighbours - 2\n",
      "2 iteration\n",
      "0.35763520678685046  number of neighbours - 3\n",
      "0.3664810395120658  number of neighbours - 3\n",
      "0.36382922301776716  number of neighbours - 3\n",
      "3 iteration\n",
      "0.38918345705196183  number of neighbours - 4\n",
      "0.3879607531158844  number of neighbours - 4\n",
      "0.38424821002386633  number of neighbours - 4\n",
      "4 iteration\n",
      "0.39660657476139977  number of neighbours - 5\n",
      "0.39618138424821003  number of neighbours - 5\n",
      "0.4091752850702731  number of neighbours - 5\n",
      "5 iteration\n",
      "0.41755037115588545  number of neighbours - 6\n",
      "0.4099708300185627  number of neighbours - 6\n",
      "0.4232299124900557  number of neighbours - 6\n",
      "6 iteration\n",
      "0.4217921527041357  number of neighbours - 7\n",
      "0.42216918589233626  number of neighbours - 7\n",
      "0.4362238133121188  number of neighbours - 7\n",
      "7 iteration\n",
      "0.44671261930010603  number of neighbours - 8\n",
      "0.43728453990983823  number of neighbours - 8\n",
      "0.428268363829223  number of neighbours - 8\n",
      "8 iteration\n",
      "0.43981972428419935  number of neighbours - 9\n",
      "0.4399363564041368  number of neighbours - 9\n",
      "0.43675417661097854  number of neighbours - 9\n",
      "9 iteration\n",
      "0.45254506892895013  number of neighbours - 10\n",
      "0.44762662423760274  number of neighbours - 10\n",
      "0.44126226465128615  number of neighbours - 10\n",
      "10 iteration\n",
      "0.4501590668080594  number of neighbours - 11\n",
      "0.4569079819676478  number of neighbours - 11\n",
      "0.4592946168125166  number of neighbours - 11\n",
      "11 iteration\n",
      "0.46527041357370097  number of neighbours - 12\n",
      "0.45876425351365685  number of neighbours - 12\n",
      "0.46618933969769294  number of neighbours - 12\n",
      "12 iteration\n",
      "0.4745493107104984  number of neighbours - 13\n",
      "0.45796870856536726  number of neighbours - 13\n",
      "0.45955979846194644  number of neighbours - 13\n",
      "13 iteration\n",
      "0.4740190880169671  number of neighbours - 14\n",
      "0.4656589763988332  number of neighbours - 14\n",
      "0.45876425351365685  number of neighbours - 14\n",
      "14 iteration\n",
      "0.48197242841993637  number of neighbours - 15\n",
      "0.4794484221691859  number of neighbours - 15\n",
      "0.4680456112437019  number of neighbours - 15\n",
      "15 iteration\n",
      "0.46792152704135737  number of neighbours - 16\n",
      "0.48607796340493237  number of neighbours - 16\n",
      "0.4913815963935296  number of neighbours - 16\n",
      "16 iteration\n",
      "0.4835630965005302  number of neighbours - 17\n",
      "0.4821002386634845  number of neighbours - 17\n",
      "0.49403341288782815  number of neighbours - 17\n",
      "17 iteration\n",
      "0.48541887592788974  number of neighbours - 18\n",
      "0.4818350570140546  number of neighbours - 18\n",
      "0.4866083267037921  number of neighbours - 18\n",
      "18 iteration\n",
      "0.48568398727465534  number of neighbours - 19\n",
      "0.4805091487669053  number of neighbours - 19\n",
      "0.4937682312383983  number of neighbours - 19\n",
      "19 iteration\n",
      "0.4883351007423118  number of neighbours - 20\n",
      "0.4897905064969504  number of neighbours - 20\n",
      "0.4892601431980907  number of neighbours - 20\n"
     ]
    },
    {
     "data": {
      "text/plain": [
       "array([0.34762298, 0.36264849, 0.38713081, 0.40065441, 0.41691704,\n",
       "       0.42672838, 0.43742184, 0.43883675, 0.44714465, 0.45545389,\n",
       "       0.463408  , 0.46402594, 0.46614744, 0.47648882, 0.4817937 ,\n",
       "       0.48656558, 0.48462075, 0.48665379, 0.48912858])"
      ]
     },
     "execution_count": 30,
     "metadata": {},
     "output_type": "execute_result"
    }
   ],
   "source": [
    "new_brute_cosine_tfidf = calculate_optimal(matrix_tfidf, target, alg = 'brute', metr = 'cosine')\n",
    "new_brute_cosine_tfidf"
   ]
  },
  {
   "cell_type": "code",
   "execution_count": 31,
   "metadata": {},
   "outputs": [
    {
     "data": {
      "text/plain": [
       "[<matplotlib.lines.Line2D at 0x7fa53f633fd0>]"
      ]
     },
     "execution_count": 31,
     "metadata": {},
     "output_type": "execute_result"
    },
    {
     "data": {
      "image/png": "[encoded data removed]",
      "text/plain": [
       "<Figure size 432x288 with 1 Axes>"
      ]
     },
     "metadata": {
      "needs_background": "light"
     },
     "output_type": "display_data"
    }
   ],
   "source": [
    "plt.plot(np.arange(2, 21, 1), brute_eucl_count)"
   ]
  },
  {
   "cell_type": "code",
   "execution_count": 35,
   "metadata": {},
   "outputs": [
    {
     "data": {
      "text/plain": [
       "[<matplotlib.lines.Line2D at 0x7fa52a635df0>]"
      ]
     },
     "execution_count": 35,
     "metadata": {},
     "output_type": "execute_result"
    },
    {
     "data": {
      "image/png": "[encoded data removed]",
      "text/plain": [
       "<Figure size 432x288 with 1 Axes>"
      ]
     },
     "metadata": {
      "needs_background": "light"
     },
     "output_type": "display_data"
    }
   ],
   "source": [
    "plt.plot(np.arange(2, 21, 1), brute_eucl_count)"
   ]
  },
  {
   "cell_type": "code",
   "execution_count": 36,
   "metadata": {},
   "outputs": [
    {
     "data": {
      "text/plain": [
       "[<matplotlib.lines.Line2D at 0x7fa52bac4a60>]"
      ]
     },
     "execution_count": 36,
     "metadata": {},
     "output_type": "execute_result"
    },
    {
     "data": {
      "image/png": "[encoded data removed]",
      "text/plain": [
       "<Figure size 432x288 with 1 Axes>"
      ]
     },
     "metadata": {
      "needs_background": "light"
     },
     "output_type": "display_data"
    }
   ],
   "source": [
    "plt.plot(np.arange(2,21,1), brute_eucl_tfidf)"
   ]
  },
  {
   "cell_type": "code",
   "execution_count": 37,
   "metadata": {},
   "outputs": [
    {
     "data": {
      "text/plain": [
       "[<matplotlib.lines.Line2D at 0x7fa52bac91f0>]"
      ]
     },
     "execution_count": 37,
     "metadata": {},
     "output_type": "execute_result"
    },
    {
     "data": {
      "image/png": "[encoded data removed]",
      "text/plain": [
       "<Figure size 432x288 with 1 Axes>"
      ]
     },
     "metadata": {
      "needs_background": "light"
     },
     "output_type": "display_data"
    }
   ],
   "source": [
    "x = np.arange(2, 21, 1)\n",
    "plt.plot(x, new_brute_cosine_tfidf)"
   ]
  },
  {
   "cell_type": "code",
   "execution_count": 31,
   "metadata": {},
   "outputs": [
    {
     "name": "stdout",
     "output_type": "stream",
     "text": [
      "30 iteration\n",
      "0.5214740190880169  number of neighbours - 30\n",
      "0.5165738530893662  number of neighbours - 30\n",
      "0.5064969504110316  number of neighbours - 30\n",
      "40 iteration\n",
      "0.5196182396606575  number of neighbours - 40\n",
      "0.5269159374171307  number of neighbours - 40\n",
      "0.5308936621585786  number of neighbours - 40\n",
      "50 iteration\n",
      "0.5490455991516436  number of neighbours - 50\n",
      "0.5330151153540175  number of neighbours - 50\n",
      "0.5348713869000266  number of neighbours - 50\n",
      "60 iteration\n",
      "0.5397667020148462  number of neighbours - 60\n",
      "0.5558207372049854  number of neighbours - 60\n",
      "0.5510474675152479  number of neighbours - 60\n",
      "70 iteration\n",
      "0.5546129374337222  number of neighbours - 70\n",
      "0.5518430124635375  number of neighbours - 70\n",
      "0.5523733757623972  number of neighbours - 70\n",
      "80 iteration\n",
      "0.5612407211028632  number of neighbours - 80\n",
      "0.5523733757623972  number of neighbours - 80\n",
      "0.5576770087509945  number of neighbours - 80\n",
      "90 iteration\n",
      "0.5567338282078473  number of neighbours - 90\n",
      "0.5672235481304694  number of neighbours - 90\n",
      "0.5693450013259083  number of neighbours - 90\n",
      "100 iteration\n",
      "0.5805938494167551  number of neighbours - 100\n",
      "0.5481304693715194  number of neighbours - 100\n",
      "0.5727923627684964  number of neighbours - 100\n",
      "110 iteration\n",
      "0.5654825026511134  number of neighbours - 110\n",
      "0.5661628215327499  number of neighbours - 110\n",
      "0.5656324582338902  number of neighbours - 110\n",
      "120 iteration\n",
      "0.5596500530222693  number of neighbours - 120\n",
      "0.5629806417395916  number of neighbours - 120\n",
      "0.5717316361707769  number of neighbours - 120\n",
      "130 iteration\n",
      "0.5644220572640509  number of neighbours - 130\n",
      "0.5786263590559533  number of neighbours - 130\n",
      "0.569875364624768  number of neighbours - 130\n",
      "140 iteration\n",
      "0.5660127253446448  number of neighbours - 140\n",
      "0.5799522673031027  number of neighbours - 140\n",
      "0.5730575444179263  number of neighbours - 140\n",
      "150 iteration\n",
      "0.5811240721102863  number of neighbours - 150\n",
      "0.5804826306019624  number of neighbours - 150\n",
      "0.575444179262795  number of neighbours - 150\n",
      "160 iteration\n",
      "0.5577942735949099  number of neighbours - 160\n",
      "0.5873773534871387  number of neighbours - 160\n",
      "0.5783611774065235  number of neighbours - 160\n",
      "170 iteration\n",
      "0.5890774125132555  number of neighbours - 170\n",
      "0.5658976398833201  number of neighbours - 170\n",
      "0.5857862635905595  number of neighbours - 170\n",
      "180 iteration\n",
      "0.5893425238600212  number of neighbours - 180\n",
      "0.5794219040042429  number of neighbours - 180\n",
      "0.5576770087509945  number of neighbours - 180\n",
      "190 iteration\n",
      "0.5829798515376459  number of neighbours - 190\n",
      "0.5666931848316097  number of neighbours - 190\n",
      "0.5802174489525325  number of neighbours - 190\n"
     ]
    }
   ],
   "source": [
    "i = np.arange(30,200,10)\n",
    "scores = np.array(range(len(i)), dtype=float)\n",
    "k = 0\n",
    "for n in i:\n",
    "    print(n, 'iteration')\n",
    "    rkf = KFold(n_splits=3, shuffle = True)\n",
    "    test = rkf.split(matrix_tfidf)\n",
    "    test_clf = MyKNeighborsClassifier(n_neighbors=n, algorithm='brute', metric='cosine')\n",
    "    curr_result = []\n",
    "    for training, testing in test:\n",
    "        training_X, training_Y = matrix_tfidf[training], target[training]\n",
    "        testing_X, testing_Y = matrix_tfidf[testing], target[testing]\n",
    "        test_clf.fit(training_X, training_Y)\n",
    "        test_clf_pred = test_clf.predict(testing_X)\n",
    "        curr_result.append(accuracy_score(testing_Y, test_clf_pred))\n",
    "        print(accuracy_score(testing_Y, test_clf_pred), ' number of neighbours -', n)\n",
    "    scores[k] = np.mean(curr_result)\n",
    "    k += 1"
   ]
  },
  {
   "cell_type": "code",
   "execution_count": 32,
   "metadata": {},
   "outputs": [
    {
     "data": {
      "text/plain": [
       "[<matplotlib.lines.Line2D at 0x7f88e8671f70>]"
      ]
     },
     "execution_count": 32,
     "metadata": {},
     "output_type": "execute_result"
    },
    {
     "data": {
      "image/png": "[encoded data removed]",
      "text/plain": [
       "<Figure size 432x288 with 1 Axes>"
      ]
     },
     "metadata": {
      "needs_background": "light"
     },
     "output_type": "display_data"
    }
   ],
   "source": [
    "plt.plot(i, scores)"
   ]
  },
  {
   "cell_type": "markdown",
   "metadata": {},
   "source": [
    "Чем больше соседей - тем значение лучше, возьмем 170."
   ]
  },
  {
   "cell_type": "markdown",
   "metadata": {},
   "source": [
    "Как изменится качество на валидации, если:\n",
    "\n",
    "1. Используется косинусная метрика вместо евклидовой.\n",
    "2. К текстам применяется TfIdf векторизацию( sklearn.feature_extraction.text.TfidfVectorizer)\n",
    "\n",
    "Сравните модели, выберите лучшую."
   ]
  },
  {
   "cell_type": "markdown",
   "metadata": {},
   "source": [
    "Загрузим  теперь test  часть нашей выборки и преобразуем её аналогично с train частью. Не забудьте, что наборы слов в train и test части могут отличаться."
   ]
  },
  {
   "cell_type": "code",
   "execution_count": 33,
   "metadata": {},
   "outputs": [],
   "source": [
    "newsgroups_test = fetch_20newsgroups(subset='test',remove=['headers','footers', 'quotes'])"
   ]
  },
  {
   "cell_type": "markdown",
   "metadata": {},
   "source": [
    "Оценим точность вашей лучшей модели на test части датасета. Отличается ли оно от кросс-валидации? Попробуйте сделать выводы, почему отличается качество."
   ]
  },
  {
   "cell_type": "code",
   "execution_count": 34,
   "metadata": {},
   "outputs": [],
   "source": [
    "new_data = newsgroups_test['data']\n",
    "new_target = newsgroups_test['target']"
   ]
  },
  {
   "cell_type": "code",
   "execution_count": 35,
   "metadata": {},
   "outputs": [
    {
     "name": "stderr",
     "output_type": "stream",
     "text": [
      "IOPub data rate exceeded.\n",
      "The notebook server will temporarily stop sending output\n",
      "to the client in order to avoid crashing it.\n",
      "To change this limit, set the config variable\n",
      "`--NotebookApp.iopub_data_rate_limit`.\n",
      "\n",
      "Current values:\n",
      "NotebookApp.iopub_data_rate_limit=1000000.0 (bytes/sec)\n",
      "NotebookApp.rate_limit_window=3.0 (secs)\n",
      "\n"
     ]
    }
   ],
   "source": [
    "vectorizer_test = TfidfVectorizer(new_data, min_df = 0.005)"
   ]
  },
  {
   "cell_type": "code",
   "execution_count": 36,
   "metadata": {},
   "outputs": [],
   "source": [
    "matrix_test_tfidf = vectorizer_test.fit_transform(new_data)"
   ]
  },
  {
   "cell_type": "code",
   "execution_count": 37,
   "metadata": {},
   "outputs": [
    {
     "name": "stdout",
     "output_type": "stream",
     "text": [
      "0.5507765830346476  number of neighbours - 110\n",
      "0.5623257666268419  number of neighbours - 110\n",
      "0.5462151394422311  number of neighbours - 110\n"
     ]
    }
   ],
   "source": [
    "rkf = KFold(n_splits=3, shuffle = True)\n",
    "test = rkf.split(matrix_test_tfidf)\n",
    "my_clf = MyKNeighborsClassifier(n_neighbors=170, algorithm='brute', metric='cosine')\n",
    "curr_result = []\n",
    "for training, testing in test:\n",
    "    training_X, training_Y = matrix_test_tfidf[training], new_target[training]\n",
    "    testing_X, testing_Y = matrix_test_tfidf[testing], new_target[testing]\n",
    "    my_clf.fit(training_X, training_Y)\n",
    "    my_clf_pred = my_clf.predict(testing_X)\n",
    "    curr_result.append(accuracy_score(testing_Y, my_clf_pred))\n",
    "    print(accuracy_score(testing_Y, my_clf_pred), ' number of neighbours -', 110)"
   ]
  },
  {
   "cell_type": "markdown",
   "metadata": {},
   "source": [
    "Ненамного отличается. Может быть различным, так как разные слова в разных словарях, разная частотность вхождения."
   ]
  },
  {
   "cell_type": "code",
   "execution_count": null,
   "metadata": {},
   "outputs": [],
   "source": []
  }
 ],
 "metadata": {
  "kernelspec": {
   "display_name": "Python 3",
   "language": "python",
   "name": "python3"
  },
  "language_info": {
   "codemirror_mode": {
    "name": "ipython",
    "version": 3
   },
   "file_extension": ".py",
   "mimetype": "text/x-python",
   "name": "python",
   "nbconvert_exporter": "python",
   "pygments_lexer": "ipython3",
   "version": "3.8.3"
  }
 },
 "nbformat": 4,
 "nbformat_minor": 4
}
