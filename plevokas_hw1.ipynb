{
 "cells": [
  {
   "cell_type": "markdown",
   "metadata": {},
   "source": [
    "**Общая информация**\n",
    "\n",
    "**Срок сдачи:** 21 октября 2020, 08:30 \n",
    "\n",
    "**Штраф за опоздание:** по 1 баллу за 24 часа задержки. Через 5 дней домашнее задание сгорает.\n",
    "\n",
    "При отправлении ДЗ указывайте фамилию в названии файла\n",
    "Присылать ДЗ необходимо в виде ссылки на свой github репозиторий на почту ml1.sphere@mail.ru с указанием темы в следующем формате:\n",
    "\n",
    "[ML0220, Задание 1] Фамилия Имя.\n",
    "\n",
    "Используйте данный Ipython Notebook при оформлении домашнего задания."
   ]
  },
  {
   "cell_type": "markdown",
   "metadata": {},
   "source": [
    "\n",
    "**Штрафные баллы:**\n",
    "\n",
    "1. Отсутствие фамилии в имени скрипта (скрипт должен называться по аналогии со stroykova_hw1.ipynb) -0.5 баллов\n",
    "2. Все строчки должны быть выполнены. Нужно, чтобы output команды можно было увидеть уже в git'е. В противном случае -0.5 баллов\n"
   ]
  },
  {
   "cell_type": "code",
   "execution_count": 1,
   "metadata": {},
   "outputs": [],
   "source": [
    "import numpy as np\n",
    "import matplotlib.pyplot as plt\n",
    "import re\n",
    "\n",
    "import seaborn as sns\n",
    "from sklearn import datasets\n",
    "from sklearn.base import BaseEstimator\n",
    "from sklearn.datasets import fetch_openml, fetch_20newsgroups\n",
    "from sklearn.neighbors import KDTree\n",
    "from sklearn.model_selection import RepeatedKFold\n",
    "from sklearn.feature_extraction.text import CountVectorizer\n",
    "\n",
    "from sklearn.model_selection import KFold\n",
    "from sklearn.model_selection import train_test_split\n",
    "from sklearn.neighbors import KNeighborsClassifier\n",
    "from sklearn.metrics import accuracy_score\n",
    "from sklearn.model_selection import cross_val_score\n",
    "from sklearn.feature_extraction.text import TfidfVectorizer\n",
    "\n",
    "\n",
    "from scipy import spatial"
   ]
  },
  {
   "cell_type": "markdown",
   "metadata": {},
   "source": [
    "##### Задание 1 (1 балл)\n",
    "Реализовать KNN в классе MyKNeighborsClassifier (обязательное условие: точность не ниже sklearn реализации)\n",
    "Разберитесь самостоятельно, какая мера расстояния используется в KNeighborsClassifier дефолтно и реализуйте свой алгоритм именно с этой мерой. \n",
    "Для подсчета расстояний можно использовать функции [отсюда](https://docs.scipy.org/doc/scipy/reference/spatial.distance.html)"
   ]
  },
  {
   "cell_type": "code",
   "execution_count": 2,
   "metadata": {},
   "outputs": [],
   "source": [
    "class MyKNeighborsClassifier(BaseEstimator):\n",
    "    \n",
    "    def __init__(self, n_neighbors, algorithm='brute', metric='euclidean'):\n",
    "        self.n_neighbors = n_neighbors\n",
    "        self.algorithm = algorithm\n",
    "        self.metric = metric\n",
    "        \n",
    "    def fit(self, X, y):\n",
    "        if self.algorithm == 'brute':\n",
    "            if (type(X) != np.ndarray):\n",
    "                self.x_train = X.toarray()\n",
    "            else:\n",
    "                self.x_train = X\n",
    "            self.x_train = (self.x_train - np.mean(self.x_train, axis = 0)) / np.std(self.x_train, axis = 0)\n",
    "            \n",
    "        elif self.algorithm == 'kd_tree':\n",
    "            if (type(X) != np.ndarray):\n",
    "                self.x_train_tree = X.toarray()\n",
    "            else:\n",
    "                self.x_train_tree = X\n",
    "            self.x_train_tree = KDTree((X - np.mean(X, axis = 0)) / np.std(X, axis = 0))\n",
    "        self.y_train = y\n",
    "        \n",
    "    def predict(self, X):\n",
    "        if (type(X) != np.ndarray):\n",
    "            self.x_test = X.toarray()\n",
    "        else:\n",
    "            self.x_test = X\n",
    "        self.x_test = (self.x_test - np.mean(self.x_test, axis = 0)) / np.std(self.x_test, axis = 0)\n",
    "        \n",
    "        if self.algorithm == 'brute':\n",
    "            distant = spatial.distance.cdist(self.x_test, self.x_train, metric = self.metric)\n",
    "            \n",
    "            distant =  np.argpartition(distant, self.n_neighbors, axis=1)\n",
    "            \n",
    "            priznaki = self.y_train[distant][:, 0:self.n_neighbors]\n",
    "            \n",
    "        elif self.algorithm == 'kd_tree':\n",
    "            \n",
    "            distant, indices = self.x_train_tree.query(self.x_test, self.n_neighbors)\n",
    "            \n",
    "            priznaki = self.y_train[indices]\n",
    "        \n",
    "        indices = np.unique(priznaki, return_inverse=True)\n",
    "        \n",
    "        return indices[0][np.argmax(np.apply_along_axis(np.bincount, 1, priznaki, None, np.max(indices[1]) + 1), axis=1)]\n",
    "            "
   ]
  },
  {
   "cell_type": "markdown",
   "metadata": {},
   "source": [
    "**IRIS**\n",
    "\n",
    "В библиотеке scikit-learn есть несколько датасетов из коробки. Один из них [Ирисы Фишера](https://ru.wikipedia.org/wiki/%D0%98%D1%80%D0%B8%D1%81%D1%8B_%D0%A4%D0%B8%D1%88%D0%B5%D1%80%D0%B0)"
   ]
  },
  {
   "cell_type": "code",
   "execution_count": 3,
   "metadata": {},
   "outputs": [],
   "source": [
    "iris = datasets.load_iris()"
   ]
  },
  {
   "cell_type": "code",
   "execution_count": 8,
   "metadata": {},
   "outputs": [],
   "source": [
    "X_train, X_test, y_train, y_test = train_test_split(iris.data, iris.target, test_size=0.1, stratify=iris.target)"
   ]
  },
  {
   "cell_type": "code",
   "execution_count": 9,
   "metadata": {},
   "outputs": [],
   "source": [
    "clf = KNeighborsClassifier(n_neighbors=2, algorithm='brute')\n",
    "my_clf = MyKNeighborsClassifier(n_neighbors=2, algorithm='brute')"
   ]
  },
  {
   "cell_type": "code",
   "execution_count": 10,
   "metadata": {},
   "outputs": [],
   "source": [
    "clf.fit(X_train, y_train)\n",
    "my_clf.fit(X_train, y_train)"
   ]
  },
  {
   "cell_type": "code",
   "execution_count": 11,
   "metadata": {},
   "outputs": [],
   "source": [
    "sklearn_pred = clf.predict(X_test)\n",
    "my_clf_pred = my_clf.predict(X_test)\n",
    "assert abs( accuracy_score(y_test, my_clf_pred) -  accuracy_score(y_test, sklearn_pred ) )<0.005, 'Score must be equal'"
   ]
  },
  {
   "cell_type": "code",
   "execution_count": 12,
   "metadata": {},
   "outputs": [
    {
     "name": "stdout",
     "output_type": "stream",
     "text": [
      "205 better 567 equal\n"
     ]
    }
   ],
   "source": [
    "counter_better = 0\n",
    "counter_equal = 0\n",
    "for i in range(1000):\n",
    "    X_train, X_test, y_train, y_test = train_test_split(iris.data, iris.target, test_size=0.1, stratify=iris.target)\n",
    "    clf = KNeighborsClassifier(n_neighbors=2, algorithm='brute')\n",
    "    my_clf = MyKNeighborsClassifier(n_neighbors=2, algorithm='brute')\n",
    "    clf.fit(X_train, y_train)\n",
    "    my_clf.fit(X_train, y_train)\n",
    "    sklearn_pred = clf.predict(X_test)\n",
    "    my_clf_pred = my_clf.predict(X_test)\n",
    "    \n",
    "    if accuracy_score(y_test, my_clf_pred) >  accuracy_score(y_test, sklearn_pred ):\n",
    "        counter_better += 1\n",
    "    elif accuracy_score(y_test, my_clf_pred) == accuracy_score(y_test, sklearn_pred ):\n",
    "        counter_equal += 1\n",
    "print(counter_better, 'better', counter_equal, 'equal')"
   ]
  },
  {
   "cell_type": "markdown",
   "metadata": {},
   "source": [
    "**Задание 2 (0.5 балла)**\n",
    "\n",
    "Давайте попробуем добиться скорости работы на fit, predict сравнимой со sklearn для iris. Допускается замедление не более чем в 2 раза. \n",
    "Для этого используем numpy. "
   ]
  },
  {
   "cell_type": "code",
   "execution_count": 13,
   "metadata": {},
   "outputs": [
    {
     "name": "stdout",
     "output_type": "stream",
     "text": [
      "CPU times: user 611 µs, sys: 76 µs, total: 687 µs\n",
      "Wall time: 719 µs\n"
     ]
    },
    {
     "data": {
      "text/plain": [
       "KNeighborsClassifier(algorithm='brute', n_neighbors=2)"
      ]
     },
     "execution_count": 13,
     "metadata": {},
     "output_type": "execute_result"
    }
   ],
   "source": [
    "%time clf.fit(X_train, y_train)"
   ]
  },
  {
   "cell_type": "code",
   "execution_count": 14,
   "metadata": {},
   "outputs": [
    {
     "name": "stdout",
     "output_type": "stream",
     "text": [
      "CPU times: user 611 µs, sys: 779 µs, total: 1.39 ms\n",
      "Wall time: 1.24 ms\n"
     ]
    }
   ],
   "source": [
    "%time my_clf.fit(X_train, y_train)"
   ]
  },
  {
   "cell_type": "code",
   "execution_count": 15,
   "metadata": {},
   "outputs": [
    {
     "name": "stdout",
     "output_type": "stream",
     "text": [
      "CPU times: user 2.03 ms, sys: 659 µs, total: 2.69 ms\n",
      "Wall time: 2.18 ms\n"
     ]
    },
    {
     "data": {
      "text/plain": [
       "array([0, 1, 0, 2, 0, 2, 1, 1, 1, 0, 2, 1, 0, 2, 2])"
      ]
     },
     "execution_count": 15,
     "metadata": {},
     "output_type": "execute_result"
    }
   ],
   "source": [
    "%time clf.predict(X_test)"
   ]
  },
  {
   "cell_type": "code",
   "execution_count": 16,
   "metadata": {},
   "outputs": [
    {
     "name": "stdout",
     "output_type": "stream",
     "text": [
      "CPU times: user 771 µs, sys: 479 µs, total: 1.25 ms\n",
      "Wall time: 825 µs\n"
     ]
    },
    {
     "data": {
      "text/plain": [
       "array([0, 1, 0, 2, 0, 2, 1, 1, 1, 0, 2, 1, 0, 2, 2])"
      ]
     },
     "execution_count": 16,
     "metadata": {},
     "output_type": "execute_result"
    }
   ],
   "source": [
    "%time my_clf.predict(X_test)"
   ]
  },
  {
   "cell_type": "markdown",
   "metadata": {},
   "source": [
    "###### Задание 3 (1 балл)\n",
    "Добавьте algorithm='kd_tree' в реализацию KNN (использовать KDTree из sklearn.neighbors). Необходимо добиться скорости работы на fit,  predict сравнимой со sklearn для iris. Допускается замедление не более чем в 2 раза. \n",
    "Для этого используем numpy. Точность не должна уступать значению KNN из sklearn. "
   ]
  },
  {
   "cell_type": "code",
   "execution_count": 17,
   "metadata": {},
   "outputs": [],
   "source": [
    "clf = KNeighborsClassifier(n_neighbors=2, algorithm='kd_tree')\n",
    "my_clf = MyKNeighborsClassifier(n_neighbors=2, algorithm='kd_tree')"
   ]
  },
  {
   "cell_type": "code",
   "execution_count": 31,
   "metadata": {},
   "outputs": [],
   "source": [
    "X_train, X_test, y_train, y_test = train_test_split(iris.data, iris.target, test_size=0.1, stratify=iris.target)"
   ]
  },
  {
   "cell_type": "code",
   "execution_count": 32,
   "metadata": {},
   "outputs": [
    {
     "name": "stdout",
     "output_type": "stream",
     "text": [
      "CPU times: user 703 µs, sys: 147 µs, total: 850 µs\n",
      "Wall time: 758 µs\n"
     ]
    },
    {
     "data": {
      "text/plain": [
       "KNeighborsClassifier(algorithm='kd_tree', n_neighbors=2)"
      ]
     },
     "execution_count": 32,
     "metadata": {},
     "output_type": "execute_result"
    }
   ],
   "source": [
    "%time clf.fit(X_train, y_train)"
   ]
  },
  {
   "cell_type": "code",
   "execution_count": 33,
   "metadata": {},
   "outputs": [
    {
     "name": "stdout",
     "output_type": "stream",
     "text": [
      "CPU times: user 652 µs, sys: 273 µs, total: 925 µs\n",
      "Wall time: 786 µs\n"
     ]
    }
   ],
   "source": [
    "%time my_clf.fit(X_train, y_train)"
   ]
  },
  {
   "cell_type": "code",
   "execution_count": 34,
   "metadata": {},
   "outputs": [
    {
     "name": "stdout",
     "output_type": "stream",
     "text": [
      "CPU times: user 2.15 ms, sys: 723 µs, total: 2.88 ms\n",
      "Wall time: 2.3 ms\n"
     ]
    },
    {
     "data": {
      "text/plain": [
       "array([2, 0, 2, 1, 0, 1, 2, 0, 1, 1, 2, 2, 0, 1, 0])"
      ]
     },
     "execution_count": 34,
     "metadata": {},
     "output_type": "execute_result"
    }
   ],
   "source": [
    "%time clf.predict(X_test)"
   ]
  },
  {
   "cell_type": "code",
   "execution_count": 35,
   "metadata": {},
   "outputs": [
    {
     "name": "stdout",
     "output_type": "stream",
     "text": [
      "CPU times: user 1.02 ms, sys: 415 µs, total: 1.43 ms\n",
      "Wall time: 1.2 ms\n"
     ]
    },
    {
     "data": {
      "text/plain": [
       "array([2, 0, 2, 1, 0, 1, 2, 0, 1, 1, 2, 2, 0, 1, 0])"
      ]
     },
     "execution_count": 35,
     "metadata": {},
     "output_type": "execute_result"
    }
   ],
   "source": [
    "%time my_clf.predict(X_test)"
   ]
  },
  {
   "cell_type": "code",
   "execution_count": 36,
   "metadata": {},
   "outputs": [],
   "source": [
    "sklearn_pred = clf.predict(X_test)\n",
    "my_clf_pred = my_clf.predict(X_test)\n",
    "assert abs( accuracy_score(y_test, my_clf_pred) -  accuracy_score(y_test, sklearn_pred ) )<0.005, \"Score must be simillar\""
   ]
  },
  {
   "cell_type": "code",
   "execution_count": 37,
   "metadata": {},
   "outputs": [
    {
     "name": "stdout",
     "output_type": "stream",
     "text": [
      "213 better 573 equal\n"
     ]
    }
   ],
   "source": [
    "counter_better = 0\n",
    "counter_equal = 0\n",
    "for i in range(1000):\n",
    "    X_train, X_test, y_train, y_test = train_test_split(iris.data, iris.target, test_size=0.1, stratify=iris.target)\n",
    "    clf = KNeighborsClassifier(n_neighbors=2, algorithm='kd_tree')\n",
    "    my_clf = MyKNeighborsClassifier(n_neighbors=2, algorithm='kd_tree')\n",
    "    clf.fit(X_train, y_train)\n",
    "    my_clf.fit(X_train, y_train)\n",
    "    sklearn_pred = clf.predict(X_test)\n",
    "    my_clf_pred = my_clf.predict(X_test)\n",
    "    if accuracy_score(y_test, my_clf_pred) >  accuracy_score(y_test, sklearn_pred ):\n",
    "        counter_better += 1\n",
    "    elif accuracy_score(y_test, my_clf_pred) == accuracy_score(y_test, sklearn_pred ):\n",
    "        counter_equal += 1\n",
    "print(counter_better, 'better', counter_equal, 'equal')"
   ]
  },
  {
   "cell_type": "markdown",
   "metadata": {},
   "source": [
    "**Задание 4 (2.5 балла)**\n",
    "\n",
    "Рассмотрим новый датасет 20 newsgroups"
   ]
  },
  {
   "cell_type": "code",
   "execution_count": 38,
   "metadata": {},
   "outputs": [],
   "source": [
    "newsgroups = fetch_20newsgroups(subset='train',remove=['headers','footers', 'quotes'])"
   ]
  },
  {
   "cell_type": "code",
   "execution_count": 39,
   "metadata": {},
   "outputs": [],
   "source": [
    "data = newsgroups['data']\n",
    "target = newsgroups['target']"
   ]
  },
  {
   "cell_type": "markdown",
   "metadata": {},
   "source": [
    "Преобразуйте текстовые данные из data с помощью [CountVectorizer](https://scikit-learn.org/stable/modules/generated/sklearn.feature_extraction.text.CountVectorizer.html). Словарь можно ограничить по частотности."
   ]
  },
  {
   "cell_type": "code",
   "execution_count": 40,
   "metadata": {},
   "outputs": [
    {
     "name": "stderr",
     "output_type": "stream",
     "text": [
      "IOPub data rate exceeded.\n",
      "The notebook server will temporarily stop sending output\n",
      "to the client in order to avoid crashing it.\n",
      "To change this limit, set the config variable\n",
      "`--NotebookApp.iopub_data_rate_limit`.\n",
      "\n",
      "Current values:\n",
      "NotebookApp.iopub_data_rate_limit=1000000.0 (bytes/sec)\n",
      "NotebookApp.rate_limit_window=3.0 (secs)\n",
      "\n"
     ]
    }
   ],
   "source": [
    "#data = [re.sub(r'[^0-9a-zA-Z@]+', ' ', text) for text in data]\n",
    "vectorize = CountVectorizer(data, min_df = 0.005)\n",
    "vectorizer = TfidfVectorizer(data, min_df = 0.005)"
   ]
  },
  {
   "cell_type": "code",
   "execution_count": 41,
   "metadata": {},
   "outputs": [],
   "source": [
    "matrix_tfidf = vectorizer.fit_transform(data)\n",
    "matrix = vectorize.fit_transform(data)"
   ]
  },
  {
   "cell_type": "markdown",
   "metadata": {},
   "source": [
    "*Так мы получили векторное представление наших текстов. Значит можно приступать к задаче обучения модели*"
   ]
  },
  {
   "cell_type": "markdown",
   "metadata": {},
   "source": [
    "Реализуйте разбиение выборки для кросс-валидации на 3 фолдах. Разрешено использовать sklearn.cross_validation"
   ]
  },
  {
   "cell_type": "code",
   "execution_count": 42,
   "metadata": {},
   "outputs": [],
   "source": [
    "rkf = KFold(n_splits=3)\n",
    "test = rkf.split(matrix)"
   ]
  },
  {
   "cell_type": "markdown",
   "metadata": {},
   "source": [
    "Напишите метод, позволяющий найти оптимальное количество ближайших соседей(дающее максимальную точность в среднем на валидации на 3 фолдах).\n",
    "Постройте график зависимости средней точности от количества соседей. Можно рассмотреть число соседей от 1 до 10."
   ]
  },
  {
   "cell_type": "code",
   "execution_count": 43,
   "metadata": {},
   "outputs": [],
   "source": [
    "def calculate_optimal(X, y, alg='brute', metr='euclidean'):\n",
    "    scores = np.array(range(19), dtype=float)\n",
    "    for n in range(1, 20):\n",
    "        print(n, 'iteration')\n",
    "        rkf = KFold(n_splits=3, shuffle = True)\n",
    "        test = rkf.split(X)\n",
    "        my_clf = MyKNeighborsClassifier(n_neighbors=n+1, algorithm=alg, metric=metr)\n",
    "        curr_result = []\n",
    "        for training, testing in test:\n",
    "            training_X, training_Y = X[training], y[training]\n",
    "            testing_X, testing_Y = X[testing], y[testing]\n",
    "            my_clf.fit(training_X, training_Y)\n",
    "            my_clf_pred = my_clf.predict(testing_X)\n",
    "            curr_result.append(accuracy_score(testing_Y, my_clf_pred))\n",
    "            print(accuracy_score(testing_Y, my_clf_pred), ' number of neighbours -', n+1)\n",
    "        scores[n-1] = np.mean(curr_result)\n",
    "    return scores"
   ]
  },
  {
   "cell_type": "code",
   "execution_count": 44,
   "metadata": {},
   "outputs": [
    {
     "name": "stdout",
     "output_type": "stream",
     "text": [
      "1 iteration\n",
      "0.3303287380699894  number of neighbours - 2\n",
      "0.3487138690002652  number of neighbours - 2\n",
      "0.3391673296207902  number of neighbours - 2\n",
      "2 iteration\n",
      "0.34782608695652173  number of neighbours - 3\n",
      "0.3688676743569345  number of neighbours - 3\n",
      "0.3582604083797401  number of neighbours - 3\n",
      "3 iteration\n",
      "0.38547189819724287  number of neighbours - 4\n",
      "0.37204985415009284  number of neighbours - 4\n",
      "0.38875629806417394  number of neighbours - 4\n",
      "4 iteration\n",
      "0.40402969247083775  number of neighbours - 5\n",
      "0.3996287456907982  number of neighbours - 5\n",
      "0.40387165208167597  number of neighbours - 5\n",
      "5 iteration\n",
      "0.4159597030752916  number of neighbours - 6\n",
      "0.420843277645187  number of neighbours - 6\n",
      "0.40387165208167597  number of neighbours - 6\n",
      "6 iteration\n",
      "0.43584305408271473  number of neighbours - 7\n",
      "0.42561654733492443  number of neighbours - 7\n",
      "0.43330681516839037  number of neighbours - 7\n",
      "7 iteration\n",
      "0.43478260869565216  number of neighbours - 8\n",
      "0.42853354547865286  number of neighbours - 8\n",
      "0.43463272341553966  number of neighbours - 8\n",
      "8 iteration\n",
      "0.4395546129374337  number of neighbours - 9\n",
      "0.42853354547865286  number of neighbours - 9\n",
      "0.4523998939273402  number of neighbours - 9\n",
      "9 iteration\n",
      "0.4599681866383881  number of neighbours - 10\n",
      "0.4370193582604084  number of neighbours - 10\n",
      "0.44099708300185625  number of neighbours - 10\n",
      "10 iteration\n",
      "0.45572640509013784  number of neighbours - 11\n",
      "0.4675152479448422  number of neighbours - 11\n",
      "0.44630071599045346  number of neighbours - 11\n",
      "11 iteration\n",
      "0.46076352067868503  number of neighbours - 12\n",
      "0.4611508883585256  number of neighbours - 12\n",
      "0.4611508883585256  number of neighbours - 12\n",
      "12 iteration\n",
      "0.468186638388123  number of neighbours - 13\n",
      "0.4563776186687881  number of neighbours - 13\n",
      "0.48024396711747547  number of neighbours - 13\n",
      "13 iteration\n",
      "0.457847295864263  number of neighbours - 14\n",
      "0.458499071864227  number of neighbours - 14\n",
      "0.4709626093874304  number of neighbours - 14\n",
      "14 iteration\n",
      "0.4795864262990456  number of neighbours - 15\n",
      "0.4805091487669053  number of neighbours - 15\n",
      "0.4648634314505436  number of neighbours - 15\n",
      "15 iteration\n",
      "0.4658006362672322  number of neighbours - 16\n",
      "0.4813046937151949  number of neighbours - 16\n",
      "0.48952532484752054  number of neighbours - 16\n",
      "16 iteration\n",
      "0.4909862142099682  number of neighbours - 17\n",
      "0.4892601431980907  number of neighbours - 17\n",
      "0.47706178732431714  number of neighbours - 17\n",
      "17 iteration\n",
      "0.4801166489925769  number of neighbours - 18\n",
      "0.49058605144524  number of neighbours - 18\n",
      "0.4818350570140546  number of neighbours - 18\n",
      "18 iteration\n",
      "0.4968186638388123  number of neighbours - 19\n",
      "0.488729779899231  number of neighbours - 19\n",
      "0.4911164147440997  number of neighbours - 19\n",
      "19 iteration\n",
      "0.49443266171792155  number of neighbours - 20\n",
      "0.49615486608326703  number of neighbours - 20\n",
      "0.4858127817555025  number of neighbours - 20\n"
     ]
    },
    {
     "data": {
      "text/plain": [
       "array([0.33940331, 0.35831806, 0.38209268, 0.40251003, 0.41355821,\n",
       "       0.43158881, 0.43264963, 0.44016268, 0.44599488, 0.45651412,\n",
       "       0.46102177, 0.46826941, 0.46243633, 0.47498634, 0.47887688,\n",
       "       0.48576938, 0.48417925, 0.49222162, 0.49213344])"
      ]
     },
     "execution_count": 44,
     "metadata": {},
     "output_type": "execute_result"
    }
   ],
   "source": [
    "new_brute_cosine_tfidf = calculate_optimal(matrix_tfidf, target, alg = 'brute', metr = 'cosine')\n",
    "new_brute_cosine_tfidf"
   ]
  },
  {
   "cell_type": "code",
   "execution_count": 45,
   "metadata": {},
   "outputs": [
    {
     "name": "stdout",
     "output_type": "stream",
     "text": [
      "17 0.4922216194940477\n"
     ]
    }
   ],
   "source": [
    "print(new_brute_cosine_tfidf.argmax() ,new_brute_cosine_tfidf[new_brute_cosine_tfidf.argmax()])"
   ]
  },
  {
   "cell_type": "code",
   "execution_count": 46,
   "metadata": {},
   "outputs": [
    {
     "data": {
      "text/plain": [
       "[<matplotlib.lines.Line2D at 0x7fa92d5b56a0>]"
      ]
     },
     "execution_count": 46,
     "metadata": {},
     "output_type": "execute_result"
    },
    {
     "data": {
      "image/png": "[encoded data removed]",
      "text/plain": [
       "<Figure size 432x288 with 1 Axes>"
      ]
     },
     "metadata": {
      "needs_background": "light"
     },
     "output_type": "display_data"
    }
   ],
   "source": [
    "x = np.arange(2, 21, 1)\n",
    "plt.plot(x, new_brute_cosine_tfidf)"
   ]
  },
  {
   "cell_type": "code",
   "execution_count": 48,
   "metadata": {},
   "outputs": [
    {
     "name": "stdout",
     "output_type": "stream",
     "text": [
      "30 iteration\n",
      "0.5060975609756098  number of neighbours - 30\n",
      "0.5160434897905065  number of neighbours - 30\n",
      "0.5160434897905065  number of neighbours - 30\n",
      "40 iteration\n",
      "0.528101802757158  number of neighbours - 40\n",
      "0.524529302572262  number of neighbours - 40\n",
      "0.5332802970034474  number of neighbours - 40\n",
      "50 iteration\n",
      "0.5426829268292683  number of neighbours - 50\n",
      "0.5407053831874834  number of neighbours - 50\n",
      "0.5271811190665606  number of neighbours - 50\n",
      "60 iteration\n",
      "0.5455991516436903  number of neighbours - 60\n",
      "0.5460090161760807  number of neighbours - 60\n",
      "0.5505171042163882  number of neighbours - 60\n",
      "70 iteration\n",
      "0.5527571580063627  number of neighbours - 70\n",
      "0.5611243701935826  number of neighbours - 70\n",
      "0.5574118271015646  number of neighbours - 70\n",
      "80 iteration\n",
      "0.559915164369035  number of neighbours - 80\n",
      "0.5481304693715194  number of neighbours - 80\n",
      "0.5526385574118271  number of neighbours - 80\n",
      "90 iteration\n",
      "0.5604453870625663  number of neighbours - 90\n",
      "0.5714664545213471  number of neighbours - 90\n",
      "0.5627154600901617  number of neighbours - 90\n",
      "100 iteration\n",
      "0.5662778366914104  number of neighbours - 100\n",
      "0.5664280031821798  number of neighbours - 100\n",
      "0.5590029169981438  number of neighbours - 100\n",
      "110 iteration\n",
      "0.5681336161187699  number of neighbours - 110\n",
      "0.5653672765844604  number of neighbours - 110\n",
      "0.575444179262795  number of neighbours - 110\n"
     ]
    }
   ],
   "source": [
    "i = [30,40,50,60,70,80,90,100,110]\n",
    "scores = np.array(range(len(i)), dtype=float)\n",
    "k = 0\n",
    "for n in i:\n",
    "    print(n, 'iteration')\n",
    "    rkf = KFold(n_splits=3, shuffle = True)\n",
    "    test = rkf.split(matrix_tfidf)\n",
    "    test_clf = MyKNeighborsClassifier(n_neighbors=n, algorithm='brute', metric='cosine')\n",
    "    curr_result = []\n",
    "    for training, testing in test:\n",
    "        training_X, training_Y = matrix_tfidf[training], target[training]\n",
    "        testing_X, testing_Y = matrix_tfidf[testing], target[testing]\n",
    "        test_clf.fit(training_X, training_Y)\n",
    "        test_clf_pred = test_clf.predict(testing_X)\n",
    "        curr_result.append(accuracy_score(testing_Y, test_clf_pred))\n",
    "        print(accuracy_score(testing_Y, test_clf_pred), ' number of neighbours -', n)\n",
    "    scores[k] = np.mean(curr_result)\n",
    "    k += 1"
   ]
  },
  {
   "cell_type": "code",
   "execution_count": 50,
   "metadata": {},
   "outputs": [
    {
     "data": {
      "text/plain": [
       "[<matplotlib.lines.Line2D at 0x7fa91b74b3d0>]"
      ]
     },
     "execution_count": 50,
     "metadata": {},
     "output_type": "execute_result"
    },
    {
     "data": {
      "image/png": "[encoded data removed]",
      "text/plain": [
       "<Figure size 432x288 with 1 Axes>"
      ]
     },
     "metadata": {
      "needs_background": "light"
     },
     "output_type": "display_data"
    }
   ],
   "source": [
    "plt.plot(i, scores)"
   ]
  },
  {
   "cell_type": "markdown",
   "metadata": {},
   "source": [
    "Чем больше соседей - тем значение лучше, возьмем 110."
   ]
  },
  {
   "cell_type": "markdown",
   "metadata": {},
   "source": [
    "Как изменится качество на валидации, если:\n",
    "\n",
    "1. Используется косинусная метрика вместо евклидовой.\n",
    "2. К текстам применяется TfIdf векторизацию( sklearn.feature_extraction.text.TfidfVectorizer)\n",
    "\n",
    "Сравните модели, выберите лучшую."
   ]
  },
  {
   "cell_type": "markdown",
   "metadata": {},
   "source": [
    "Загрузим  теперь test  часть нашей выборки и преобразуем её аналогично с train частью. Не забудьте, что наборы слов в train и test части могут отличаться."
   ]
  },
  {
   "cell_type": "code",
   "execution_count": 51,
   "metadata": {},
   "outputs": [],
   "source": [
    "newsgroups_test = fetch_20newsgroups(subset='test',remove=['headers','footers', 'quotes'])"
   ]
  },
  {
   "cell_type": "markdown",
   "metadata": {},
   "source": [
    "Оценим точность вашей лучшей модели на test части датасета. Отличается ли оно от кросс-валидации? Попробуйте сделать выводы, почему отличается качество."
   ]
  },
  {
   "cell_type": "code",
   "execution_count": 52,
   "metadata": {},
   "outputs": [],
   "source": [
    "new_data = newsgroups_test['data']\n",
    "new_target = newsgroups_test['target']"
   ]
  },
  {
   "cell_type": "code",
   "execution_count": 53,
   "metadata": {},
   "outputs": [
    {
     "name": "stderr",
     "output_type": "stream",
     "text": [
      "IOPub data rate exceeded.\n",
      "The notebook server will temporarily stop sending output\n",
      "to the client in order to avoid crashing it.\n",
      "To change this limit, set the config variable\n",
      "`--NotebookApp.iopub_data_rate_limit`.\n",
      "\n",
      "Current values:\n",
      "NotebookApp.iopub_data_rate_limit=1000000.0 (bytes/sec)\n",
      "NotebookApp.rate_limit_window=3.0 (secs)\n",
      "\n"
     ]
    }
   ],
   "source": [
    "vectorizer_test = TfidfVectorizer(new_data, min_df = 0.005)"
   ]
  },
  {
   "cell_type": "code",
   "execution_count": 54,
   "metadata": {},
   "outputs": [],
   "source": [
    "matrix_test_tfidf = vectorizer_test.fit_transform(new_data)"
   ]
  },
  {
   "cell_type": "code",
   "execution_count": 55,
   "metadata": {},
   "outputs": [
    {
     "name": "stdout",
     "output_type": "stream",
     "text": [
      "0.5539625647152528  number of neighbours - 110\n",
      "0.5694942254082039  number of neighbours - 110\n",
      "0.549800796812749  number of neighbours - 110\n"
     ]
    }
   ],
   "source": [
    "rkf = KFold(n_splits=3, shuffle = True)\n",
    "test = rkf.split(matrix_test_tfidf)\n",
    "my_clf = MyKNeighborsClassifier(n_neighbors=110, algorithm='brute', metric='cosine')\n",
    "curr_result = []\n",
    "for training, testing in test:\n",
    "    training_X, training_Y = matrix_test_tfidf[training], new_target[training]\n",
    "    testing_X, testing_Y = matrix_test_tfidf[testing], new_target[testing]\n",
    "    my_clf.fit(training_X, training_Y)\n",
    "    my_clf_pred = my_clf.predict(testing_X)\n",
    "    curr_result.append(accuracy_score(testing_Y, my_clf_pred))\n",
    "    print(accuracy_score(testing_Y, my_clf_pred), ' number of neighbours -', 110)"
   ]
  },
  {
   "cell_type": "markdown",
   "metadata": {},
   "source": [
    "Ненамного отличается."
   ]
  }
 ],
 "metadata": {
  "kernelspec": {
   "display_name": "Python 3",
   "language": "python",
   "name": "python3"
  },
  "language_info": {
   "codemirror_mode": {
    "name": "ipython",
    "version": 3
   },
   "file_extension": ".py",
   "mimetype": "text/x-python",
   "name": "python",
   "nbconvert_exporter": "python",
   "pygments_lexer": "ipython3",
   "version": "3.8.3"
  }
 },
 "nbformat": 4,
 "nbformat_minor": 4
}
