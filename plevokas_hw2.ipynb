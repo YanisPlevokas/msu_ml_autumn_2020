{
 "cells": [
  {
   "cell_type": "markdown",
   "metadata": {},
   "source": [
    "# Алгоритмы интеллектуальной обработки больших объемов данных\n",
    "## Домашнее задание №2: Линейные модели\n"
   ]
  },
  {
   "cell_type": "markdown",
   "metadata": {},
   "source": [
    "###### <hr\\>\n",
    "**Общая информация**\n",
    "\n",
    "**Срок сдачи:** 09 ноября 18:00 Сдача **очная** на онлайн занятии. <br\\>\n",
    "\n",
    "\n",
    "Используйте данный Ipython Notebook при оформлении домашнего задания.\n",
    "\n",
    "Присылать ДЗ необходимо в виде ссылки на свой github репозиторий на почту ml1.sphere@mail.ru с указанием темы в следующем формате:\n",
    "\n",
    "[ML0920, Задание 2] Фамилия Имя.\n",
    "\n",
    "\n",
    "\n",
    "**Штрафные баллы:**\n",
    "\n",
    "1. Невыполнение PEP8 -1 балл\n",
    "2. Отсутствие фамилии в имени скрипта (скрипт должен называться по аналогии со stroykova_hw2.ipynb) -1 балл\n",
    "3. Все строчки должны быть выполнены. Нужно, чтобы output команды можно было увидеть уже в git'е. В противном случае -1 балл\n",
    "4. При оформлении ДЗ нужно пользоваться данным файлом в качестве шаблона. Не нужно удалять и видоизменять написанный код и текст, если явно не указана такая возможность. В противном случае -1 балл\n",
    "<hr\\>"
   ]
  },
  {
   "cell_type": "code",
   "execution_count": 1,
   "metadata": {},
   "outputs": [],
   "source": [
    "import pandas as pd\n",
    "import numpy as np\n",
    "import matplotlib.pyplot as plt\n",
    "import sklearn\n",
    "from sklearn.metrics import f1_score\n",
    "from sklearn.linear_model import LinearRegression\n",
    "from sklearn.preprocessing import StandardScaler\n",
    "from sklearn.model_selection import cross_val_score\n",
    "from sklearn.base import BaseEstimator, ClassifierMixin\n",
    "\n",
    "%matplotlib inline\n",
    "\n",
    "plt.style.use('ggplot')\n",
    "plt.rcParams['figure.figsize'] = (12,5)"
   ]
  },
  {
   "cell_type": "markdown",
   "metadata": {},
   "source": [
    "Здравствуйте, уважаемые студенты! \n",
    "\n",
    "В этом задании мы будем реализовать линейные модели. Необходимо реализовать линейную и логистическую регрессии с L2 регуляризацией"
   ]
  },
  {
   "cell_type": "markdown",
   "metadata": {},
   "source": [
    "# Теоретическое введение\n",
    "\n"
   ]
  },
  {
   "cell_type": "markdown",
   "metadata": {},
   "source": [
    "Линейная регрессия решает задачу регрессии и оптимизирует функцию потерь MSE \n",
    "\n",
    "$$L(w) =  \\frac{1}{N}\\left[\\sum_i (y_i - a_i) ^ 2 \\right], $$ где $y_i$ $-$ целевая функция,  $a_i = a(x_i) =  \\langle\\,x_i,w\\rangle ,$ $-$ предсказание алгоритма на объекте $x_i$, $w$ $-$ вектор весов (размерности $D$), $x_i$ $-$ вектор признаков (такой же размерности $D$).\n",
    "\n",
    "Не забываем, что здесь и далее  мы считаем, что в $x_i$ есть тождественный вектор единиц, ему соответствует вес $w_0$.\n"
   ]
  },
  {
   "cell_type": "markdown",
   "metadata": {},
   "source": [
    "Логистическая регрессия является линейным классификатором, который оптимизирует так называемый функционал log loss:"
   ]
  },
  {
   "cell_type": "markdown",
   "metadata": {},
   "source": [
    "$$L(w) = - \\frac{1}{N}\\left[\\sum_i y_i \\log a_i + ( 1 - y_i) \\log (1 - a_i) \\right],$$\n",
    "где  $y_i  \\in \\{0,1\\}$ $-$ метка класса, $a_i$ $-$ предсказание алгоритма на объекте $x_i$. Модель пытается предсказать апостериорую вероятность объекта принадлежать к классу \"1\":\n",
    "$$ p(y_i = 1 | x_i) = a(x_i) =  \\sigma( \\langle\\,x_i,w\\rangle ),$$\n",
    "$w$ $-$ вектор весов (размерности $D$), $x_i$ $-$ вектор признаков (такой же размерности $D$).\n",
    "\n",
    "Функция $\\sigma(x)$ $-$ нелинейная функция, пероводящее скалярное произведение объекта на веса в число $\\in (0,1)$ (мы же моделируем вероятность все-таки!)\n",
    "\n",
    "$$\\sigma(x) = \\frac{1}{1 + \\exp(-x)}$$\n",
    "\n",
    "Если внимательно посмотреть на функцию потерь, то можно заметить, что в зависимости от правильного ответа алгоритм штрафуется или функцией $-\\log a_i$, или функцией $-\\log (1 - a_i)$.\n",
    "\n"
   ]
  },
  {
   "cell_type": "markdown",
   "metadata": {},
   "source": [
    "Часто для решения проблем, которые так или иначе связаны с проблемой переобучения, в функционал качества добавляют слагаемое, которое называют ***регуляризацией***. Итоговый функционал для линейной регрессии тогда принимает вид:\n",
    "\n",
    "$$L(w) =  \\frac{1}{N}\\left[\\sum_i (y_i - a_i) ^ 2 \\right] + \\frac{1}{C}R(w) $$\n",
    "\n",
    "Для логистической: \n",
    "$$L(w) = - \\frac{1}{N}\\left[\\sum_i y_i \\log a_i + ( 1 - y_i) \\log (1 - a_i) \\right] +  \\frac{1}{C}R(w)$$\n",
    "\n",
    "Самое понятие регуляризации введено основателем ВМК академиком Тихоновым https://ru.wikipedia.org/wiki/Метод_регуляризации_Тихонова\n",
    "\n",
    "Идейно методика регуляризации заключается в следующем $-$ мы рассматриваем некорректно поставленную задачу (что это такое можно найти в интернете), для того чтобы сузить набор различных вариантов (лучшие из которых будут являться переобучением ) мы вводим дополнительные ограничения на множество искомых решений. На лекции Вы уже рассмотрели два варианта регуляризации.\n",
    "\n",
    "$L1$ регуляризация:\n",
    "$$R(w) = \\sum_{j=1}^{D}|w_j|$$\n",
    "$L2$ регуляризация:\n",
    "$$R(w) =  \\sum_{j=1}^{D}w_j^2$$\n",
    "\n",
    "С их помощью мы ограничиваем модель в  возможности выбора каких угодно весов минимизирующих наш лосс, модель уже не сможет подстроиться под данные как ей угодно. \n",
    "\n",
    "Вам нужно добавить соотвествущую Вашему варианту $L2$ регуляризацию.\n",
    "\n",
    "И так, мы поняли, какую функцию ошибки будем минимизировать, разобрались, как получить предсказания по объекту и обученным весам. Осталось разобраться, как получить оптимальные веса. Для этого нужно выбрать какой-то метод оптимизации.\n",
    "\n"
   ]
  },
  {
   "cell_type": "markdown",
   "metadata": {},
   "source": [
    "Градиентный спуск является самым популярным алгоритмом обучения линейных моделей. В этом задании Вам предложат реализовать стохастический градиентный спуск или  мини-батч градиентный спуск (мини-батч на русский язык довольно сложно перевести, многие переводят это как \"пакетный\", но мне не кажется этот перевод удачным). Далее нам потребуется определение **эпохи**.\n",
    "Эпохой в SGD и MB-GD называется один проход по **всем** объектам в обучающей выборки.\n",
    "* В SGD градиент расчитывается по одному случайному объекту. Сам алгоритм выглядит примерно так:\n",
    "        1) Перемешать выборку\n",
    "        2) Посчитать градиент функции потерь на одном объекте (далее один объект тоже будем называть батчем)\n",
    "        3) Сделать шаг спуска\n",
    "        4) Повторять 2) и 3) пока не пройдет максимальное число эпох.\n",
    "* В Mini Batch SGD - по подвыборке объектов. Сам алгоритм выглядит примерно так::\n",
    "        1) Перемешать выборку, выбрать размер мини-батча (от 1 до размера выборки)\n",
    "        2) Почитать градиент функции потерь по мини-батчу (не забыть поделить на  число объектов в мини-батче)\n",
    "        3) Сделать шаг спуска\n",
    "        4) Повторять 2) и 3) пока не пройдет максимальное число эпох.\n",
    "* Для отладки алгоритма реализуйте возможность  вывода средней ошибки на обучении модели по объектам (мини-батчам). После шага градиентного спуска посчитайте значение ошибки на объекте (или мини-батче), а затем усредните, например, по ста шагам. Если обучение проходит корректно, то мы должны увидеть, что каждые 100 шагов функция потерь уменьшается. \n",
    "* Правило останова - максимальное количество эпох\n",
    "    \n"
   ]
  },
  {
   "cell_type": "markdown",
   "metadata": {},
   "source": [
    "# Теоретические вопросы (2 балла)\n",
    "В этой части Вам будут предложены теоретичские вопросы и задачи по теме. Вы, конечно, можете списать их у своего товарища или найти решение в интернете, но учтите, что они обязательно войдут в теоретический коллоквиум. Лучше разобраться в теме сейчас и успешно ответить на коллоквиуме, чем списать, не разобравшись в материале, и быть терзаемым совестью. \n",
    "\n",
    "\n",
    "Формулы надо оформлять в формате **LaTeX**."
   ]
  },
  {
   "cell_type": "markdown",
   "metadata": {},
   "source": [
    "Задача 1. Градиент для линейной регрессии.\n",
    "* Выпишите формулу обновления весов для линейной регрессии с L2 регуляризацией для мини-батч градиентого спуска размера $n$:\n",
    "\n",
    "$$ w_{new} = w_{old} - 2\\alpha(\\frac{1}{n}\\sum_{i_j=1}^{n} x_{i_j}(\\langle\\,x_{i_j},w_{old}\\rangle - y_{i_j}) + \\frac{1}{C}w_{old}), j = 1...N $$\n",
    "\n",
    " Отнеситесь к этому пункту максимально серьезно, это Вам нужно будет реализовать в задании.\n",
    " \n",
    "Проанализруйте итоговую формулу градиента - как  интуитивно можно  описать, чему равен градиент?"
   ]
  },
  {
   "cell_type": "markdown",
   "metadata": {},
   "source": [
    "Задача 2. Градиент для логистической регрессии.\n",
    "* Выпишите формулу обновления весов для логистической регрессии с L2 регуляризацией  для мини-батч градиентого спуска размера $n$:\n",
    "$$ w_{new} = w_{old} - \\alpha(\\frac{1}{nln2}\\sum_{i_j=1}^{n}x_{i_j}(\\sigma(\\langle\\,x_{i_j},w_{old_i}\\rangle)-y_{i_j}) +\\frac{2}{C}w_{old}) $$\n",
    "\n",
    " Отнеситесь к этому пункту максимально серьезно, это Вам нужно будет реализовать в задании.\n",
    " \n",
    "Проанализруйте итоговую формулу градиента - как  интуитивно можно  описать, чему равен градиент? Как соотносится этот градиент с градиентом, возникающий в задаче линейной регрессии?\n",
    "\n",
    "Подсказка: Вам градиент, которой получается если “в лоб” продифференцировать,  надо немного преобразовать.\n",
    "Надо подставить, что $1 - \\sigma(w,x) $ это  $1 - a(x_i)$, а  $-\\sigma(w,x)$ это $0 - a(x_i)$.  Тогда получится свести к одной красивой формуле с линейной регрессией, которую программировать будет намного проще."
   ]
  },
  {
   "cell_type": "markdown",
   "metadata": {},
   "source": [
    "Задача 3. Точное решение линейной регрессии\n",
    "\n",
    "На лекции было показано, что точное решение линейной регрессии имеет вид $w = (X^TX)^{-1}X^TY $. \n",
    "* Покажите, что это действительно является точкой минимума в случае, если матрица X имеет строк не меньше, чем столбцов и имеет полный ранг. Подсказка: посчитайте Гессиан и покажите, что в этом случае он положительно определен. \n",
    "* Выпишите точное решение для модели с $L2$ регуляризацией. Как L2 регуляризация помогает с точным решением где матрица X имеет линейно зависимые признаки?"
   ]
  },
  {
   "cell_type": "markdown",
   "metadata": {},
   "source": [
    "***Ваше решение здесь***"
   ]
  },
  {
   "cell_type": "markdown",
   "metadata": {},
   "source": [
    "1) Гессиан:\n",
    "$$ H(f(w)) =\n",
    " \\begin{pmatrix}\n",
    "  \\frac{\\partial^{2} f}{\\partial w_{0}^{2}} & \\frac{\\partial^{2} f}{\\partial w_{0} \\partial w_{1}} & \\cdots & \\frac{\\partial^{2} f}{\\partial w_{0} \\partial w_{D}} \\\\\n",
    "  \\frac{\\partial^{2} f}{\\partial w_{1} \\partial w_{0}} & \\frac{\\partial^{2} f}{\\partial w_{0}^{1}} & \\cdots & \\frac{\\partial^{2} f}{\\partial w_{1} \\partial w_{D}} \\\\\n",
    "  \\vdots  & \\vdots  &  \\frac{\\partial^{2} f}{\\partial w_{i} \\partial w_{j}} & \\vdots  \\\\\n",
    "  \\frac{\\partial^{2} f}{\\partial w_{D} \\partial w_{0}} & \\frac{\\partial^{2} f}{\\partial w_{D} \\partial w_{1}} & \\cdots & \\frac{\\partial^{2} f}{\\partial w_{D}^{2}} \n",
    " \\end{pmatrix}$$\n",
    "2) Уравнение:\n",
    " $f(w) = \\frac{1}{N}\\left( w^TX^TXw - w^TX^Ty - y^TXw +y^Ty\\right)$\n",
    " \n",
    "3) $$H(f(w)) = \\begin{equation*}\n",
    "\\left(\n",
    "\\begin{array}{cccc}\n",
    "\\frac{2}{N}x_0^Tx_0 & \\frac{2}{N}x_0^Tx_1 & \\ldots & \\frac{2}{N}x_0^Tx_D\\\\\n",
    "\\frac{2}{N}x_0^Tx_1 & \\frac{2}{N}x_1^Tx_1 & \\ldots & \\frac{2}{N}x_1^Tx_D\\\\\n",
    "\\vdots & \\vdots & \\ddots & \\vdots\\\\\n",
    "\\frac{2}{N}x_D^Tx_0 & \\frac{2}{N}x_D^Tx_1 & \\ldots & \\frac{2}{N}x_D^Tx_D\n",
    "\\end{array}\n",
    "\\right)\n",
    "\\end{equation*} = \\frac{2}{N}X^TX$$\n",
    "4) Мы нашли невырожденную матрицу, чей квадрат равен нашему Гессиану, т.е. положительно определен.\n",
    "\n",
    "5) L2-регуляризация\n",
    "$$f(w) = \\frac{1}{n}(w^{T} X^{T} X w - w^{T} X^{T}y - y^{T}Xw + y^{T}y) + \\frac{1}{C}w^{T}w$$\n",
    "$$ \\nabla_{w}f(w) = 2X^{T}Xw - 2X^{T}y + \\frac{2}{C}Iw $$\n",
    "$$ \\nabla_{w} f(w) = 0 \\iff w = (X^{T}X + \\frac{I}{C})^{-1} X^{T}y $$"
   ]
  },
  {
   "cell_type": "markdown",
   "metadata": {},
   "source": [
    "Задача 4.  Предсказываем вероятности.\n",
    "\n",
    "Когда говорят о логистической регрессии, произносят фразу, что она \"предсказывает вероятности положительного класса\". Давайте разберемся, что же за этим стоит. Посчитаем математическое ожидание функции потерь и проверим, что предсказание алгоритма, оптимизирующее это мат. ожидание, будет являться вероятностью положительного класса. \n",
    "\n",
    "И так, функция потерь на объекте $x_i$, который имеет метку $y_i \\in \\{0,1\\}$  для предсказания $a(x_i)$ равна:\n",
    "$$L(y_i, b) =-[y_i == 1] \\log a(x_i)  - [y_i == 0] \\log(1 - a(x_i)) $$\n",
    "\n",
    "Где $[]$ означает индикатор $-$ он равен единице, если значение внутри него истинно, иначе он равен нулю. Тогда мат. ожидание при условии конкретного $x_i$  по определение мат. ожидания дискретной случайной величины:\n",
    "$$E(L | x_i) = -p(y_i = 1 |x_i ) \\log a(x_i)  - p(y_i = 0 | x_i) \\log( 1 - a(x_i))$$\n",
    "* Докажите, что значение $a(x_i)$, минимизирующее данное мат. ожидание, в точности равно $p(y_i = 1 |x_i)$, то есть равно вероятности положительного класса.\n",
    "\n",
    "Подсказка: возможно, придется воспользоваться, что  $p(y_i = 1 | x_i) + p(y_i = 0 | x_i) = 1$"
   ]
  },
  {
   "cell_type": "markdown",
   "metadata": {},
   "source": [
    "***Ваше решение здесь***"
   ]
  },
  {
   "cell_type": "markdown",
   "metadata": {},
   "source": [
    "Задача 5.  Смысл регуляризации.\n",
    "\n",
    "Нужно ли в L1/L2 регуляризации использовать свободный член $w_0$ (который не умножается ни на какой признак)?\n",
    "\n",
    "Подсказка: подумайте, для чего мы вводим $w_0$"
   ]
  },
  {
   "cell_type": "markdown",
   "metadata": {},
   "source": [
    "***Ваше решение здесь***"
   ]
  },
  {
   "cell_type": "markdown",
   "metadata": {},
   "source": [
    "Цитата с сайта Дьяконова:\n",
    "\"Важно, что не все параметры надо регуляризировать, например, коэффициент при свободном члене (фиктивном признаке X0=1), как правило, не нужно (т.е. формально записанные выше формулы не совсем годятся для практики), особенно, когда Вы делаете полиномиальную регрессию (эту ошибку допускают очень многие).\"\n"
   ]
  },
  {
   "cell_type": "markdown",
   "metadata": {},
   "source": [
    "#  Реализация линейной модели (4 балла)"
   ]
  },
  {
   "cell_type": "markdown",
   "metadata": {},
   "source": [
    "## Зачем нужны батчи?\n"
   ]
  },
  {
   "cell_type": "markdown",
   "metadata": {},
   "source": [
    "Как Вы могли заметить из теоретического введения, что в случае SGD, что в случа mini-batch GD,  на каждой итерации обновление весов  происходит только по небольшой части данных (1 пример в случае SGD, batch примеров в случае mini-batch). То есть для каждой итерации нам *** не нужна вся выборка***. Мы можем просто итерироваться по выборке, беря батч нужного размера (далее 1 объект тоже будем называть батчом).\n",
    "\n",
    "Легко заметить, что в этом случае нам не нужно загружать все данные в оперативную память, достаточно просто считать батч с диска, обновить веса, считать диска другой батч и так далее. В целях упрощения домашней работы, прямо с диска  мы считывать не будем, будем работать с обычными numpy array. \n",
    "\n",
    "\n",
    "\n"
   ]
  },
  {
   "cell_type": "markdown",
   "metadata": {},
   "source": [
    "## Немножко про генераторы в Python\n",
    "\n"
   ]
  },
  {
   "cell_type": "markdown",
   "metadata": {},
   "source": [
    "Идея считывания данных кусками удачно ложится на так называемые ***генераторы*** из языка Python. В данной работе Вам предлагается не только разобраться с логистической регрессией, но  и познакомиться с таким важным элементом языка.  При желании Вы можете убрать весь код, связанный с генераторами, и реализовать логистическую регрессию и без них, ***штрафоваться это никак не будет***. Главное, чтобы сама модель была реализована правильно, и все пункты были выполнены. \n",
    "\n",
    "Подробнее можно почитать вот тут https://anandology.com/python-practice-book/iterators.html\n"
   ]
  },
  {
   "cell_type": "markdown",
   "metadata": {},
   "source": [
    "К генератору стоит относиться просто как к функции, которая порождает не один объект, а целую последовательность объектов. Новое значение из последовательности генерируется с помощью ключевого слова ***yield***. Ниже Вы можете насладиться  генератором чисел Фибоначчи."
   ]
  },
  {
   "cell_type": "code",
   "execution_count": 2,
   "metadata": {},
   "outputs": [],
   "source": [
    "def fib(max_iter=4):\n",
    "    a, b = 0, 1\n",
    "    iter_num = 0\n",
    "    while 1:\n",
    "        yield a\n",
    "        a, b = b, a + b\n",
    "        iter_num += 1\n",
    "        if iter_num == max_iter:\n",
    "            break"
   ]
  },
  {
   "cell_type": "markdown",
   "metadata": {},
   "source": [
    "Вот так можно сгенерировать последовательность Фибоначчи. \n",
    "\n",
    "Заметьте, что к генераторам можно применять некоторые стандартные функции из Python, например enumerate."
   ]
  },
  {
   "cell_type": "code",
   "execution_count": 3,
   "metadata": {},
   "outputs": [
    {
     "name": "stdout",
     "output_type": "stream",
     "text": [
      "Fib num: 0 fib values: 0\n",
      "Fib num: 1 fib values: 1\n",
      "Fib num: 2 fib values: 1\n",
      "Fib num: 3 fib values: 2\n"
     ]
    }
   ],
   "source": [
    "new_generator = fib()\n",
    "for j, fib_val in enumerate(new_generator):\n",
    "    print (\"Fib num: \" + str(j) + \" fib values: \" + str(fib_val))"
   ]
  },
  {
   "cell_type": "markdown",
   "metadata": {},
   "source": [
    "Пересоздавая объект, можно сколько угодно раз генерировать заново последовательность. "
   ]
  },
  {
   "cell_type": "code",
   "execution_count": 4,
   "metadata": {},
   "outputs": [
    {
     "name": "stdout",
     "output_type": "stream",
     "text": [
      "Fib num: 0 fib values: 0\n",
      "Fib num: 1 fib values: 1\n",
      "Fib num: 2 fib values: 1\n",
      "Fib num: 3 fib values: 2\n",
      "Fib num: 0 fib values: 0\n",
      "Fib num: 1 fib values: 1\n",
      "Fib num: 2 fib values: 1\n",
      "Fib num: 3 fib values: 2\n",
      "Fib num: 0 fib values: 0\n",
      "Fib num: 1 fib values: 1\n",
      "Fib num: 2 fib values: 1\n",
      "Fib num: 3 fib values: 2\n"
     ]
    }
   ],
   "source": [
    "for i in range(0, 3):\n",
    "    new_generator = fib()\n",
    "    for j, fib_val in enumerate(new_generator):\n",
    "        print (\"Fib num: \" + str(j) + \" fib values: \" + str(fib_val))"
   ]
  },
  {
   "cell_type": "markdown",
   "metadata": {},
   "source": [
    "А вот так уже нельзя."
   ]
  },
  {
   "cell_type": "code",
   "execution_count": 5,
   "metadata": {},
   "outputs": [
    {
     "name": "stdout",
     "output_type": "stream",
     "text": [
      "Fib num: 0 fib values: 0\n",
      "Fib num: 1 fib values: 1\n",
      "Fib num: 2 fib values: 1\n",
      "Fib num: 3 fib values: 2\n"
     ]
    }
   ],
   "source": [
    "new_generator = fib()\n",
    "for i in range(0, 3):\n",
    "    for j, fib_val in enumerate(new_generator):\n",
    "        print (\"Fib num: \" + str(j) + \" fib values: \" + str(fib_val))"
   ]
  },
  {
   "cell_type": "markdown",
   "metadata": {},
   "source": [
    "Концепция крайне удобная для обучения  моделей $-$ у Вас есть некий источник данных, который Вам выдает их кусками, и Вам совершенно все равно откуда он их берет. Под ним может скрывать как массив в оперативной памяти, как файл на жестком диске, так и SQL база данных. Вы сами данные никуда не сохраняете, оперативную память экономите."
   ]
  },
  {
   "cell_type": "markdown",
   "metadata": {},
   "source": [
    "Если Вам понравилась идея с генераторами, то Вы можете реализовать свой, используя прототип batch_generator. В нем Вам нужно выдавать батчи признаков и ответов для каждой новой итерации спуска. Если не понравилась идея, то можете реализовывать SGD или mini-batch GD без генераторов."
   ]
  },
  {
   "cell_type": "code",
   "execution_count": 2,
   "metadata": {},
   "outputs": [],
   "source": [
    "def batch_generator(X, y, shuffle=True, batch_size=1):\n",
    "    \"\"\"\n",
    "    Гератор новых батчей для обучения\n",
    "    X          - матрица объекты-признаки\n",
    "    y_batch    - вектор ответов\n",
    "    shuffle    - нужно ли случайно перемешивать выборку\n",
    "    batch_size - размер батча ( 1 это SGD, > 1 mini-batch GD)\n",
    "    Генерирует подвыборку для итерации спуска (X_batch, y_batch)\n",
    "    \"\"\"\n",
    "    X_batch = np.array(X)\n",
    "    y_batch = np.array(y)\n",
    "    if not shuffle:\n",
    "        start = 0\n",
    "        end = batch_size\n",
    "        while end < y_batch.size:\n",
    "            yield (X_batch[start:end], y_batch[start:end])\n",
    "            start += batch_size\n",
    "            end += batch_size\n",
    "        yield (X_batch[start::], y_batch[start::])\n",
    "    else:\n",
    "        ind = np.array(range(y.size))\n",
    "        while ind.size > batch_size:\n",
    "            batch_ind = np.random.choice(np.arange(ind.size), size=batch_size, replace=False)\n",
    "            batch = ind[batch_ind]\n",
    "            ind = np.delete(ind, batch_ind)\n",
    "            yield(X[batch], y[batch])\n",
    "        yield(X[ind], y[ind])\n",
    "\n",
    "# Теперь можно сделать генератор по данным ()\n",
    "#  my_batch_generator = batch_generator(X, y, shuffle=True, batch_size=1):"
   ]
  },
  {
   "cell_type": "code",
   "execution_count": 9,
   "metadata": {},
   "outputs": [],
   "source": [
    "#%%pycodestyle\n",
    "from sklearn.base import BaseEstimator, ClassifierMixin\n",
    "from math import log2, log\n",
    "\n",
    "def sigmoid(x):\n",
    "    \"\"\"\n",
    "    Вычисляем значение сигмоида.\n",
    "    X - выход линейной модели\n",
    "    \"\"\"\n",
    "    sigm_value_x = 1 / (1 + np.exp(-x))\n",
    "    return sigm_value_x \n",
    "\n",
    "def mylog2(x):\n",
    "    if x == 0.0:\n",
    "        return -1.3e+70\n",
    "    return log2(x)\n",
    "\n",
    "\n",
    "class MySGDClassifier(BaseEstimator, ClassifierMixin):\n",
    "    \n",
    "    def __init__(self, batch_generator, C=1, alpha=0.01, max_epoch=10, model_type='lin_reg', batch_size = 1, border = 0.5):\n",
    "        \"\"\"\n",
    "        batch_generator -- функция генератор, которой будем создавать батчи\n",
    "        C - коэф. регуляризации\n",
    "        alpha - скорость спуска\n",
    "        max_epoch - максимальное количество эпох\n",
    "        model_type - тим модели, lin_reg или log_reg\n",
    "        \"\"\"\n",
    "        \n",
    "        self.C = C\n",
    "        self.alpha = alpha\n",
    "        self.max_epoch = max_epoch\n",
    "        self.batch_generator = batch_generator\n",
    "        self.errors_log = {'iter' : [], 'loss' : []}  \n",
    "        self.model_type = model_type\n",
    "        self.batch_size = batch_size\n",
    "        self.border = border\n",
    "        \n",
    "    def calc_loss(self, X_batch, y_batch):\n",
    "        \"\"\"\n",
    "        Считаем функцию потерь по батчу \n",
    "        X_batch - матрица объекты-признаки по батчу\n",
    "        y_batch - вектор ответов по батчу\n",
    "        Не забудте тип модели (линейная или логистическая регрессия)!\n",
    "        \"\"\"\n",
    "        X = np.array(X_batch)\n",
    "        add = np.array([1] * (X.shape[0]))\n",
    "        add = add.reshape(-1, 1)\n",
    "        X = np.hstack((add, X))\n",
    "        y = np.array(y_batch)\n",
    "        w = np.array(self.weights)\n",
    "        loss = X * w\n",
    "        loss = loss.sum(axis=1)\n",
    "        loss = loss.reshape(1, -1)\n",
    "        loss = loss.ravel()\n",
    "        if self.model_type == 'lin_reg':\n",
    "            loss = loss - y\n",
    "            loss = loss ** 2\n",
    "            loss = loss.sum()\n",
    "        elif self.model_type == 'log_reg':\n",
    "            loss = sigmoid(loss)\n",
    "            one_loss = loss[np.where(y == 1)]\n",
    "            one_loss = np.array(list(map(mylog2, one_loss)))\n",
    "            one_loss_sum = np.sum(one_loss)\n",
    "            zero_loss = loss[np.where(y == 0)]\n",
    "            zero_loss = zero_loss + 1\n",
    "            zero_loss = np.array(list(map(mylog2, zero_loss)))\n",
    "            zero_loss_sum = zero_loss.sum()\n",
    "            loss = zero_loss_sum + one_loss_sum\n",
    "            loss = -loss\n",
    "        loss /= y.size\n",
    "        reg = w ** 2\n",
    "        reg = reg.sum()\n",
    "        reg /= self.C\n",
    "        loss += reg\n",
    "        return loss\n",
    "\n",
    "    \n",
    "    def calc_loss_grad(self, X_batch, y_batch):\n",
    "        \"\"\"\n",
    "        Считаем  градиент функции потерь по батчу (то что Вы вывели в задании 1)\n",
    "        X_batch - матрица объекты-признаки по батчу\n",
    "        y_batch - вектор ответов по батчу\n",
    "        Не забудте тип модели (линейная или логистическая регрессия)!\n",
    "        \"\"\"\n",
    "        X = np.array(X_batch)\n",
    "        add = np.array([1] * (X.shape[0]))\n",
    "        add = add.reshape(-1, 1)\n",
    "        X = np.hstack((add, X))\n",
    "        y = np.array(y_batch).reshape(1, -1)\n",
    "        w = np.array(self.weights).reshape(1, -1)\n",
    "        a = X * w\n",
    "        a = a.sum(axis=1)\n",
    "        a = a.ravel()\n",
    "        if self.model_type == 'log_reg':\n",
    "            a = sigmoid(a) \n",
    "        a = a - y\n",
    "        a = a.reshape(-1, 1)\n",
    "        loss_grad = X * a\n",
    "        loss_grad = loss_grad.mean(axis=0)\n",
    "        reg = w / self.C\n",
    "        if self.model_type == 'log_reg':\n",
    "            loss_grad = loss_grad / np.log(2)\n",
    "            reg = reg * 2\n",
    "        loss_grad = loss_grad + reg\n",
    "        return loss_grad\n",
    "\n",
    "    \n",
    "    def update_weights(self, new_grad):\n",
    "        \"\"\"\n",
    "        Обновляем вектор весов\n",
    "        new_grad - градиент по батчу\n",
    "        \"\"\"\n",
    "        self.weights = self.weights - (new_grad * self.alpha)\n",
    "    \n",
    "    def fit(self, X, y):\n",
    "        '''\n",
    "        Обучение модели\n",
    "        X - матрица объекты-признаки\n",
    "        y - вектор ответов\n",
    "        '''\n",
    "        \n",
    "        # Нужно инициализровать случайно веса\n",
    "        X = np.array(X)\n",
    "        y = np.array(y)\n",
    "        self.weights = np.random.randint(1, 100, size=(X.shape[1] + 1)).astype(float)\n",
    "        for n in range(self.max_epoch):\n",
    "            new_epoch_generator = self.batch_generator(X, y, shuffle=True, batch_size = self.batch_size)\n",
    "            for batch_num, new_batch in enumerate(new_epoch_generator):\n",
    "                X_batch = new_batch[0]\n",
    "                y_batch = new_batch[1]\n",
    "                batch_grad = self.calc_loss_grad(X_batch, y_batch)\n",
    "                batch_loss = self.calc_loss(X_batch, y_batch)\n",
    "                self.update_weights(batch_grad)\n",
    "                self.errors_log['iter'].append(batch_num)\n",
    "                self.errors_log['loss'].append(batch_loss)\n",
    "        batch_loss = self.calc_loss(X, y)\n",
    "        self.errors_log['loss'].append(batch_loss)\n",
    "        return self\n",
    "        \n",
    "    def predict(self, X):\n",
    "        '''\n",
    "        Предсказание класса\n",
    "        X - матрица объекты-признаки\n",
    "        Не забудте тип модели (линейная или логистическая регрессия)!\n",
    "        '''\n",
    "        \n",
    "        # Желательно здесь использовать матричные операции между X и весами, например, numpy.dot \n",
    "        X = np.array(X)\n",
    "        tmp = np.array([1] * (X.shape[0]))\n",
    "        tmp = tmp.reshape(-1, 1)\n",
    "        X = np.hstack((tmp, X))\n",
    "        weights = np.array(self.weights)\n",
    "        y_hat = X * weights\n",
    "        y_hat = y_hat.sum(axis=1)\n",
    "        y_hat = y_hat.ravel()\n",
    "        if self.model_type == 'log_reg':\n",
    "            y_hat = sigmoid(y_hat)\n",
    "            y_hat = (y_hat >= self.border).astype(int) \n",
    "        return y_hat\n"
   ]
  },
  {
   "cell_type": "markdown",
   "metadata": {},
   "source": [
    "Запустите обе регрессии на синтетических данных. \n",
    "\n",
    "\n",
    "Выведите полученные веса и нарисуйте разделяющую границу между классами (используйте только первых два веса для первых двух признаков X[:,0], X[:,1] для отображения в 2d пространство ).  "
   ]
  },
  {
   "cell_type": "code",
   "execution_count": 18,
   "metadata": {},
   "outputs": [],
   "source": [
    "def plot_decision_boundary(clf):\n",
    "    x = np.linspace(-50, 50)\n",
    "    weigths = clf.weights[0]\n",
    "    y = ((weigths[1]) * x + weigths[0])/(-weigths[2])\n",
    "    line1, = plt.plot(x, y, '-g', label='mySGD')\n",
    "    return line1"
   ]
  },
  {
   "cell_type": "code",
   "execution_count": 19,
   "metadata": {},
   "outputs": [
    {
     "name": "stdout",
     "output_type": "stream",
     "text": [
      "[[-4.27896002  1.05410902 -0.87467499]]\n"
     ]
    },
    {
     "data": {
      "image/png": "[encoded data removed]",
      "text/plain": [
       "<Figure size 864x360 with 1 Axes>"
      ]
     },
     "metadata": {},
     "output_type": "display_data"
    }
   ],
   "source": [
    "from sklearn.linear_model import SGDClassifier\n",
    "\n",
    "np.random.seed(0)\n",
    "\n",
    "C1 = np.array([[0., -0.8], [1.5, 0.8]])\n",
    "C2 = np.array([[1., -0.7], [2., 0.7]])\n",
    "gauss1 = np.dot(np.random.randn(200, 2) + np.array([5, 3]), C1)\n",
    "gauss2 = np.dot(np.random.randn(200, 2) + np.array([1.5, 0]), C2)\n",
    "\n",
    "X = np.vstack([gauss1, gauss2])\n",
    "y = np.r_[np.ones(200), np.zeros(200)]\n",
    "\n",
    "my_clf = MySGDClassifier(batch_generator, C = 300, max_epoch = 30, model_type='log_reg', alpha=0.03)\n",
    "my_clf.fit(X, y)\n",
    "\n",
    "clf = SGDClassifier(loss='log').fit(X, y)\n",
    "x = np.linspace(-50, 50)\n",
    "k = ((clf.coef_[0][0]) * x)/(-clf.coef_[0][1])\n",
    "line2, = plt.plot(x, k, '-r', label='sklearn')\n",
    "\n",
    "line1 = plot_decision_boundary(my_clf)\n",
    "print(my_clf.weights)\n",
    "\n",
    "plt.legend(handles=[line1, line2])\n",
    "plt.ylim(-10, 10)\n",
    "plt.xlim(-8, 10)\n",
    "plt.scatter(X[:, 0], X[:, 1], c=y)\n",
    "plt.show()"
   ]
  },
  {
   "cell_type": "code",
   "execution_count": 20,
   "metadata": {},
   "outputs": [
    {
     "name": "stdout",
     "output_type": "stream",
     "text": [
      "[ 0.14354486 -0.17043888]\n",
      "[[-0.18827782  0.23820918 -0.05924088]]\n"
     ]
    },
    {
     "data": {
      "image/png": "[encoded data removed]",
      "text/plain": [
       "<Figure size 864x360 with 1 Axes>"
      ]
     },
     "metadata": {},
     "output_type": "display_data"
    }
   ],
   "source": [
    "from sklearn.linear_model import LinearRegression\n",
    "\n",
    "np.random.seed(0)\n",
    "\n",
    "C1 = np.array([[0., -0.8], [1.5, 0.8]])\n",
    "C2 = np.array([[1., -0.7], [2., 0.7]])\n",
    "gauss1 = np.dot(np.random.randn(200, 2) + np.array([5, 3]), C1)\n",
    "gauss2 = np.dot(np.random.randn(200, 2) + np.array([1.5, 0]), C2)\n",
    "\n",
    "X = np.vstack([gauss1, gauss2])\n",
    "y = np.r_[np.ones(200), np.zeros(200)]\n",
    "\n",
    "my_clf = MySGDClassifier(batch_generator, C = 300, max_epoch = 30, model_type='lin_reg', alpha=0.05)\n",
    "my_clf.fit(X, y)\n",
    "\n",
    "clf = LinearRegression().fit(X, y)\n",
    "\n",
    "print(clf.coef_)\n",
    "x = np.linspace(-50, 50)\n",
    "k = ((clf.coef_[0]) * x)/(-clf.coef_[1])\n",
    "line2, = plt.plot(x, k, '-r', label='sklearn')\n",
    "\n",
    "line1 = plot_decision_boundary(my_clf)\n",
    "print(my_clf.weights)\n",
    "\n",
    "plt.legend(handles=[line1, line2])\n",
    "plt.ylim(-10, 10)\n",
    "plt.xlim(-8, 10)\n",
    "plt.scatter(X[:, 0], X[:, 1], c=y)\n",
    "plt.show()"
   ]
  },
  {
   "cell_type": "markdown",
   "metadata": {},
   "source": [
    "Далее будем анализировать Ваш алгоритм. \n",
    "Для этих заданий используйте датасет ниже."
   ]
  },
  {
   "cell_type": "code",
   "execution_count": 21,
   "metadata": {},
   "outputs": [],
   "source": [
    "from sklearn.datasets import make_classification"
   ]
  },
  {
   "cell_type": "code",
   "execution_count": 22,
   "metadata": {},
   "outputs": [],
   "source": [
    "X, y = make_classification(n_samples=100000, n_features=10, \n",
    "                           n_informative=4, n_redundant=0, \n",
    "                           random_state=123, class_sep=1.0,\n",
    "                           n_clusters_per_class=1)"
   ]
  },
  {
   "cell_type": "markdown",
   "metadata": {},
   "source": [
    "Покажите сходимости обеих регрессией на этом датасете: изобразите график  функции потерь, усредненной по $N$ шагам градиентого спуска, для разных `alpha` (размеров шага). Разные `alpha` расположите на одном графике. \n",
    "\n",
    "$N$ можно брать 10, 50, 100 и т.д. "
   ]
  },
  {
   "cell_type": "code",
   "execution_count": 23,
   "metadata": {},
   "outputs": [
    {
     "data": {
      "image/png": "[encoded data removed]",
      "text/plain": [
       "<Figure size 864x360 with 1 Axes>"
      ]
     },
     "metadata": {},
     "output_type": "display_data"
    }
   ],
   "source": [
    "alpha = [0.01, 0.05, 0.15, 0.25, 0.5, 0.1]\n",
    "line_mas = []\n",
    "for coef in alpha:\n",
    "    clf = MySGDClassifier(batch_generator, model_type='log_reg', alpha=coef, batch_size = 1000)\n",
    "    clf.fit(X, y)\n",
    "    N_mas = [10, 50, 100, 200, 300, 500, 1000]\n",
    "    mas = []\n",
    "    for i in N_mas:\n",
    "        mas.append(np.mean(clf.errors_log['loss'][:i]))\n",
    "    line, = plt.plot(N_mas, mas, label=coef)\n",
    "    line_mas.append(line)\n",
    "plt.legend(handles=line_mas)\n",
    "plt.show()"
   ]
  },
  {
   "cell_type": "code",
   "execution_count": 24,
   "metadata": {},
   "outputs": [
    {
     "data": {
      "image/png": "[encoded data removed]",
      "text/plain": [
       "<Figure size 864x360 with 1 Axes>"
      ]
     },
     "metadata": {},
     "output_type": "display_data"
    }
   ],
   "source": [
    "alpha = [0.001, 0.0025, 0.01, 0.03, 0.05, 0.06]\n",
    "line_mas = []\n",
    "for coef in alpha:\n",
    "    clf = MySGDClassifier(batch_generator, model_type='lin_reg', alpha=coef, batch_size = 1000)\n",
    "    clf.fit(X, y)\n",
    "    N_mas = [10, 50, 100, 200, 300, 500, 1000]\n",
    "    mas = []\n",
    "    for i in N_mas:\n",
    "        mas.append(np.mean(clf.errors_log['loss'][:i]))\n",
    "    line, = plt.plot(N_mas, mas, label=coef)\n",
    "    line_mas.append(line)\n",
    "plt.legend(handles=line_mas)\n",
    "plt.show()"
   ]
  },
  {
   "cell_type": "markdown",
   "metadata": {},
   "source": [
    "Что Вы можете сказать про сходимость метода при различных `alpha`? Какое значение стоит выбирать для лучшей сходимости"
   ]
  },
  {
   "cell_type": "markdown",
   "metadata": {},
   "source": [
    "Изобразите график среднего значения весов для обеих регрессий в зависимости от коеф. регуляризации С из `np.logspace(3, -3, 10)` "
   ]
  },
  {
   "cell_type": "code",
   "execution_count": 25,
   "metadata": {},
   "outputs": [
    {
     "name": "stderr",
     "output_type": "stream",
     "text": [
      "<ipython-input-9-0c7f7cb6c891>:10: RuntimeWarning: overflow encountered in exp\n",
      "  sigm_value_x = 1 / (1 + np.exp(-x))\n",
      "<ipython-input-9-0c7f7cb6c891>:74: RuntimeWarning: overflow encountered in double_scalars\n",
      "  reg /= self.C\n",
      "<ipython-input-9-0c7f7cb6c891>:72: RuntimeWarning: overflow encountered in square\n",
      "  reg = w ** 2\n",
      "/Users/yanisplevokas/opt/anaconda3/lib/python3.8/site-packages/numpy/core/_methods.py:38: RuntimeWarning: overflow encountered in reduce\n",
      "  return umr_sum(a, axis, dtype, out, keepdims, initial, where)\n",
      "<ipython-input-9-0c7f7cb6c891>:101: RuntimeWarning: overflow encountered in true_divide\n",
      "  reg = w / self.C\n",
      "<ipython-input-9-0c7f7cb6c891>:104: RuntimeWarning: overflow encountered in multiply\n",
      "  reg = reg * 2\n",
      "/Users/yanisplevokas/opt/anaconda3/lib/python3.8/site-packages/numpy/core/_methods.py:38: RuntimeWarning: invalid value encountered in reduce\n",
      "  return umr_sum(a, axis, dtype, out, keepdims, initial, where)\n"
     ]
    },
    {
     "data": {
      "image/png": "[encoded data removed]",
      "text/plain": [
       "<Figure size 864x360 with 1 Axes>"
      ]
     },
     "metadata": {},
     "output_type": "display_data"
    }
   ],
   "source": [
    "x = np.logspace(3, -3, 10)\n",
    "mas = []\n",
    "for i in x:\n",
    "    clf = MySGDClassifier(batch_generator, model_type='log_reg', C=i, batch_size = 1000)\n",
    "    clf.fit(X, y)\n",
    "    mas.append(np.mean(clf.weights))\n",
    "plt.plot(x, mas)\n",
    "plt.show()"
   ]
  },
  {
   "cell_type": "code",
   "execution_count": 26,
   "metadata": {},
   "outputs": [
    {
     "data": {
      "image/png": "[encoded data removed]",
      "text/plain": [
       "<Figure size 864x360 with 1 Axes>"
      ]
     },
     "metadata": {},
     "output_type": "display_data"
    }
   ],
   "source": [
    "x = np.logspace(3, -3, 10)\n",
    "mas = []\n",
    "for i in x:\n",
    "    clf = MySGDClassifier(batch_generator,alpha = 0.001, model_type='lin_reg', C=i, batch_size = 1000)\n",
    "    clf.fit(X, y)\n",
    "    mas.append(np.mean(clf.weights))\n",
    "plt.plot(x, mas)\n",
    "plt.show()"
   ]
  },
  {
   "cell_type": "markdown",
   "metadata": {},
   "source": [
    "Довольны ли Вы, насколько сильно уменьшились Ваши веса? "
   ]
  },
  {
   "cell_type": "markdown",
   "metadata": {},
   "source": [
    "# Боевое применение (4  балла)\n",
    "\n",
    "**Защита данной части возможна только при преодолении в проекте бейзлайна Handmade baseline.**"
   ]
  },
  {
   "cell_type": "markdown",
   "metadata": {},
   "source": [
    "Давайте применим модель на итоговом проекте! Датасет сделаем точно таким же образом, как было показано в project_overview.ipynb\n",
    "\n",
    "Применим обе регрессии, подберем для них параметры и сравним качество. Может быть Вы еще одновременно с решением домашней работы подрастете на лидерборде!"
   ]
  },
  {
   "cell_type": "code",
   "execution_count": 27,
   "metadata": {},
   "outputs": [
    {
     "name": "stdout",
     "output_type": "stream",
     "text": [
      "28026\n"
     ]
    }
   ],
   "source": [
    "doc_to_title = {}\n",
    "with open('./anomaly-detection-competition-ml1-ts-fall-2020/docs_titles.tsv') as f:\n",
    "    for num_line, line in enumerate(f):\n",
    "        if num_line == 0:\n",
    "            continue\n",
    "        data = line.strip().split('\\t', 1)\n",
    "        doc_id = int(data[0])\n",
    "        if len(data) == 1:\n",
    "            title = ''\n",
    "        else:\n",
    "            title = data[1]\n",
    "        doc_to_title[doc_id] = title\n",
    "print (len(doc_to_title))\n"
   ]
  },
  {
   "cell_type": "code",
   "execution_count": 28,
   "metadata": {},
   "outputs": [],
   "source": [
    "import pandas as pd\n",
    "train_data = pd.read_csv('./anomaly-detection-competition-ml1-ts-fall-2020/train_groups.csv')\n",
    "traingroups_titledata = {}\n",
    "for i in range(len(train_data)):\n",
    "    new_doc = train_data.iloc[i]\n",
    "    doc_group = new_doc['group_id']\n",
    "    doc_id = new_doc['doc_id']\n",
    "    target = new_doc['target']\n",
    "    title = doc_to_title[doc_id]\n",
    "    if doc_group not in traingroups_titledata:\n",
    "        traingroups_titledata[doc_group] = []\n",
    "    traingroups_titledata[doc_group].append((doc_id, title, target))"
   ]
  },
  {
   "cell_type": "code",
   "execution_count": 29,
   "metadata": {},
   "outputs": [
    {
     "data": {
      "text/html": [
       "<div>\n",
       "<style scoped>\n",
       "    .dataframe tbody tr th:only-of-type {\n",
       "        vertical-align: middle;\n",
       "    }\n",
       "\n",
       "    .dataframe tbody tr th {\n",
       "        vertical-align: top;\n",
       "    }\n",
       "\n",
       "    .dataframe thead th {\n",
       "        text-align: right;\n",
       "    }\n",
       "</style>\n",
       "<table border=\"1\" class=\"dataframe\">\n",
       "  <thead>\n",
       "    <tr style=\"text-align: right;\">\n",
       "      <th></th>\n",
       "      <th>pair_id</th>\n",
       "      <th>group_id</th>\n",
       "      <th>doc_id</th>\n",
       "      <th>target</th>\n",
       "    </tr>\n",
       "  </thead>\n",
       "  <tbody>\n",
       "    <tr>\n",
       "      <th>0</th>\n",
       "      <td>1</td>\n",
       "      <td>1</td>\n",
       "      <td>15731</td>\n",
       "      <td>0</td>\n",
       "    </tr>\n",
       "    <tr>\n",
       "      <th>1</th>\n",
       "      <td>2</td>\n",
       "      <td>1</td>\n",
       "      <td>14829</td>\n",
       "      <td>0</td>\n",
       "    </tr>\n",
       "    <tr>\n",
       "      <th>2</th>\n",
       "      <td>3</td>\n",
       "      <td>1</td>\n",
       "      <td>15764</td>\n",
       "      <td>0</td>\n",
       "    </tr>\n",
       "    <tr>\n",
       "      <th>3</th>\n",
       "      <td>4</td>\n",
       "      <td>1</td>\n",
       "      <td>17669</td>\n",
       "      <td>0</td>\n",
       "    </tr>\n",
       "    <tr>\n",
       "      <th>4</th>\n",
       "      <td>5</td>\n",
       "      <td>1</td>\n",
       "      <td>14852</td>\n",
       "      <td>0</td>\n",
       "    </tr>\n",
       "  </tbody>\n",
       "</table>\n",
       "</div>"
      ],
      "text/plain": [
       "   pair_id  group_id  doc_id  target\n",
       "0        1         1   15731       0\n",
       "1        2         1   14829       0\n",
       "2        3         1   15764       0\n",
       "3        4         1   17669       0\n",
       "4        5         1   14852       0"
      ]
     },
     "execution_count": 29,
     "metadata": {},
     "output_type": "execute_result"
    }
   ],
   "source": [
    "train_data.head()"
   ]
  },
  {
   "cell_type": "code",
   "execution_count": 30,
   "metadata": {},
   "outputs": [
    {
     "name": "stdout",
     "output_type": "stream",
     "text": [
      "(11690, 15) (11690,) (11690,)\n"
     ]
    }
   ],
   "source": [
    "import numpy as np\n",
    "y_train = []\n",
    "X_train = []\n",
    "groups_train = []\n",
    "for new_group in traingroups_titledata:\n",
    "    docs = traingroups_titledata[new_group]\n",
    "    for k, (doc_id, title, target_id) in enumerate(docs):\n",
    "        y_train.append(target_id)\n",
    "        groups_train.append(new_group)\n",
    "        all_dist = []\n",
    "        words = set(title.strip().split())\n",
    "        for j in range(0, len(docs)):\n",
    "            if k == j:\n",
    "                continue\n",
    "            doc_id_j, title_j, target_j = docs[j]\n",
    "            words_j = set(title_j.strip().split())\n",
    "            all_dist.append(len(words.intersection(words_j)))\n",
    "        X_train.append(sorted(all_dist, reverse=True)[0:15]    )\n",
    "X_train = np.array(X_train)\n",
    "y_train = np.array(y_train)\n",
    "groups_train = np.array(groups_train)\n",
    "print (X_train.shape, y_train.shape, groups_train.shape)"
   ]
  },
  {
   "cell_type": "markdown",
   "metadata": {},
   "source": [
    "Подберите размер батча для обучения. Линейная модель не должна учиться дольше нескольких минут. \n",
    "\n",
    "Не забывайте использовать скейлер!"
   ]
  },
  {
   "cell_type": "code",
   "execution_count": 31,
   "metadata": {},
   "outputs": [],
   "source": [
    "from sklearn.metrics import f1_score\n",
    "from sklearn.linear_model import LinearRegression\n",
    "from sklearn.preprocessing import StandardScaler"
   ]
  },
  {
   "cell_type": "code",
   "execution_count": 32,
   "metadata": {},
   "outputs": [
    {
     "name": "stdout",
     "output_type": "stream",
     "text": [
      "(11690, 15)\n"
     ]
    }
   ],
   "source": [
    "scaler = StandardScaler()\n",
    "X = scaler.fit_transform(X_train, y_train)\n",
    "print(X.shape)"
   ]
  },
  {
   "cell_type": "code",
   "execution_count": 33,
   "metadata": {},
   "outputs": [
    {
     "name": "stderr",
     "output_type": "stream",
     "text": [
      "<ipython-input-9-0c7f7cb6c891>:10: RuntimeWarning: overflow encountered in exp\n",
      "  sigm_value_x = 1 / (1 + np.exp(-x))\n"
     ]
    },
    {
     "data": {
      "image/png": "[encoded data removed]",
      "text/plain": [
       "<Figure size 864x360 with 1 Axes>"
      ]
     },
     "metadata": {},
     "output_type": "display_data"
    }
   ],
   "source": [
    "batch_mas = [50, 100, 200, 300, 500, 1000]\n",
    "mas1 = []\n",
    "mas2 = []\n",
    "for i in batch_mas:\n",
    "    my_clf = MySGDClassifier(batch_generator, model_type='log_reg', batch_size=i)\n",
    "    my_clf.fit(X, y_train)\n",
    "    mas1.append(np.mean(my_clf.errors_log['loss'][-1]))\n",
    "    my_clf = MySGDClassifier(batch_generator, model_type='lin_reg', batch_size=i)\n",
    "    my_clf.fit(X, y_train)\n",
    "    mas2.append(np.mean(my_clf.errors_log['loss'][-1]))\n",
    "l1, = plt.plot(batch_mas, mas1, label='log_reg')\n",
    "l2, = plt.plot(batch_mas, mas2, label='lin_reg')\n",
    "plt.legend(handles=[l1, l2])\n",
    "plt.xlim(0, 600)\n",
    "plt.ylim(0, 10)\n",
    "plt.show()"
   ]
  },
  {
   "cell_type": "markdown",
   "metadata": {},
   "source": [
    "batch_size = 100"
   ]
  },
  {
   "cell_type": "markdown",
   "metadata": {},
   "source": [
    "Разбейте данные на обучение и валидацию. Подберите параметры C, alpha, max_epoch, model_type на валидации (Вы же помните, как правильно в этой задаче делать валидацию?)"
   ]
  },
  {
   "cell_type": "code",
   "execution_count": 34,
   "metadata": {},
   "outputs": [
    {
     "name": "stderr",
     "output_type": "stream",
     "text": [
      "<ipython-input-9-0c7f7cb6c891>:10: RuntimeWarning: overflow encountered in exp\n",
      "  sigm_value_x = 1 / (1 + np.exp(-x))\n"
     ]
    },
    {
     "name": "stdout",
     "output_type": "stream",
     "text": [
      "0.1 0.01 5 0.6178091796206294\n",
      "0.1 0.01 5 0.0216591919311663\n",
      "0.1 0.01 10 0.6171988753441877\n",
      "0.1 0.01 10 0.02052325516849883\n",
      "0.1 0.01 50 0.6179446024670532\n",
      "0.1 0.01 50 0.016972547145382322\n",
      "0.1 0.05 5 0.6174490139600578\n",
      "0.1 0.05 5 0.0029689210135276155\n",
      "0.1 0.05 10 0.6170326458163041\n",
      "0.1 0.05 10 0.0476362511304679\n",
      "0.1 0.05 50 0.6184575415827512\n",
      "0.1 0.05 50 0.010512778276929221\n",
      "0.1 0.15 5 0.6083748730066064\n"
     ]
    },
    {
     "name": "stderr",
     "output_type": "stream",
     "text": [
      "/Users/yanisplevokas/opt/anaconda3/lib/python3.8/site-packages/numpy/core/_methods.py:38: RuntimeWarning: overflow encountered in reduce\n",
      "  return umr_sum(a, axis, dtype, out, keepdims, initial, where)\n",
      "<ipython-input-9-0c7f7cb6c891>:58: RuntimeWarning: overflow encountered in square\n",
      "  loss = loss ** 2\n",
      "<ipython-input-9-0c7f7cb6c891>:74: RuntimeWarning: overflow encountered in double_scalars\n",
      "  reg /= self.C\n",
      "<ipython-input-9-0c7f7cb6c891>:72: RuntimeWarning: overflow encountered in square\n",
      "  reg = w ** 2\n"
     ]
    },
    {
     "name": "stdout",
     "output_type": "stream",
     "text": [
      "0.1 0.15 5 0.6155385949563004\n",
      "0.1 0.15 10 0.6132741160462528\n"
     ]
    },
    {
     "name": "stderr",
     "output_type": "stream",
     "text": [
      "/Users/yanisplevokas/opt/anaconda3/lib/python3.8/site-packages/numpy/core/_methods.py:151: RuntimeWarning: overflow encountered in reduce\n",
      "  ret = umr_sum(arr, axis, dtype, out, keepdims)\n",
      "/Users/yanisplevokas/opt/anaconda3/lib/python3.8/site-packages/numpy/core/_methods.py:38: RuntimeWarning: invalid value encountered in reduce\n",
      "  return umr_sum(a, axis, dtype, out, keepdims, initial, where)\n",
      "/Users/yanisplevokas/opt/anaconda3/lib/python3.8/site-packages/numpy/core/_methods.py:151: RuntimeWarning: invalid value encountered in reduce\n",
      "  ret = umr_sum(arr, axis, dtype, out, keepdims)\n",
      "<ipython-input-34-33dda4d69d53>:35: RuntimeWarning: invalid value encountered in greater_equal\n",
      "  scores.append(f1_score(y_train[test_ind], (clf.predict(X[test_ind]) >= 0.5)\n"
     ]
    },
    {
     "name": "stdout",
     "output_type": "stream",
     "text": [
      "0.1 0.15 10 0.0\n"
     ]
    },
    {
     "name": "stderr",
     "output_type": "stream",
     "text": [
      "<ipython-input-9-0c7f7cb6c891>:104: RuntimeWarning: overflow encountered in multiply\n",
      "  reg = reg * 2\n",
      "<ipython-input-9-0c7f7cb6c891>:159: RuntimeWarning: invalid value encountered in greater_equal\n",
      "  y_hat = (y_hat >= self.border).astype(int)\n"
     ]
    },
    {
     "name": "stdout",
     "output_type": "stream",
     "text": [
      "0.1 0.15 50 0.0\n",
      "0.1 0.15 50 0.0\n",
      "0.1 0.25 5 0.6104669885522415\n",
      "0.1 0.25 5 0.6152783270190924\n"
     ]
    },
    {
     "name": "stderr",
     "output_type": "stream",
     "text": [
      "<ipython-input-9-0c7f7cb6c891>:101: RuntimeWarning: overflow encountered in true_divide\n",
      "  reg = w / self.C\n"
     ]
    },
    {
     "name": "stdout",
     "output_type": "stream",
     "text": [
      "0.1 0.25 10 0.0\n",
      "0.1 0.25 10 0.0\n",
      "0.1 0.25 50 0.0\n",
      "0.1 0.25 50 0.0\n",
      "1 0.01 5 0.6164755946332884\n",
      "1 0.01 5 0.40102178406954075\n",
      "1 0.01 10 0.6151378512011317\n",
      "1 0.01 10 0.3131508958848663\n",
      "1 0.01 50 0.6143290255124274\n",
      "1 0.01 50 0.33585403767101446\n",
      "1 0.05 5 0.6141799361981902\n",
      "1 0.05 5 0.3458432872143668\n",
      "1 0.05 10 0.6167157431600528\n",
      "1 0.05 10 0.41910059379886394\n",
      "1 0.05 50 0.6143797279040104\n",
      "1 0.05 50 0.31209562080822173\n",
      "1 0.15 5 0.6019057614880129\n",
      "1 0.15 5 0.6067554806554821\n",
      "1 0.15 10 0.6148912394495275\n",
      "1 0.15 10 0.6147762583685698\n",
      "1 0.15 50 0.616692595177076\n",
      "1 0.15 50 0.6151180213069233\n",
      "1 0.25 5 0.5750895097078198\n",
      "1 0.25 5 0.615820891628687\n",
      "1 0.25 10 0.6132089304341809\n",
      "1 0.25 10 0.0\n",
      "1 0.25 50 0.6158726421476263\n",
      "1 0.25 50 0.0\n",
      "10 0.01 5 0.6138812099254144\n",
      "10 0.01 5 0.3703972101547644\n",
      "10 0.01 10 0.6111170127992297\n",
      "10 0.01 10 0.4045031162774535\n",
      "10 0.01 50 0.5785571260677593\n",
      "10 0.01 50 0.4745996698254688\n",
      "10 0.05 5 0.5968198720251209\n",
      "10 0.05 5 0.438905773003414\n",
      "10 0.05 10 0.5722223741570671\n",
      "10 0.05 10 0.4557228434528205\n",
      "10 0.05 50 0.5811251924564664\n",
      "10 0.05 50 0.44505631295131015\n",
      "10 0.15 5 0.5805084575015433\n",
      "10 0.15 5 0.4666788502929684\n",
      "10 0.15 10 0.5776061380088423\n",
      "10 0.15 10 0.49249848056005724\n",
      "10 0.15 50 0.5777307021125051\n",
      "10 0.15 50 0.5856462776130767\n",
      "10 0.25 5 0.5843512182812653\n",
      "10 0.25 5 0.6145532249516683\n",
      "10 0.25 10 0.5844906366962543\n",
      "10 0.25 10 0.6152581953671906\n",
      "10 0.25 50 0.5854500132053481\n",
      "10 0.25 50 0.0\n",
      "30 0.01 5 0.6139749767306236\n",
      "30 0.01 5 0.367821679061485\n",
      "30 0.01 10 0.6105064843341481\n",
      "30 0.01 10 0.37385928586881495\n",
      "30 0.01 50 0.595921321728479\n",
      "30 0.01 50 0.3764329114617442\n",
      "30 0.05 5 0.6112273552768251\n",
      "30 0.05 5 0.3947910751004529\n",
      "30 0.05 10 0.576813289810493\n",
      "30 0.05 10 0.40089102349799227\n",
      "30 0.05 50 0.5462919605809703\n",
      "30 0.05 50 0.4928346173344926\n",
      "30 0.15 5 0.5425301064880171\n",
      "30 0.15 5 0.33912453123112923\n",
      "30 0.15 10 0.5605919073580585\n",
      "30 0.15 10 0.4257831395518256\n",
      "30 0.15 50 0.5249133287701997\n",
      "30 0.15 50 0.5407827504891465\n",
      "30 0.25 5 0.574210687258433\n",
      "30 0.25 5 0.6148833233759817\n",
      "30 0.25 10 0.5603490918720201\n",
      "30 0.25 10 0.613967598118449\n",
      "30 0.25 50 0.5512401123958753\n",
      "30 0.25 50 0.0\n",
      "{'C': 0.1, 'alpha': 0.05, 'max_epoch': 50, 'model_type': 'log_reg'}\n",
      "0.6184575415827512\n"
     ]
    }
   ],
   "source": [
    "from sklearn.model_selection import KFold\n",
    "\n",
    "kf = KFold(n_splits=3, shuffle=True)\n",
    "\n",
    "mas_c = [0.1, 1, 10, 30]\n",
    "mas_alpha = [0.01, 0.05, 0.15, 0.25]\n",
    "mas_epoch = [5, 10, 50]\n",
    "\n",
    "best_set = {}\n",
    "max_score = 0.0\n",
    "\n",
    "for c in mas_c:\n",
    "    for alpha in mas_alpha:\n",
    "        for epoch in mas_epoch:\n",
    "            clf = MySGDClassifier(batch_generator, C=c, alpha=alpha, max_epoch=epoch, \n",
    "                                  model_type='log_reg', batch_size=100)\n",
    "            split = kf.split(X)\n",
    "            scores = []\n",
    "            for train_ind, test_ind in split:\n",
    "                clf.fit(X[train_ind], y_train[train_ind])\n",
    "                scores.append(f1_score(y_train[test_ind],\n",
    "                                       clf.predict(X[test_ind])))\n",
    "            score = np.mean(np.array(scores))\n",
    "            if score > max_score:\n",
    "                best_set = {'C': c, 'alpha': alpha,\n",
    "                            'max_epoch': epoch, 'model_type': 'log_reg'}\n",
    "                max_score = score\n",
    "            print(c, alpha, epoch, score)\n",
    "            clf = MySGDClassifier(batch_generator, C=c, alpha=alpha, max_epoch=epoch, \n",
    "                                  model_type='lin_reg', batch_size=100)\n",
    "            split = kf.split(X)\n",
    "            scores = []\n",
    "            for train_ind, test_ind in split:\n",
    "                clf.fit(X[train_ind], y_train[train_ind])\n",
    "                scores.append(f1_score(y_train[test_ind], (clf.predict(X[test_ind]) >= 0.5)\n",
    "                                       .astype(int)))\n",
    "            score = np.mean(np.array(scores))\n",
    "            if score > max_score:\n",
    "                best_set = {'C': c, 'alpha': alpha,\n",
    "                            'max_epoch': epoch, 'model_type': 'lin_reg'}\n",
    "                max_score = score\n",
    "            print(c, alpha, epoch, score)\n",
    "print(best_set)\n",
    "print(max_score)"
   ]
  },
  {
   "cell_type": "markdown",
   "metadata": {},
   "source": [
    "Подберите порог линейной модели, по достижении которого, Вы будете относить объект к классу 1. Вспомните, какую метрику мы оптимизируем в соревновании.  Как тогда правильно подобрать порог?"
   ]
  },
  {
   "cell_type": "code",
   "execution_count": 35,
   "metadata": {},
   "outputs": [
    {
     "name": "stderr",
     "output_type": "stream",
     "text": [
      "<ipython-input-9-0c7f7cb6c891>:10: RuntimeWarning: overflow encountered in exp\n",
      "  sigm_value_x = 1 / (1 + np.exp(-x))\n"
     ]
    },
    {
     "name": "stdout",
     "output_type": "stream",
     "text": [
      "0.1 0.4466131005572385\n",
      "0.15000000000000002 0.44660233762516777\n",
      "0.20000000000000004 0.44660587126259826\n",
      "0.25000000000000006 0.4466099861863655\n",
      "0.30000000000000004 0.4465612369599247\n",
      "0.3500000000000001 0.44657879671402156\n",
      "0.40000000000000013 0.44658943496182285\n",
      "0.45000000000000007 0.47772265409906306\n",
      "0.5000000000000001 0.6153596927130113\n",
      "0.5500000000000002 0.4705973855874222\n",
      "0.6000000000000002 0.06861688938980555\n",
      "0.6500000000000001 0.021811992741305086\n",
      "0.7000000000000002 0.008352947728650318\n",
      "0.7500000000000002 0.0\n",
      "0.8000000000000002 0.0\n",
      "0.8500000000000002 0.0\n",
      "0.6153596927130113\n",
      "0.5000000000000001\n"
     ]
    }
   ],
   "source": [
    "mas = np.arange(0.1, 0.9, 0.05)\n",
    "max_score = 0.0\n",
    "best_border = 0.0\n",
    "for i in mas:\n",
    "    clf = MySGDClassifier(batch_generator, C=0.1, alpha=0.05, max_epoch=50, model_type='log_reg', batch_size=100, border=i)\n",
    "    split = kf.split(X)\n",
    "    scores = []\n",
    "    for train_ind, test_ind in split:\n",
    "        clf.fit(X[train_ind], y_train[train_ind])\n",
    "        scores.append(f1_score(y_train[test_ind], clf.predict(X[test_ind])))\n",
    "    score = np.mean(np.array(scores))\n",
    "    if score > max_score:\n",
    "        max_score = score\n",
    "        best_border = i\n",
    "    print(i, score)\n",
    "print(max_score)\n",
    "print(best_border)"
   ]
  },
  {
   "cell_type": "code",
   "execution_count": 36,
   "metadata": {},
   "outputs": [],
   "source": [
    "test_data = pd.read_csv('./anomaly-detection-competition-ml1-ts-fall-2020/test_groups.csv')\n",
    "testgroups_titledata = {}\n",
    "for i in range(len(test_data)):\n",
    "    new_doc = test_data.iloc[i]\n",
    "    doc_group = new_doc['group_id']\n",
    "    doc_id = new_doc['doc_id']\n",
    "    title = doc_to_title[doc_id]\n",
    "    if doc_group not in testgroups_titledata:\n",
    "        testgroups_titledata[doc_group] = []\n",
    "    testgroups_titledata[doc_group].append((doc_id, title))"
   ]
  },
  {
   "cell_type": "code",
   "execution_count": 37,
   "metadata": {},
   "outputs": [
    {
     "data": {
      "text/html": [
       "<div>\n",
       "<style scoped>\n",
       "    .dataframe tbody tr th:only-of-type {\n",
       "        vertical-align: middle;\n",
       "    }\n",
       "\n",
       "    .dataframe tbody tr th {\n",
       "        vertical-align: top;\n",
       "    }\n",
       "\n",
       "    .dataframe thead th {\n",
       "        text-align: right;\n",
       "    }\n",
       "</style>\n",
       "<table border=\"1\" class=\"dataframe\">\n",
       "  <thead>\n",
       "    <tr style=\"text-align: right;\">\n",
       "      <th></th>\n",
       "      <th>pair_id</th>\n",
       "      <th>group_id</th>\n",
       "      <th>doc_id</th>\n",
       "    </tr>\n",
       "  </thead>\n",
       "  <tbody>\n",
       "    <tr>\n",
       "      <th>0</th>\n",
       "      <td>11691</td>\n",
       "      <td>130</td>\n",
       "      <td>6710</td>\n",
       "    </tr>\n",
       "    <tr>\n",
       "      <th>1</th>\n",
       "      <td>11692</td>\n",
       "      <td>130</td>\n",
       "      <td>4030</td>\n",
       "    </tr>\n",
       "    <tr>\n",
       "      <th>2</th>\n",
       "      <td>11693</td>\n",
       "      <td>130</td>\n",
       "      <td>5561</td>\n",
       "    </tr>\n",
       "    <tr>\n",
       "      <th>3</th>\n",
       "      <td>11694</td>\n",
       "      <td>130</td>\n",
       "      <td>4055</td>\n",
       "    </tr>\n",
       "    <tr>\n",
       "      <th>4</th>\n",
       "      <td>11695</td>\n",
       "      <td>130</td>\n",
       "      <td>4247</td>\n",
       "    </tr>\n",
       "  </tbody>\n",
       "</table>\n",
       "</div>"
      ],
      "text/plain": [
       "   pair_id  group_id  doc_id\n",
       "0    11691       130    6710\n",
       "1    11692       130    4030\n",
       "2    11693       130    5561\n",
       "3    11694       130    4055\n",
       "4    11695       130    4247"
      ]
     },
     "execution_count": 37,
     "metadata": {},
     "output_type": "execute_result"
    }
   ],
   "source": [
    "test_data.head()"
   ]
  },
  {
   "cell_type": "code",
   "execution_count": 38,
   "metadata": {},
   "outputs": [
    {
     "name": "stdout",
     "output_type": "stream",
     "text": [
      "(16627, 15) (16627,)\n",
      "[130 130 130 ... 309 309 309]\n"
     ]
    }
   ],
   "source": [
    "X_test = []\n",
    "groups_test = []\n",
    "for new_group in testgroups_titledata:\n",
    "    docs = testgroups_titledata[new_group]\n",
    "    for k, (doc_id, title) in enumerate(docs):\n",
    "        groups_test.append(new_group)\n",
    "        all_dist = []\n",
    "        words = set(title.strip().split())\n",
    "        for j in range(len(docs)):\n",
    "            if k == j:\n",
    "                continue\n",
    "            doc_id_j, title_j = docs[j]\n",
    "            words_j = set(title_j.strip().split())\n",
    "            all_dist.append(len(words.intersection(words_j)))\n",
    "        X_test.append(sorted(all_dist, reverse=True)[:15])\n",
    "X_test = np.array(X_test)\n",
    "groups_test = np.array(groups_test)\n",
    "print(X_test.shape, groups_test.shape)\n",
    "print(groups_test)"
   ]
  },
  {
   "cell_type": "code",
   "execution_count": 39,
   "metadata": {},
   "outputs": [
    {
     "name": "stdout",
     "output_type": "stream",
     "text": [
      "[10895  5732]\n"
     ]
    }
   ],
   "source": [
    "clf = MySGDClassifier(batch_generator, C=0.1, alpha=0.05, max_epoch=50, model_type='log_reg', batch_size=100, border=0.5)\n",
    "clf.fit(X, y_train)\n",
    "\n",
    "scaler = StandardScaler()\n",
    "X_test = scaler.fit_transform(X_test)\n",
    "y = clf.predict(X_test)\n",
    "u, counts = np.unique(y, return_counts=True)\n",
    "print(counts)"
   ]
  },
  {
   "cell_type": "code",
   "execution_count": 40,
   "metadata": {},
   "outputs": [],
   "source": [
    "data = {'pair_id' : range(11691, 28318), 'target': y}\n",
    "res = pd.DataFrame(data)\n",
    "res.to_csv('sec_pred.csv', index=False)"
   ]
  },
  {
   "cell_type": "markdown",
   "metadata": {},
   "source": [
    "С лучшими параметрами на валидации сделайте предсказание на тестовом множестве, отправьте его на проверку на платформу kaggle. Убедитесь, что Вы смогли побить public score первого бейзлайна."
   ]
  },
  {
   "cell_type": "markdown",
   "metadata": {},
   "source": [
    "** При сдаче домашки Вам необходимо кроме ссылки на ноутбук показать Ваш ник на kaggle, под которым Вы залили решение, которое побило Handmade baseline. **"
   ]
  },
  {
   "cell_type": "code",
   "execution_count": null,
   "metadata": {
    "collapsed": true,
    "jupyter": {
     "outputs_hidden": true
    }
   },
   "outputs": [],
   "source": []
  },
  {
   "cell_type": "markdown",
   "metadata": {},
   "source": [
    "# Фидбек (бесценно)"
   ]
  },
  {
   "cell_type": "markdown",
   "metadata": {},
   "source": [
    "* Какие аспекты обучения линейных моделей Вам показались непонятными? Какое место стоит дополнительно объяснить?"
   ]
  },
  {
   "cell_type": "markdown",
   "metadata": {},
   "source": [
    "***Ваше ответ здесь***"
   ]
  },
  {
   "cell_type": "markdown",
   "metadata": {},
   "source": [
    "* Здесь Вы можете оставить отзыв о этой домашней работе или о всем курсе.   "
   ]
  },
  {
   "cell_type": "markdown",
   "metadata": {},
   "source": [
    "*** ВАШ ОТЗЫВ ЗДЕСЬ***"
   ]
  },
  {
   "cell_type": "code",
   "execution_count": null,
   "metadata": {
    "collapsed": true,
    "jupyter": {
     "outputs_hidden": true
    }
   },
   "outputs": [],
   "source": []
  },
  {
   "cell_type": "code",
   "execution_count": null,
   "metadata": {
    "collapsed": true,
    "jupyter": {
     "outputs_hidden": true
    }
   },
   "outputs": [],
   "source": []
  }
 ],
 "metadata": {
  "anaconda-cloud": {},
  "kernelspec": {
   "display_name": "Python 3",
   "language": "python",
   "name": "python3"
  },
  "language_info": {
   "codemirror_mode": {
    "name": "ipython",
    "version": 3
   },
   "file_extension": ".py",
   "mimetype": "text/x-python",
   "name": "python",
   "nbconvert_exporter": "python",
   "pygments_lexer": "ipython3",
   "version": "3.8.3"
  },
  "nav_menu": {},
  "toc": {
   "colors": {
    "hover_highlight": "#DAA520",
    "navigate_num": "#000000",
    "navigate_text": "#333333",
    "running_highlight": "#FF0000",
    "selected_highlight": "#FFD700",
    "sidebar_border": "#EEEEEE",
    "wrapper_background": "#FFFFFF"
   },
   "moveMenuLeft": true,
   "nav_menu": {
    "height": "402px",
    "width": "253px"
   },
   "navigate_menu": true,
   "number_sections": false,
   "sideBar": true,
   "threshold": 4,
   "toc_cell": false,
   "toc_section_display": "block",
   "toc_window_display": true,
   "widenNotebook": false
  }
 },
 "nbformat": 4,
 "nbformat_minor": 4
}
